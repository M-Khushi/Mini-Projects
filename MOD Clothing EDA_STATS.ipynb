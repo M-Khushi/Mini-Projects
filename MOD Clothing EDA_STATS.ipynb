{
 "cells": [
  {
   "cell_type": "markdown",
   "id": "7f4be3e5",
   "metadata": {},
   "source": [
    "# Project Name EDA and Statistical Analysis of Mod Clothing Dataset\n"
   ]
  },
  {
   "cell_type": "code",
   "execution_count": 1,
   "id": "61619850",
   "metadata": {},
   "outputs": [],
   "source": [
    "import numpy as np\n",
    "import pandas as pd\n",
    "import seaborn as sns\n",
    "import matplotlib.pyplot as plt\n",
    "import random\n",
    "from scipy import stats\n",
    "from scipy.stats import randint\n",
    "from scipy.stats import skewnorm\n",
    "from math import factorial\n",
    "import statsmodels.api as sm\n",
    "from scipy.stats import chi2_contingency\n",
    "from scipy.stats import chi2\n",
    "from scipy.stats import chisquare\n",
    "import warnings\n",
    "warnings.filterwarnings('ignore')"
   ]
  },
  {
   "cell_type": "markdown",
   "id": "f508c43b",
   "metadata": {},
   "source": [
    "# PART-A ( Concept Based)--25 points"
   ]
  },
  {
   "cell_type": "markdown",
   "id": "9a5822e7",
   "metadata": {},
   "source": [
    "#### The following data represents the price in dollars for branded shirts in a website NuCloth"
   ]
  },
  {
   "cell_type": "code",
   "execution_count": 2,
   "id": "cfc5dfa7",
   "metadata": {},
   "outputs": [
    {
     "data": {
      "text/html": [
       "<div>\n",
       "<style scoped>\n",
       "    .dataframe tbody tr th:only-of-type {\n",
       "        vertical-align: middle;\n",
       "    }\n",
       "\n",
       "    .dataframe tbody tr th {\n",
       "        vertical-align: top;\n",
       "    }\n",
       "\n",
       "    .dataframe thead th {\n",
       "        text-align: right;\n",
       "    }\n",
       "</style>\n",
       "<table border=\"1\" class=\"dataframe\">\n",
       "  <thead>\n",
       "    <tr style=\"text-align: right;\">\n",
       "      <th></th>\n",
       "      <th>price</th>\n",
       "    </tr>\n",
       "  </thead>\n",
       "  <tbody>\n",
       "    <tr>\n",
       "      <th>0</th>\n",
       "      <td>23</td>\n",
       "    </tr>\n",
       "    <tr>\n",
       "      <th>1</th>\n",
       "      <td>30</td>\n",
       "    </tr>\n",
       "    <tr>\n",
       "      <th>2</th>\n",
       "      <td>20</td>\n",
       "    </tr>\n",
       "    <tr>\n",
       "      <th>3</th>\n",
       "      <td>27</td>\n",
       "    </tr>\n",
       "    <tr>\n",
       "      <th>4</th>\n",
       "      <td>44</td>\n",
       "    </tr>\n",
       "  </tbody>\n",
       "</table>\n",
       "</div>"
      ],
      "text/plain": [
       "   price\n",
       "0     23\n",
       "1     30\n",
       "2     20\n",
       "3     27\n",
       "4     44"
      ]
     },
     "execution_count": 2,
     "metadata": {},
     "output_type": "execute_result"
    }
   ],
   "source": [
    "df=pd.DataFrame({'price':[23,30,20,27,44,26,35,20,29,29,\n",
    "                          25,15,18,27,19,22,12,26,34,15,\n",
    "                          27,35,26,43,35,14,24,12,23,31,\n",
    "                          40,35,38,57,22,42,24,21,27,33]})\n",
    "df.head()"
   ]
  },
  {
   "cell_type": "markdown",
   "id": "f3e391d1",
   "metadata": {},
   "source": [
    "## Q1. Compute the mean, median and the mode of the data"
   ]
  },
  {
   "cell_type": "code",
   "execution_count": 3,
   "id": "b90f0ae1",
   "metadata": {},
   "outputs": [
    {
     "name": "stdout",
     "output_type": "stream",
     "text": [
      "The mean of the price is  27.625\n",
      "The median of the price is  26.5\n",
      "The mode of the price is \n",
      " 0    27\n",
      "1    35\n",
      "Name: price, dtype: int64\n"
     ]
    }
   ],
   "source": [
    "# mean\n",
    "mean=df['price'].mean()\n",
    "print('The mean of the price is ',mean)\n",
    "\n",
    "# median\n",
    "median=df['price'].median()\n",
    "print('The median of the price is ',median)\n",
    "\n",
    "\n",
    "# mode\n",
    "mode=df['price'].mode()\n",
    "print('The mode of the price is \\n',mode)"
   ]
  },
  {
   "cell_type": "markdown",
   "id": "92d2a274",
   "metadata": {},
   "source": [
    "## Q2. Compute the range , variance and standard deviation of the data"
   ]
  },
  {
   "cell_type": "code",
   "execution_count": 4,
   "id": "65cb0736",
   "metadata": {},
   "outputs": [
    {
     "name": "stdout",
     "output_type": "stream",
     "text": [
      "The range of the price is  45\n",
      "The variance of the price is  92.59935897435898\n",
      "The standard deviation of the price is  9.622856071580774\n"
     ]
    }
   ],
   "source": [
    "# Range\n",
    "ran=df['price'].max()-df['price'].min()\n",
    "print('The range of the price is ',ran)\n",
    "\n",
    "\n",
    "# Varince\n",
    "var=df['price'].var()\n",
    "print('The variance of the price is ',var)\n",
    "\n",
    "\n",
    "# standard deviation\n",
    "sd=df['price'].std()\n",
    "print('The standard deviation of the price is ',sd)"
   ]
  },
  {
   "cell_type": "markdown",
   "id": "673cb38a",
   "metadata": {},
   "source": [
    "## Q3. Find the mean deviation for the data "
   ]
  },
  {
   "cell_type": "code",
   "execution_count": 5,
   "id": "75cd3613",
   "metadata": {},
   "outputs": [
    {
     "name": "stdout",
     "output_type": "stream",
     "text": [
      "mean deviation:  7.400000000000001\n"
     ]
    }
   ],
   "source": [
    "mean=np.mean(df['price'])\n",
    "n=len(df)\n",
    "mean_deviation=sum(np.abs(df['price']-mean)/n)\n",
    "print('mean deviation: ',mean_deviation)"
   ]
  },
  {
   "cell_type": "markdown",
   "id": "f37fde62",
   "metadata": {},
   "source": [
    "## Q4. Calculate the Pearson coefficient of skewness and comment on the skewness of the data"
   ]
  },
  {
   "cell_type": "code",
   "execution_count": 6,
   "id": "3cc4e29b",
   "metadata": {},
   "outputs": [
    {
     "name": "stdout",
     "output_type": "stream",
     "text": [
      " The calculated skewness is 0.3507274737245009\n"
     ]
    }
   ],
   "source": [
    "x_bar=np.mean(df['price'])\n",
    "s=np.std(df['price'],ddof=1)\n",
    "md=df['price'].median()\n",
    "skewness=3*(x_bar-md)/s\n",
    "print(f\" The calculated skewness is {skewness}\")"
   ]
  },
  {
   "cell_type": "raw",
   "id": "edf1bfb2",
   "metadata": {},
   "source": [
    "since the Pearson coefficient of skewness of price is 0.35 and it is little right skewed.\n",
    "hence when the distribution is positively skewed , the coefficient is positive."
   ]
  },
  {
   "cell_type": "markdown",
   "id": "2df3f51c",
   "metadata": {},
   "source": [
    "## Q5. Count the number of data values that fall within two standard deviations of the mean. Compare this with the answer from Chebyshev’s Theorem.\n"
   ]
  },
  {
   "cell_type": "code",
   "execution_count": 7,
   "id": "bafc217d",
   "metadata": {},
   "outputs": [],
   "source": [
    "# According to Chebyshev's Theorem, atleast 75% of the data lies between 2 standard deviations"
   ]
  },
  {
   "cell_type": "code",
   "execution_count": 8,
   "id": "a6fa364a",
   "metadata": {},
   "outputs": [
    {
     "name": "stdout",
     "output_type": "stream",
     "text": [
      "left_sd  8.621381923433631\n",
      "right_sd  46.62861807656637\n"
     ]
    }
   ],
   "source": [
    "right_sd=np.mean(df['price'])+(2*np.std(df['price']))\n",
    "left_sd=np.mean(df['price'])-(2*np.std(df['price']))\n",
    "print('left_sd ',left_sd)\n",
    "print('right_sd ',right_sd)"
   ]
  },
  {
   "cell_type": "code",
   "execution_count": 9,
   "id": "ddf71901",
   "metadata": {},
   "outputs": [
    {
     "name": "stdout",
     "output_type": "stream",
     "text": [
      "39 data values that fall within two standard deviations of the mean\n",
      "97.5 percentage of data values that fall within two standard deviations of the mean\n"
     ]
    }
   ],
   "source": [
    "count=len(df[(df['price']<=right_sd) & (df['price']>=left_sd)])\n",
    "print(count,'data values that fall within two standard deviations of the mean')\n",
    "\n",
    "percentage=(count/len(df))*100\n",
    "print(round(percentage,3), 'percentage of data values that fall within two standard deviations of the mean')"
   ]
  },
  {
   "cell_type": "markdown",
   "id": "d8a5eb28",
   "metadata": {},
   "source": [
    "## Q6. Find the three quartiles and the interquartile range (IQR)."
   ]
  },
  {
   "cell_type": "code",
   "execution_count": 10,
   "id": "4db227be",
   "metadata": {},
   "outputs": [
    {
     "name": "stdout",
     "output_type": "stream",
     "text": [
      "The first quantile is:  21.75\n",
      "The second quantile is:  26.5\n",
      "The third quantile is:  34.25\n",
      "The Interquartile range is:  12.5\n"
     ]
    }
   ],
   "source": [
    "q1=df['price'].quantile(0.25)\n",
    "q2=df['price'].quantile(0.50)\n",
    "q3=df['price'].quantile(0.75)\n",
    "IQR=q3-q1\n",
    "print('The first quantile is: ',q1)\n",
    "print('The second quantile is: ',q2)\n",
    "print('The third quantile is: ',q3)\n",
    "print('The Interquartile range is: ',IQR)"
   ]
  },
  {
   "cell_type": "markdown",
   "id": "4c209130",
   "metadata": {},
   "source": [
    "## Q7. Are there any outliers in the data set ?"
   ]
  },
  {
   "cell_type": "code",
   "execution_count": 11,
   "id": "c651ffbc",
   "metadata": {},
   "outputs": [
    {
     "data": {
      "text/html": [
       "<div>\n",
       "<style scoped>\n",
       "    .dataframe tbody tr th:only-of-type {\n",
       "        vertical-align: middle;\n",
       "    }\n",
       "\n",
       "    .dataframe tbody tr th {\n",
       "        vertical-align: top;\n",
       "    }\n",
       "\n",
       "    .dataframe thead th {\n",
       "        text-align: right;\n",
       "    }\n",
       "</style>\n",
       "<table border=\"1\" class=\"dataframe\">\n",
       "  <thead>\n",
       "    <tr style=\"text-align: right;\">\n",
       "      <th></th>\n",
       "      <th>price</th>\n",
       "    </tr>\n",
       "  </thead>\n",
       "  <tbody>\n",
       "    <tr>\n",
       "      <th>33</th>\n",
       "      <td>57</td>\n",
       "    </tr>\n",
       "  </tbody>\n",
       "</table>\n",
       "</div>"
      ],
      "text/plain": [
       "    price\n",
       "33     57"
      ]
     },
     "execution_count": 11,
     "metadata": {},
     "output_type": "execute_result"
    }
   ],
   "source": [
    "ll=q1-1.5*IQR\n",
    "ul=q3+1.5*IQR\n",
    "df[(df['price']<ll) | (df['price']>ul)]"
   ]
  },
  {
   "cell_type": "raw",
   "id": "e2817cc2",
   "metadata": {},
   "source": [
    "There is only one outlier in the dataset."
   ]
  },
  {
   "cell_type": "markdown",
   "id": "2ae0bd1a",
   "metadata": {},
   "source": [
    "## Q8. Draw a boxplot of the dataset to confirm ."
   ]
  },
  {
   "cell_type": "code",
   "execution_count": 12,
   "id": "a319aa08",
   "metadata": {},
   "outputs": [
    {
     "data": {
      "text/plain": [
       "<AxesSubplot:xlabel='price'>"
      ]
     },
     "execution_count": 12,
     "metadata": {},
     "output_type": "execute_result"
    },
    {
     "data": {
      "image/png": "[encoded data removed]",
      "text/plain": [
       "<Figure size 432x288 with 1 Axes>"
      ]
     },
     "metadata": {
      "needs_background": "light"
     },
     "output_type": "display_data"
    }
   ],
   "source": [
    "sns.boxplot(df['price'])"
   ]
  },
  {
   "cell_type": "markdown",
   "id": "e0e35cbd",
   "metadata": {},
   "source": [
    "## Q9. Find the percentile rank of the datapoint 25."
   ]
  },
  {
   "cell_type": "code",
   "execution_count": 13,
   "id": "e78d97b4",
   "metadata": {},
   "outputs": [
    {
     "data": {
      "text/html": [
       "<div>\n",
       "<style scoped>\n",
       "    .dataframe tbody tr th:only-of-type {\n",
       "        vertical-align: middle;\n",
       "    }\n",
       "\n",
       "    .dataframe tbody tr th {\n",
       "        vertical-align: top;\n",
       "    }\n",
       "\n",
       "    .dataframe thead th {\n",
       "        text-align: right;\n",
       "    }\n",
       "</style>\n",
       "<table border=\"1\" class=\"dataframe\">\n",
       "  <thead>\n",
       "    <tr style=\"text-align: right;\">\n",
       "      <th></th>\n",
       "      <th>price</th>\n",
       "      <th>rank</th>\n",
       "    </tr>\n",
       "  </thead>\n",
       "  <tbody>\n",
       "    <tr>\n",
       "      <th>10</th>\n",
       "      <td>25</td>\n",
       "      <td>42.5</td>\n",
       "    </tr>\n",
       "  </tbody>\n",
       "</table>\n",
       "</div>"
      ],
      "text/plain": [
       "    price  rank\n",
       "10     25  42.5"
      ]
     },
     "execution_count": 13,
     "metadata": {},
     "output_type": "execute_result"
    }
   ],
   "source": [
    "df['rank']=df['price'].rank(pct=True)*100\n",
    "df[df['price']==25]"
   ]
  },
  {
   "cell_type": "raw",
   "id": "92579b78",
   "metadata": {},
   "source": [
    "The percentile rank of the datapoint 25 is 42.5"
   ]
  },
  {
   "cell_type": "markdown",
   "id": "b64cc615",
   "metadata": {},
   "source": [
    "## Q10. What is the probability that a shirt cost is above 25 dollars?"
   ]
  },
  {
   "cell_type": "code",
   "execution_count": 14,
   "id": "ceb80da3",
   "metadata": {},
   "outputs": [
    {
     "name": "stdout",
     "output_type": "stream",
     "text": [
      "favourable_outcome:  23\n",
      "total_outcome:  40\n",
      "The probability that a  that a shirt cost is above 25 dollars is   0.575\n"
     ]
    }
   ],
   "source": [
    "favourable_outcome=len(df[df['price']>25])\n",
    "print('favourable_outcome: ',favourable_outcome)\n",
    "Total_outcome=len(df)\n",
    "print('total_outcome: ',Total_outcome)\n",
    "\n",
    "# probability\n",
    "prob=favourable_outcome/Total_outcome\n",
    "print(\"The probability that a  that a shirt cost is above 25 dollars is  \",prob)"
   ]
  },
  {
   "cell_type": "markdown",
   "id": "15efdf12",
   "metadata": {},
   "source": [
    "## Q11. Create a frequency distribution for the data and visualize it appropriately"
   ]
  },
  {
   "cell_type": "code",
   "execution_count": 15,
   "id": "be9f8b57",
   "metadata": {},
   "outputs": [
    {
     "data": {
      "text/plain": [
       "<AxesSubplot:xlabel='price', ylabel='Count'>"
      ]
     },
     "execution_count": 15,
     "metadata": {},
     "output_type": "execute_result"
    },
    {
     "data": {
      "image/png": "[encoded data removed]",
      "text/plain": [
       "<Figure size 432x288 with 1 Axes>"
      ]
     },
     "metadata": {
      "needs_background": "light"
     },
     "output_type": "display_data"
    }
   ],
   "source": [
    "sns.histplot(df['price'])"
   ]
  },
  {
   "cell_type": "raw",
   "id": "7b51dad7",
   "metadata": {},
   "source": [
    "Most number of shirts ranges approximately from $20-$30"
   ]
  },
  {
   "cell_type": "markdown",
   "id": "620267fa",
   "metadata": {},
   "source": [
    "## Q12. Create a probability distribution of the data and visualize it appropriately."
   ]
  },
  {
   "cell_type": "code",
   "execution_count": 16,
   "id": "429c606d",
   "metadata": {},
   "outputs": [
    {
     "data": {
      "text/plain": [
       "<AxesSubplot:xlabel='price', ylabel='Density'>"
      ]
     },
     "execution_count": 16,
     "metadata": {},
     "output_type": "execute_result"
    },
    {
     "data": {
      "image/png": "[encoded data removed]",
      "text/plain": [
       "<Figure size 432x288 with 1 Axes>"
      ]
     },
     "metadata": {
      "needs_background": "light"
     },
     "output_type": "display_data"
    }
   ],
   "source": [
    "sns.kdeplot(df['price'],cumulative=True)"
   ]
  },
  {
   "cell_type": "markdown",
   "id": "0f7f7252",
   "metadata": {},
   "source": [
    "## Q13. What is the shape of the distribution of this dataset? Create an appropriate graph to determine that. Take 100 random samples with replacement from this dataset of size 5 each. Create a sampling distribution of the mean shirt prices. Compare with other sampling distributions of sample size 10, 15, 20, 25, 30. State your observations. Does it corroborate the Central Limit Theorem?"
   ]
  },
  {
   "cell_type": "code",
   "execution_count": 17,
   "id": "a109fd26",
   "metadata": {},
   "outputs": [
    {
     "data": {
      "text/plain": [
       "(40,)"
      ]
     },
     "execution_count": 17,
     "metadata": {},
     "output_type": "execute_result"
    }
   ],
   "source": [
    "#shape of the distribution of this dataset\n",
    "df['price'].shape"
   ]
  },
  {
   "cell_type": "code",
   "execution_count": 16,
   "id": "75cdb8ab",
   "metadata": {},
   "outputs": [
    {
     "data": {
      "text/plain": [
       "<AxesSubplot:xlabel='price', ylabel='Count'>"
      ]
     },
     "execution_count": 16,
     "metadata": {},
     "output_type": "execute_result"
    },
    {
     "data": {
      "image/png": "[encoded data removed]",
      "text/plain": [
       "<Figure size 432x288 with 1 Axes>"
      ]
     },
     "metadata": {
      "needs_background": "light"
     },
     "output_type": "display_data"
    }
   ],
   "source": [
    "sns.histplot(df['price'])"
   ]
  },
  {
   "cell_type": "code",
   "execution_count": 18,
   "id": "43cab2b0",
   "metadata": {},
   "outputs": [],
   "source": [
    "def sampling_distribution(x,no_of_sample,sample_size):\n",
    "    sample_mean_list=[]\n",
    "    for i in range(no_of_sample):\n",
    "        sample=np.random.choice(x,size=sample_size,replace=True)\n",
    "        sample_mean=np.mean(sample)\n",
    "        sample_mean_list.append(sample_mean)\n",
    "    return sample_mean_list"
   ]
  },
  {
   "cell_type": "code",
   "execution_count": 19,
   "id": "124d2d4b",
   "metadata": {},
   "outputs": [
    {
     "data": {
      "image/png": "[encoded data removed]",
      "text/plain": [
       "<Figure size 1296x648 with 6 Axes>"
      ]
     },
     "metadata": {
      "needs_background": "light"
     },
     "output_type": "display_data"
    }
   ],
   "source": [
    "plt.figure(figsize=(18,9))\n",
    "plt.subplot(2,3,1)\n",
    "sns.kdeplot(x=sampling_distribution(df['price'],100,5))\n",
    "plt.title(\"Sample Size = 5\")\n",
    "plt.subplot(2,3,2)\n",
    "sns.kdeplot(x=sampling_distribution(df['price'],100,10))\n",
    "plt.title(\"Sample Size = 10\")\n",
    "plt.subplot(2,3,3)\n",
    "sns.kdeplot(x=sampling_distribution(df['price'],100,15))\n",
    "plt.title(\"Sample Size = 15\")\n",
    "plt.subplot(2,3,4)\n",
    "sns.kdeplot(x=sampling_distribution(df['price'],100,20))\n",
    "plt.title(\"Sample Size = 20\")\n",
    "plt.subplot(2,3,5)\n",
    "sns.kdeplot(x=sampling_distribution(df['price'],100,25))\n",
    "plt.title(\"Sample Size = 25\")\n",
    "plt.subplot(2,3,6)\n",
    "sns.kdeplot(x=sampling_distribution(df['price'],100,30))\n",
    "plt.title(\"Sample Size = 30\")\n",
    "plt.show()"
   ]
  },
  {
   "cell_type": "markdown",
   "id": "de18b09b",
   "metadata": {},
   "source": [
    "## Q14. Treat this dataset as a binomial distribution where p is the probability that a shirt costs above 25 dollars. What is the probability that out of a random sample of 10 shirts 7 are costing more than 25 dollars?\n"
   ]
  },
  {
   "cell_type": "code",
   "execution_count": 18,
   "id": "f923380c",
   "metadata": {},
   "outputs": [
    {
     "name": "stdout",
     "output_type": "stream",
     "text": [
      "The probability that out of a random sample of 10 shirts 7 are costing more than 25 dollars is   0.1914\n"
     ]
    }
   ],
   "source": [
    "x=len(df[df['price']>25])\n",
    "n=10\n",
    "p=x/len(df)\n",
    "prob=stats.binom.pmf(7,n,p)\n",
    "print('The probability that out of a random sample of 10 shirts 7 are costing more than 25 dollars is  ',round(prob,4))"
   ]
  },
  {
   "cell_type": "markdown",
   "id": "a832a7cf",
   "metadata": {},
   "source": [
    "## Q15. NuCloth Claims that 60% of all shirts in their website cost less than 25 dollars . Using the Normal approximation of a Binomial distribution, find the probability that in a random sample of 10 shirts 7 of them will cost less than 25 dollars.\n",
    "[ Note that the normal distribution can be used to approximate a binomial \n",
    "distribution if np>=5 and nq>=5 with the following correction for continuity\n",
    "P(X=z) = P(z-0.5 < X < z+0.5 ) ]\n",
    "\n"
   ]
  },
  {
   "cell_type": "code",
   "execution_count": 19,
   "id": "78270b5d",
   "metadata": {},
   "outputs": [
    {
     "name": "stdout",
     "output_type": "stream",
     "text": [
      "The probability that out of a random sample of 100 young adults were exactly 50 are having BMI greater than 25 is 0.19143570809682064\n"
     ]
    }
   ],
   "source": [
    "n=10\n",
    "x=7\n",
    "print(f\"The probability that out of a random sample of 100 young adults were exactly 50 are having BMI greater than 25 is {stats.binom.pmf(x,n,p)}\")"
   ]
  },
  {
   "cell_type": "markdown",
   "id": "ddf1844e",
   "metadata": {},
   "source": [
    "## Q16. Compute a 95% Confidence Interval for the true price of a shirt in the NuCloth website using appropriate distribution.( State reasons as to why did you use a z or t distribution)"
   ]
  },
  {
   "cell_type": "code",
   "execution_count": 82,
   "id": "c4d36cbd",
   "metadata": {},
   "outputs": [
    {
     "name": "stdout",
     "output_type": "stream",
     "text": [
      "The confidence interval for the true price of a shirt in the NuCloth website  (24.642900805126224, 30.607099194873776)\n"
     ]
    }
   ],
   "source": [
    "# mean, standard deviation\n",
    "x=np.mean(df['price'])\n",
    "sd=np.std(df['price'],ddof=1)\n",
    "n=len(df)\n",
    "\n",
    "# alpha\n",
    "c=0.95\n",
    "alpha=1-c\n",
    "\n",
    "# z_alpha\n",
    "z_alpha=stats.norm.isf(alpha/2)\n",
    "\n",
    "# confidence interval\n",
    "me=(z_alpha*sd)/(np.sqrt(n))\n",
    "ci=x-me,x+me\n",
    "print('The confidence interval for the true price of a shirt in the NuCloth website ',ci)"
   ]
  },
  {
   "cell_type": "markdown",
   "id": "9c568c40",
   "metadata": {},
   "source": [
    "## Q17. A data scientist wants to estimate with 95% confidence the true proportion of shirts having price greater than 25 dollars in the NuCloth website. A recent study showed that 60% of all shirts have a price greater than 25 dollars. The data scientist wants to be accurate within 2% of the true proportion. Find the minimum sample size necessary.\n"
   ]
  },
  {
   "cell_type": "code",
   "execution_count": 213,
   "id": "9b4f8d00",
   "metadata": {},
   "outputs": [
    {
     "name": "stdout",
     "output_type": "stream",
     "text": [
      "the minimum sample size is   2305\n"
     ]
    }
   ],
   "source": [
    "# alpha\n",
    "ci=0.95\n",
    "alpha=1-ci\n",
    "\n",
    "# z_alpha\n",
    "z_alpha=stats.norm.isf(alpha/2)\n",
    "\n",
    "sd=np.std(df['price'],ddof=1)\n",
    "p=0.6\n",
    "me=0.02\n",
    "q=1-p\n",
    "n=len(df)\n",
    "\n",
    "#sample size\n",
    "n=(z_alpha*np.sqrt(p*q)/me)**2\n",
    "print('the minimum sample size is  ',round(n))"
   ]
  },
  {
   "cell_type": "markdown",
   "id": "07c1ec93",
   "metadata": {},
   "source": [
    "## Q18. The same data scientist wants to estimate the true proportion of shirts having price greater than 25 dollars. She wants to be 90% confident and accurate within 5% of true proportion. Find the minimum sample size necessary."
   ]
  },
  {
   "cell_type": "code",
   "execution_count": 214,
   "id": "bcd6da25",
   "metadata": {},
   "outputs": [
    {
     "name": "stdout",
     "output_type": "stream",
     "text": [
      "the minimum sample size is   260\n"
     ]
    }
   ],
   "source": [
    "ci=0.90\n",
    "alpha=1-ci\n",
    "\n",
    "# z_alpha\n",
    "z_alpha=stats.norm.isf(alpha/2)\n",
    "\n",
    "me=0.05\n",
    "p=0.6\n",
    "q=1-p\n",
    "\n",
    "#sample size\n",
    "n=(z_alpha*np.sqrt(p*q)/me)**2\n",
    "print('the minimum sample size is  ',round(n))"
   ]
  },
  {
   "cell_type": "markdown",
   "id": "aad5d467",
   "metadata": {},
   "source": [
    "## Q19. NuCloth claims that currently 80% of all shirts have prices greater than 25 dollars . Test this claim with an alpha =0.05 if out of a random sample of 30 shirts only 23 are having prices above 25 dollars."
   ]
  },
  {
   "cell_type": "raw",
   "id": "2991943f",
   "metadata": {},
   "source": [
    "h0: p=80%   ha:p<>80%"
   ]
  },
  {
   "cell_type": "code",
   "execution_count": 92,
   "id": "2cbe2c8d",
   "metadata": {},
   "outputs": [
    {
     "name": "stdout",
     "output_type": "stream",
     "text": [
      "z_alpha:  -1.96\n",
      "Z statistic = -0.456\n"
     ]
    }
   ],
   "source": [
    "# alpha\n",
    "alpha=0.05\n",
    "\n",
    "# z_alpha\n",
    "z_alpha=stats.norm.ppf(alpha/2)\n",
    "print('z_alpha: ',round(z_alpha,3))\n",
    "\n",
    "# Data\n",
    "n=30\n",
    "x=23\n",
    "p=x/n\n",
    "q=1-p\n",
    "p0=80/100\n",
    "\n",
    "\n",
    "# z statistics\n",
    "z=(p-p0)/np.sqrt((p0*(1-p0))/n)\n",
    "print(f\"Z statistic = {round(z,3)}\")"
   ]
  },
  {
   "cell_type": "raw",
   "id": "e282c297",
   "metadata": {},
   "source": [
    "As z > z_alpha falls in non-rejection zone and e fail to reject null hypothesis.\n",
    "Hence,currently 80% of all shirts have prices greater than 25 dollars."
   ]
  },
  {
   "cell_type": "markdown",
   "id": "63c1d8f3",
   "metadata": {},
   "source": [
    "## Q20. A data scientist is researching the hypothesis that the average price of a shirt in NuCloth is higher than the supermarket. So he collects data from NuCloth and the supermarket that the average shirt price of shirts in NuCloth is 36 dollars vs 34 dollars in the supermarket. The standard deviations are 7.6 and 5.8 respectively.Suppose the data scientist got these values after randomly selecting 100 shirts from each place.\n",
    "\n",
    "\n",
    "\n",
    "\n",
    "\n"
   ]
  },
  {
   "cell_type": "markdown",
   "id": "89931138",
   "metadata": {},
   "source": [
    "### a. What hypothesis would he use to compare the shirt prices of NuCloth vs Supermarket"
   ]
  },
  {
   "cell_type": "raw",
   "id": "a2f865ea",
   "metadata": {},
   "source": [
    "h0: mu-mu<=0  ha: mu-mu>0"
   ]
  },
  {
   "cell_type": "markdown",
   "id": "09c04880",
   "metadata": {},
   "source": [
    "### b. What are critical values to be used?"
   ]
  },
  {
   "cell_type": "code",
   "execution_count": 20,
   "id": "f4d3eda5",
   "metadata": {},
   "outputs": [],
   "source": [
    "x1=36\n",
    "x2=34\n",
    "sd1=7.6\n",
    "sd2=5.8\n",
    "n1=100\n",
    "n2=100\n",
    "alpha=0.05"
   ]
  },
  {
   "cell_type": "markdown",
   "id": "868d6fb2",
   "metadata": {},
   "source": [
    "### c. What statistical test will be used to compare these prices?"
   ]
  },
  {
   "cell_type": "raw",
   "id": "aa1908a2",
   "metadata": {},
   "source": [
    "We use z test because the the sample size greater than 30."
   ]
  },
  {
   "cell_type": "markdown",
   "id": "b0352260",
   "metadata": {},
   "source": [
    "### d. Complete the test and obtain the P-value."
   ]
  },
  {
   "cell_type": "code",
   "execution_count": 22,
   "id": "effd48b9",
   "metadata": {},
   "outputs": [
    {
     "name": "stdout",
     "output_type": "stream",
     "text": [
      "alpha: 0.05\n",
      "z_alpha:  1.6448536269514729\n",
      "z:  2.09197696327652\n",
      "p_value:  0.018220288245112185\n"
     ]
    }
   ],
   "source": [
    "#alpha\n",
    "alpha=0.05\n",
    "print('alpha:',alpha)\n",
    "\n",
    "\n",
    "#z_alpha\n",
    "z_alpha=stats.norm.isf(alpha)\n",
    "print('z_alpha: ',z_alpha)\n",
    "\n",
    "# z calculation\n",
    "z=(x1-x2)/np.sqrt(((sd1**2)/n1)+((sd2**2)/n2))\n",
    "print('z: ',z)\n",
    "\n",
    "# p_value\n",
    "p_value=stats.norm.sf(z)\n",
    "print('p_value: ',p_value)"
   ]
  },
  {
   "cell_type": "raw",
   "id": "54bf48c4",
   "metadata": {},
   "source": [
    "# critical value method\n",
    "Since the z > z_alpha falls in rejection zone and we reject the null hypohesis."
   ]
  },
  {
   "cell_type": "markdown",
   "id": "9acb2aa0",
   "metadata": {},
   "source": [
    "### e. Summarize his conclusion based on the P-value."
   ]
  },
  {
   "cell_type": "raw",
   "id": "966367f4",
   "metadata": {},
   "source": [
    "Since the p_value < alpha falls in rejection zone and we reject the null hypohesis.\n",
    "Hence, we conclude that  the average price of a shirt in NuCloth is higher than the supermarket."
   ]
  },
  {
   "cell_type": "markdown",
   "id": "14b5282f",
   "metadata": {},
   "source": [
    "# PART-B ( Dataset Based)--25 points"
   ]
  },
  {
   "cell_type": "markdown",
   "id": "10ddae83",
   "metadata": {},
   "source": [
    "## 1. Read the datasets, Check the data types and Change the data types appropriately."
   ]
  },
  {
   "cell_type": "code",
   "execution_count": 24,
   "id": "158e1668",
   "metadata": {},
   "outputs": [
    {
     "data": {
      "text/html": [
       "<div>\n",
       "<style scoped>\n",
       "    .dataframe tbody tr th:only-of-type {\n",
       "        vertical-align: middle;\n",
       "    }\n",
       "\n",
       "    .dataframe tbody tr th {\n",
       "        vertical-align: top;\n",
       "    }\n",
       "\n",
       "    .dataframe thead th {\n",
       "        text-align: right;\n",
       "    }\n",
       "</style>\n",
       "<table border=\"1\" class=\"dataframe\">\n",
       "  <thead>\n",
       "    <tr style=\"text-align: right;\">\n",
       "      <th></th>\n",
       "      <th>item_id</th>\n",
       "      <th>waist</th>\n",
       "      <th>size</th>\n",
       "      <th>quality</th>\n",
       "      <th>cup size</th>\n",
       "      <th>hips</th>\n",
       "      <th>bra size</th>\n",
       "      <th>category</th>\n",
       "      <th>bust</th>\n",
       "      <th>height</th>\n",
       "      <th>user_name</th>\n",
       "      <th>length</th>\n",
       "      <th>fit</th>\n",
       "      <th>user_id</th>\n",
       "      <th>shoe size</th>\n",
       "      <th>shoe width</th>\n",
       "      <th>review_summary</th>\n",
       "      <th>review_text</th>\n",
       "    </tr>\n",
       "  </thead>\n",
       "  <tbody>\n",
       "    <tr>\n",
       "      <th>0</th>\n",
       "      <td>123373</td>\n",
       "      <td>29.0</td>\n",
       "      <td>7</td>\n",
       "      <td>5.0</td>\n",
       "      <td>d</td>\n",
       "      <td>38.0</td>\n",
       "      <td>34.0</td>\n",
       "      <td>new</td>\n",
       "      <td>36</td>\n",
       "      <td>5ft 6in</td>\n",
       "      <td>Emily</td>\n",
       "      <td>just right</td>\n",
       "      <td>small</td>\n",
       "      <td>991571</td>\n",
       "      <td>NaN</td>\n",
       "      <td>NaN</td>\n",
       "      <td>NaN</td>\n",
       "      <td>NaN</td>\n",
       "    </tr>\n",
       "    <tr>\n",
       "      <th>1</th>\n",
       "      <td>123373</td>\n",
       "      <td>31.0</td>\n",
       "      <td>13</td>\n",
       "      <td>3.0</td>\n",
       "      <td>b</td>\n",
       "      <td>30.0</td>\n",
       "      <td>36.0</td>\n",
       "      <td>new</td>\n",
       "      <td>NaN</td>\n",
       "      <td>5ft 2in</td>\n",
       "      <td>sydneybraden2001</td>\n",
       "      <td>just right</td>\n",
       "      <td>small</td>\n",
       "      <td>587883</td>\n",
       "      <td>NaN</td>\n",
       "      <td>NaN</td>\n",
       "      <td>NaN</td>\n",
       "      <td>NaN</td>\n",
       "    </tr>\n",
       "    <tr>\n",
       "      <th>2</th>\n",
       "      <td>123373</td>\n",
       "      <td>30.0</td>\n",
       "      <td>7</td>\n",
       "      <td>2.0</td>\n",
       "      <td>b</td>\n",
       "      <td>NaN</td>\n",
       "      <td>32.0</td>\n",
       "      <td>new</td>\n",
       "      <td>NaN</td>\n",
       "      <td>5ft 7in</td>\n",
       "      <td>Ugggh</td>\n",
       "      <td>slightly long</td>\n",
       "      <td>small</td>\n",
       "      <td>395665</td>\n",
       "      <td>9.0</td>\n",
       "      <td>NaN</td>\n",
       "      <td>NaN</td>\n",
       "      <td>NaN</td>\n",
       "    </tr>\n",
       "    <tr>\n",
       "      <th>3</th>\n",
       "      <td>123373</td>\n",
       "      <td>NaN</td>\n",
       "      <td>21</td>\n",
       "      <td>5.0</td>\n",
       "      <td>dd/e</td>\n",
       "      <td>NaN</td>\n",
       "      <td>NaN</td>\n",
       "      <td>new</td>\n",
       "      <td>NaN</td>\n",
       "      <td>NaN</td>\n",
       "      <td>alexmeyer626</td>\n",
       "      <td>just right</td>\n",
       "      <td>fit</td>\n",
       "      <td>875643</td>\n",
       "      <td>NaN</td>\n",
       "      <td>NaN</td>\n",
       "      <td>NaN</td>\n",
       "      <td>NaN</td>\n",
       "    </tr>\n",
       "    <tr>\n",
       "      <th>4</th>\n",
       "      <td>123373</td>\n",
       "      <td>NaN</td>\n",
       "      <td>18</td>\n",
       "      <td>5.0</td>\n",
       "      <td>b</td>\n",
       "      <td>NaN</td>\n",
       "      <td>36.0</td>\n",
       "      <td>new</td>\n",
       "      <td>NaN</td>\n",
       "      <td>5ft 2in</td>\n",
       "      <td>dberrones1</td>\n",
       "      <td>slightly long</td>\n",
       "      <td>small</td>\n",
       "      <td>944840</td>\n",
       "      <td>NaN</td>\n",
       "      <td>NaN</td>\n",
       "      <td>NaN</td>\n",
       "      <td>NaN</td>\n",
       "    </tr>\n",
       "  </tbody>\n",
       "</table>\n",
       "</div>"
      ],
      "text/plain": [
       "   item_id  waist  size  quality cup size  hips  bra size category bust  \\\n",
       "0   123373   29.0     7      5.0        d  38.0      34.0      new   36   \n",
       "1   123373   31.0    13      3.0        b  30.0      36.0      new  NaN   \n",
       "2   123373   30.0     7      2.0        b   NaN      32.0      new  NaN   \n",
       "3   123373    NaN    21      5.0     dd/e   NaN       NaN      new  NaN   \n",
       "4   123373    NaN    18      5.0        b   NaN      36.0      new  NaN   \n",
       "\n",
       "    height         user_name         length    fit  user_id  shoe size  \\\n",
       "0  5ft 6in             Emily     just right  small   991571        NaN   \n",
       "1  5ft 2in  sydneybraden2001     just right  small   587883        NaN   \n",
       "2  5ft 7in             Ugggh  slightly long  small   395665        9.0   \n",
       "3      NaN      alexmeyer626     just right    fit   875643        NaN   \n",
       "4  5ft 2in        dberrones1  slightly long  small   944840        NaN   \n",
       "\n",
       "  shoe width review_summary review_text  \n",
       "0        NaN            NaN         NaN  \n",
       "1        NaN            NaN         NaN  \n",
       "2        NaN            NaN         NaN  \n",
       "3        NaN            NaN         NaN  \n",
       "4        NaN            NaN         NaN  "
      ]
     },
     "execution_count": 24,
     "metadata": {},
     "output_type": "execute_result"
    }
   ],
   "source": [
    "#Read the datasets\n",
    "df=pd.read_json('modcloth_final_data.json',lines=True)\n",
    "df.head()"
   ]
  },
  {
   "cell_type": "code",
   "execution_count": 25,
   "id": "c0b4a006",
   "metadata": {},
   "outputs": [
    {
     "data": {
      "text/plain": [
       "item_id             int64\n",
       "waist             float64\n",
       "size                int64\n",
       "quality           float64\n",
       "cup size           object\n",
       "hips              float64\n",
       "bra size          float64\n",
       "category           object\n",
       "bust               object\n",
       "height             object\n",
       "user_name          object\n",
       "length             object\n",
       "fit                object\n",
       "user_id             int64\n",
       "shoe size         float64\n",
       "shoe width         object\n",
       "review_summary     object\n",
       "review_text        object\n",
       "dtype: object"
      ]
     },
     "execution_count": 25,
     "metadata": {},
     "output_type": "execute_result"
    }
   ],
   "source": [
    "#Check the data types\n",
    "df.dtypes"
   ]
  },
  {
   "cell_type": "code",
   "execution_count": 26,
   "id": "1cbac409",
   "metadata": {},
   "outputs": [
    {
     "data": {
      "text/plain": [
       "item_id            object\n",
       "waist             float64\n",
       "size                int64\n",
       "quality           float64\n",
       "cup size           object\n",
       "hips              float64\n",
       "bra size          float64\n",
       "category           object\n",
       "bust               object\n",
       "height             object\n",
       "user_name          object\n",
       "length             object\n",
       "fit                object\n",
       "user_id            object\n",
       "shoe size         float64\n",
       "shoe width         object\n",
       "review_summary     object\n",
       "review_text        object\n",
       "dtype: object"
      ]
     },
     "execution_count": 26,
     "metadata": {},
     "output_type": "execute_result"
    }
   ],
   "source": [
    "# Change the data types appropriately.\n",
    "df['item_id']=df['item_id'].astype('O')\n",
    "df['user_id']=df['user_id'].astype('O')\n",
    "df.dtypes"
   ]
  },
  {
   "cell_type": "markdown",
   "id": "eeaf169a",
   "metadata": {},
   "source": [
    "## 2. Change the height column datatype to float after converting the values as shown\n",
    "Below. 5.7"
   ]
  },
  {
   "cell_type": "code",
   "execution_count": 27,
   "id": "aac860db",
   "metadata": {},
   "outputs": [
    {
     "data": {
      "text/plain": [
       "dtype('float64')"
      ]
     },
     "execution_count": 27,
     "metadata": {},
     "output_type": "execute_result"
    }
   ],
   "source": [
    "df['height']=list(map(lambda x : str(x).replace(' ','.').replace('ft','').replace('in',''),df['height']))\n",
    "df['height']=df['height'].astype(float)\n",
    "df['height'].dtype"
   ]
  },
  {
   "cell_type": "markdown",
   "id": "1f999207",
   "metadata": {},
   "source": [
    "## 3. Rename the names of the columns which have space in between the column.\n",
    "Ex: shoe size as shoe_size etc."
   ]
  },
  {
   "cell_type": "code",
   "execution_count": 28,
   "id": "0cb6b68c",
   "metadata": {},
   "outputs": [
    {
     "data": {
      "text/html": [
       "<div>\n",
       "<style scoped>\n",
       "    .dataframe tbody tr th:only-of-type {\n",
       "        vertical-align: middle;\n",
       "    }\n",
       "\n",
       "    .dataframe tbody tr th {\n",
       "        vertical-align: top;\n",
       "    }\n",
       "\n",
       "    .dataframe thead th {\n",
       "        text-align: right;\n",
       "    }\n",
       "</style>\n",
       "<table border=\"1\" class=\"dataframe\">\n",
       "  <thead>\n",
       "    <tr style=\"text-align: right;\">\n",
       "      <th></th>\n",
       "      <th>item_id</th>\n",
       "      <th>waist</th>\n",
       "      <th>size</th>\n",
       "      <th>quality</th>\n",
       "      <th>cup_size</th>\n",
       "      <th>hips</th>\n",
       "      <th>bra_size</th>\n",
       "      <th>category</th>\n",
       "      <th>bust</th>\n",
       "      <th>height</th>\n",
       "      <th>user_name</th>\n",
       "      <th>length</th>\n",
       "      <th>fit</th>\n",
       "      <th>user_id</th>\n",
       "      <th>shoe_size</th>\n",
       "      <th>shoe_width</th>\n",
       "      <th>review_summary</th>\n",
       "      <th>review_text</th>\n",
       "    </tr>\n",
       "  </thead>\n",
       "  <tbody>\n",
       "    <tr>\n",
       "      <th>0</th>\n",
       "      <td>123373</td>\n",
       "      <td>29.0</td>\n",
       "      <td>7</td>\n",
       "      <td>5.0</td>\n",
       "      <td>d</td>\n",
       "      <td>38.0</td>\n",
       "      <td>34.0</td>\n",
       "      <td>new</td>\n",
       "      <td>36</td>\n",
       "      <td>5.6</td>\n",
       "      <td>Emily</td>\n",
       "      <td>just right</td>\n",
       "      <td>small</td>\n",
       "      <td>991571</td>\n",
       "      <td>NaN</td>\n",
       "      <td>NaN</td>\n",
       "      <td>NaN</td>\n",
       "      <td>NaN</td>\n",
       "    </tr>\n",
       "    <tr>\n",
       "      <th>1</th>\n",
       "      <td>123373</td>\n",
       "      <td>31.0</td>\n",
       "      <td>13</td>\n",
       "      <td>3.0</td>\n",
       "      <td>b</td>\n",
       "      <td>30.0</td>\n",
       "      <td>36.0</td>\n",
       "      <td>new</td>\n",
       "      <td>NaN</td>\n",
       "      <td>5.2</td>\n",
       "      <td>sydneybraden2001</td>\n",
       "      <td>just right</td>\n",
       "      <td>small</td>\n",
       "      <td>587883</td>\n",
       "      <td>NaN</td>\n",
       "      <td>NaN</td>\n",
       "      <td>NaN</td>\n",
       "      <td>NaN</td>\n",
       "    </tr>\n",
       "  </tbody>\n",
       "</table>\n",
       "</div>"
      ],
      "text/plain": [
       "  item_id  waist  size  quality cup_size  hips  bra_size category bust  \\\n",
       "0  123373   29.0     7      5.0        d  38.0      34.0      new   36   \n",
       "1  123373   31.0    13      3.0        b  30.0      36.0      new  NaN   \n",
       "\n",
       "   height         user_name      length    fit user_id  shoe_size shoe_width  \\\n",
       "0     5.6             Emily  just right  small  991571        NaN        NaN   \n",
       "1     5.2  sydneybraden2001  just right  small  587883        NaN        NaN   \n",
       "\n",
       "  review_summary review_text  \n",
       "0            NaN         NaN  \n",
       "1            NaN         NaN  "
      ]
     },
     "execution_count": 28,
     "metadata": {},
     "output_type": "execute_result"
    }
   ],
   "source": [
    "df=df.rename(columns={'cup size':'cup_size','bra size':'bra_size','shoe size':'shoe_size','shoe width':'shoe_width'})\n",
    "df.head(2)"
   ]
  },
  {
   "cell_type": "markdown",
   "id": "32648f26",
   "metadata": {},
   "source": [
    "## 4. Check the missing values and Identify the distribution of the variables to impute the missing values. Explain based on your analysis decide the features which can be  dropped and Which can be imputed. And also explain the reason to choose the metric that you have chosen to impute the null values.\n",
    "\n",
    "## Note: Kindly copy the datasets and work on the new data frame."
   ]
  },
  {
   "cell_type": "code",
   "execution_count": 29,
   "id": "b37273b7",
   "metadata": {},
   "outputs": [
    {
     "data": {
      "text/html": [
       "<div>\n",
       "<style scoped>\n",
       "    .dataframe tbody tr th:only-of-type {\n",
       "        vertical-align: middle;\n",
       "    }\n",
       "\n",
       "    .dataframe tbody tr th {\n",
       "        vertical-align: top;\n",
       "    }\n",
       "\n",
       "    .dataframe thead th {\n",
       "        text-align: right;\n",
       "    }\n",
       "</style>\n",
       "<table border=\"1\" class=\"dataframe\">\n",
       "  <thead>\n",
       "    <tr style=\"text-align: right;\">\n",
       "      <th></th>\n",
       "      <th>item_id</th>\n",
       "      <th>waist</th>\n",
       "      <th>size</th>\n",
       "      <th>quality</th>\n",
       "      <th>cup_size</th>\n",
       "      <th>hips</th>\n",
       "      <th>bra_size</th>\n",
       "      <th>category</th>\n",
       "      <th>bust</th>\n",
       "      <th>height</th>\n",
       "      <th>user_name</th>\n",
       "      <th>length</th>\n",
       "      <th>fit</th>\n",
       "      <th>user_id</th>\n",
       "      <th>shoe_size</th>\n",
       "      <th>shoe_width</th>\n",
       "      <th>review_summary</th>\n",
       "      <th>review_text</th>\n",
       "    </tr>\n",
       "  </thead>\n",
       "  <tbody>\n",
       "    <tr>\n",
       "      <th>0</th>\n",
       "      <td>123373</td>\n",
       "      <td>29.0</td>\n",
       "      <td>7</td>\n",
       "      <td>5.0</td>\n",
       "      <td>d</td>\n",
       "      <td>38.0</td>\n",
       "      <td>34.0</td>\n",
       "      <td>new</td>\n",
       "      <td>36</td>\n",
       "      <td>5.6</td>\n",
       "      <td>Emily</td>\n",
       "      <td>just right</td>\n",
       "      <td>small</td>\n",
       "      <td>991571</td>\n",
       "      <td>NaN</td>\n",
       "      <td>NaN</td>\n",
       "      <td>NaN</td>\n",
       "      <td>NaN</td>\n",
       "    </tr>\n",
       "    <tr>\n",
       "      <th>1</th>\n",
       "      <td>123373</td>\n",
       "      <td>31.0</td>\n",
       "      <td>13</td>\n",
       "      <td>3.0</td>\n",
       "      <td>b</td>\n",
       "      <td>30.0</td>\n",
       "      <td>36.0</td>\n",
       "      <td>new</td>\n",
       "      <td>NaN</td>\n",
       "      <td>5.2</td>\n",
       "      <td>sydneybraden2001</td>\n",
       "      <td>just right</td>\n",
       "      <td>small</td>\n",
       "      <td>587883</td>\n",
       "      <td>NaN</td>\n",
       "      <td>NaN</td>\n",
       "      <td>NaN</td>\n",
       "      <td>NaN</td>\n",
       "    </tr>\n",
       "    <tr>\n",
       "      <th>2</th>\n",
       "      <td>123373</td>\n",
       "      <td>30.0</td>\n",
       "      <td>7</td>\n",
       "      <td>2.0</td>\n",
       "      <td>b</td>\n",
       "      <td>NaN</td>\n",
       "      <td>32.0</td>\n",
       "      <td>new</td>\n",
       "      <td>NaN</td>\n",
       "      <td>5.7</td>\n",
       "      <td>Ugggh</td>\n",
       "      <td>slightly long</td>\n",
       "      <td>small</td>\n",
       "      <td>395665</td>\n",
       "      <td>9.0</td>\n",
       "      <td>NaN</td>\n",
       "      <td>NaN</td>\n",
       "      <td>NaN</td>\n",
       "    </tr>\n",
       "    <tr>\n",
       "      <th>3</th>\n",
       "      <td>123373</td>\n",
       "      <td>NaN</td>\n",
       "      <td>21</td>\n",
       "      <td>5.0</td>\n",
       "      <td>dd/e</td>\n",
       "      <td>NaN</td>\n",
       "      <td>NaN</td>\n",
       "      <td>new</td>\n",
       "      <td>NaN</td>\n",
       "      <td>NaN</td>\n",
       "      <td>alexmeyer626</td>\n",
       "      <td>just right</td>\n",
       "      <td>fit</td>\n",
       "      <td>875643</td>\n",
       "      <td>NaN</td>\n",
       "      <td>NaN</td>\n",
       "      <td>NaN</td>\n",
       "      <td>NaN</td>\n",
       "    </tr>\n",
       "    <tr>\n",
       "      <th>4</th>\n",
       "      <td>123373</td>\n",
       "      <td>NaN</td>\n",
       "      <td>18</td>\n",
       "      <td>5.0</td>\n",
       "      <td>b</td>\n",
       "      <td>NaN</td>\n",
       "      <td>36.0</td>\n",
       "      <td>new</td>\n",
       "      <td>NaN</td>\n",
       "      <td>5.2</td>\n",
       "      <td>dberrones1</td>\n",
       "      <td>slightly long</td>\n",
       "      <td>small</td>\n",
       "      <td>944840</td>\n",
       "      <td>NaN</td>\n",
       "      <td>NaN</td>\n",
       "      <td>NaN</td>\n",
       "      <td>NaN</td>\n",
       "    </tr>\n",
       "  </tbody>\n",
       "</table>\n",
       "</div>"
      ],
      "text/plain": [
       "  item_id  waist  size  quality cup_size  hips  bra_size category bust  \\\n",
       "0  123373   29.0     7      5.0        d  38.0      34.0      new   36   \n",
       "1  123373   31.0    13      3.0        b  30.0      36.0      new  NaN   \n",
       "2  123373   30.0     7      2.0        b   NaN      32.0      new  NaN   \n",
       "3  123373    NaN    21      5.0     dd/e   NaN       NaN      new  NaN   \n",
       "4  123373    NaN    18      5.0        b   NaN      36.0      new  NaN   \n",
       "\n",
       "   height         user_name         length    fit user_id  shoe_size  \\\n",
       "0     5.6             Emily     just right  small  991571        NaN   \n",
       "1     5.2  sydneybraden2001     just right  small  587883        NaN   \n",
       "2     5.7             Ugggh  slightly long  small  395665        9.0   \n",
       "3     NaN      alexmeyer626     just right    fit  875643        NaN   \n",
       "4     5.2        dberrones1  slightly long  small  944840        NaN   \n",
       "\n",
       "  shoe_width review_summary review_text  \n",
       "0        NaN            NaN         NaN  \n",
       "1        NaN            NaN         NaN  \n",
       "2        NaN            NaN         NaN  \n",
       "3        NaN            NaN         NaN  \n",
       "4        NaN            NaN         NaN  "
      ]
     },
     "execution_count": 29,
     "metadata": {},
     "output_type": "execute_result"
    }
   ],
   "source": [
    "df1=df.copy()\n",
    "df1.head()"
   ]
  },
  {
   "cell_type": "markdown",
   "id": "91347f2b",
   "metadata": {},
   "source": [
    "### 4.1 Check the count and percentage of missing values."
   ]
  },
  {
   "cell_type": "code",
   "execution_count": 30,
   "id": "66844ca2",
   "metadata": {},
   "outputs": [
    {
     "data": {
      "text/plain": [
       "item_id               0\n",
       "waist             79908\n",
       "size                  0\n",
       "quality              68\n",
       "cup_size           6255\n",
       "hips              26726\n",
       "bra_size           6018\n",
       "category              0\n",
       "bust              70936\n",
       "height             1107\n",
       "user_name             0\n",
       "length               35\n",
       "fit                   0\n",
       "user_id               0\n",
       "shoe_size         54875\n",
       "shoe_width        64183\n",
       "review_summary     6725\n",
       "review_text        6725\n",
       "dtype: int64"
      ]
     },
     "execution_count": 30,
     "metadata": {},
     "output_type": "execute_result"
    }
   ],
   "source": [
    "#count of missing values\n",
    "df1.isnull().sum()"
   ]
  },
  {
   "cell_type": "code",
   "execution_count": 31,
   "id": "44356358",
   "metadata": {},
   "outputs": [
    {
     "data": {
      "text/plain": [
       "item_id            0.000000\n",
       "waist             96.518903\n",
       "size               0.000000\n",
       "quality            0.082136\n",
       "cup_size           7.555260\n",
       "hips              32.281677\n",
       "bra_size           7.268994\n",
       "category           0.000000\n",
       "bust              85.681846\n",
       "height             1.337118\n",
       "user_name          0.000000\n",
       "length             0.042276\n",
       "fit                0.000000\n",
       "user_id            0.000000\n",
       "shoe_size         66.282160\n",
       "shoe_width        77.525063\n",
       "review_summary     8.122962\n",
       "review_text        8.122962\n",
       "dtype: float64"
      ]
     },
     "execution_count": 31,
     "metadata": {},
     "output_type": "execute_result"
    }
   ],
   "source": [
    "(df1.isna().sum())/len(df1)*100"
   ]
  },
  {
   "cell_type": "markdown",
   "id": "06611b1c",
   "metadata": {},
   "source": [
    "### 4.2 check the Mean and Median."
   ]
  },
  {
   "cell_type": "code",
   "execution_count": 32,
   "id": "67ce96be",
   "metadata": {},
   "outputs": [
    {
     "data": {
      "text/plain": [
       "item_id      469325.229170\n",
       "waist            31.319223\n",
       "size             12.661602\n",
       "quality           3.949058\n",
       "hips             40.358501\n",
       "bra_size         35.972125\n",
       "height            5.456365\n",
       "user_id      498849.564718\n",
       "shoe_size         8.145818\n",
       "dtype: float64"
      ]
     },
     "execution_count": 32,
     "metadata": {},
     "output_type": "execute_result"
    }
   ],
   "source": [
    "#mean\n",
    "df1.mean()"
   ]
  },
  {
   "cell_type": "code",
   "execution_count": 33,
   "id": "75f50800",
   "metadata": {},
   "outputs": [
    {
     "data": {
      "text/plain": [
       "item_id      454030.0\n",
       "waist            30.0\n",
       "size             12.0\n",
       "quality           4.0\n",
       "hips             39.0\n",
       "bra_size         36.0\n",
       "height            5.5\n",
       "user_id      497913.5\n",
       "shoe_size         8.0\n",
       "dtype: float64"
      ]
     },
     "execution_count": 33,
     "metadata": {},
     "output_type": "execute_result"
    }
   ],
   "source": [
    "#median\n",
    "df1.median()"
   ]
  },
  {
   "cell_type": "markdown",
   "id": "60f71faa",
   "metadata": {},
   "source": [
    "\n",
    "### 4.3 Check the distribution of the variables using Histogram or Dist plot or KDE  and boxplot etc. \n",
    "#### Kindly explore at least two"
   ]
  },
  {
   "cell_type": "code",
   "execution_count": 35,
   "id": "e9ca8f03",
   "metadata": {},
   "outputs": [
    {
     "data": {
      "text/plain": [
       "Text(0.5, 1.0, 'Distribution of height variable')"
      ]
     },
     "execution_count": 35,
     "metadata": {},
     "output_type": "execute_result"
    },
    {
     "data": {
      "image/png": "[encoded data removed]",
      "text/plain": [
       "<Figure size 1296x1080 with 7 Axes>"
      ]
     },
     "metadata": {
      "needs_background": "light"
     },
     "output_type": "display_data"
    }
   ],
   "source": [
    "plt.figure(figsize=(18,15))\n",
    "plt.subplot(3,3,1)\n",
    "sns.kdeplot(df1['waist'])\n",
    "plt.title(\"Distribution of waist variable \")\n",
    "plt.subplot(3,3,2)\n",
    "sns.boxplot(df1['size'])\n",
    "plt.title(\"Distribution of size variable\")\n",
    "plt.subplot(3,3,3)\n",
    "sns.boxplot(df1['quality'])\n",
    "plt.title(\"Distribution of quality variable\")\n",
    "plt.subplot(3,3,4)\n",
    "sns.boxplot(df1['bra_size'])\n",
    "plt.title(\"Distribution of bra size variable\")\n",
    "plt.subplot(3,3,5)\n",
    "sns.distplot(df1['hips'])\n",
    "plt.title(\"Distribution of hips variable\")\n",
    "plt.subplot(3,3,6)\n",
    "sns.boxplot(df1['height'])\n",
    "plt.title(\"Distribution of height variable\")\n",
    "plt.subplot(3,3,7)\n",
    "sns.histplot(df1['shoe_size'])\n",
    "plt.title(\"Distribution of height variable\")"
   ]
  },
  {
   "cell_type": "markdown",
   "id": "66b73761",
   "metadata": {},
   "source": [
    "### 4.4 Check the Skewness and Kurtosis.\n",
    "#### Explain what the Skewness and Kurtosis describe."
   ]
  },
  {
   "cell_type": "code",
   "execution_count": 36,
   "id": "2f2bf9ce",
   "metadata": {},
   "outputs": [
    {
     "name": "stdout",
     "output_type": "stream",
     "text": [
      "Skewness of the variable :\n"
     ]
    },
    {
     "data": {
      "text/plain": [
       "item_id     -0.120644\n",
       "waist        0.993061\n",
       "size         1.128301\n",
       "quality     -0.676777\n",
       "hips         0.969187\n",
       "bra_size     0.901004\n",
       "height      -1.095275\n",
       "user_id      0.008201\n",
       "shoe_size    0.436713\n",
       "dtype: float64"
      ]
     },
     "execution_count": 36,
     "metadata": {},
     "output_type": "execute_result"
    }
   ],
   "source": [
    "#skewness\n",
    "print('Skewness of the variable :')\n",
    "df.skew()"
   ]
  },
  {
   "cell_type": "code",
   "execution_count": 37,
   "id": "6f53e90d",
   "metadata": {},
   "outputs": [
    {
     "name": "stdout",
     "output_type": "stream",
     "text": [
      "Kurtorsis of the variable :\n"
     ]
    },
    {
     "data": {
      "text/plain": [
       "item_id     -1.215909\n",
       "waist        0.836624\n",
       "size         0.760010\n",
       "quality     -0.167085\n",
       "hips         0.848464\n",
       "bra_size     1.039445\n",
       "height       5.311308\n",
       "user_id     -1.182436\n",
       "shoe_size    8.448820\n",
       "dtype: float64"
      ]
     },
     "execution_count": 37,
     "metadata": {},
     "output_type": "execute_result"
    }
   ],
   "source": [
    "#Kurtorsis\n",
    "print('Kurtorsis of the variable :')\n",
    "df.kurt()"
   ]
  },
  {
   "cell_type": "markdown",
   "id": "75945a58",
   "metadata": {},
   "source": [
    "*skewness:*\n",
    "Skewness refers to the degree of symmetry, or more precisely, the degree of lack of symmetry.The value of the coefficient if skewness usually ranges from –3 to 3.\n",
    "1. When the distribution is symmetric, the coefficient is zero\n",
    "2. when the distribution is positively skewed , the coefficient is positive\n",
    "3. when the distribution is negatively skewed the coefficient is negative. \n",
    "\n",
    "*Kurtosis:*\n",
    "Kurtosis refers to the proportion of data that is heavy-tailed or light-tailed in comparison with a normal distribution.\n",
    "1. When k>0 it is said to be leptokurtic\n",
    "2. When k=0 it is said to be mesokurtic\n",
    "3. When k<0 it is said to be platykurtic."
   ]
  },
  {
   "cell_type": "markdown",
   "id": "6de23961",
   "metadata": {},
   "source": [
    "\n",
    "### 4.5 Based on the above approach impute the missing values with the right  metric. Or If you want to get some analysis before imputing missing values feel free to explore the analysis."
   ]
  },
  {
   "cell_type": "code",
   "execution_count": 38,
   "id": "f2cc444f",
   "metadata": {},
   "outputs": [
    {
     "data": {
      "text/plain": [
       "<AxesSubplot:>"
      ]
     },
     "execution_count": 38,
     "metadata": {},
     "output_type": "execute_result"
    },
    {
     "data": {
      "image/png": "[encoded data removed]",
      "text/plain": [
       "<Figure size 432x288 with 2 Axes>"
      ]
     },
     "metadata": {
      "needs_background": "light"
     },
     "output_type": "display_data"
    }
   ],
   "source": [
    "sns.heatmap(df1.corr(),annot=True)"
   ]
  },
  {
   "cell_type": "code",
   "execution_count": 39,
   "id": "e7330ea3",
   "metadata": {},
   "outputs": [
    {
     "data": {
      "text/plain": [
       "item_id            0.000000\n",
       "waist             96.518903\n",
       "size               0.000000\n",
       "quality            0.082136\n",
       "cup_size           7.555260\n",
       "hips              32.281677\n",
       "bra_size           7.268994\n",
       "category           0.000000\n",
       "bust              85.681846\n",
       "height             1.337118\n",
       "user_name          0.000000\n",
       "length             0.042276\n",
       "fit                0.000000\n",
       "user_id            0.000000\n",
       "shoe_size         66.282160\n",
       "shoe_width        77.525063\n",
       "review_summary     8.122962\n",
       "review_text        8.122962\n",
       "dtype: float64"
      ]
     },
     "execution_count": 39,
     "metadata": {},
     "output_type": "execute_result"
    }
   ],
   "source": [
    "(df1.isna().sum())/len(df1)*100"
   ]
  },
  {
   "cell_type": "code",
   "execution_count": 40,
   "id": "8a82aa6a",
   "metadata": {},
   "outputs": [],
   "source": [
    "# waist,bust column has above 80 % of null-values so we drop that column\n",
    "df1.drop(columns=['waist','bust'],inplace=True)"
   ]
  },
  {
   "cell_type": "markdown",
   "id": "303b1515",
   "metadata": {},
   "source": [
    "### quality column"
   ]
  },
  {
   "cell_type": "code",
   "execution_count": 41,
   "id": "0fe1ebd5",
   "metadata": {},
   "outputs": [
    {
     "data": {
      "image/png": "[encoded data removed]",
      "text/plain": [
       "<Figure size 432x288 with 1 Axes>"
      ]
     },
     "metadata": {
      "needs_background": "light"
     },
     "output_type": "display_data"
    },
    {
     "data": {
      "image/png": "[encoded data removed]",
      "text/plain": [
       "<Figure size 432x288 with 1 Axes>"
      ]
     },
     "metadata": {
      "needs_background": "light"
     },
     "output_type": "display_data"
    }
   ],
   "source": [
    "sns.kdeplot(df1['quality'])\n",
    "plt.axvline(df1['quality'].mean(),color='b',label='mean')\n",
    "plt.axvline(df1['quality'].median(),color='g',label='median')\n",
    "plt.axvline(df1['quality'].mode()[0],color='r',label='mode')\n",
    "plt.legend()\n",
    "plt.show()\n",
    "sns.boxplot(df1['quality'])\n",
    "plt.show()"
   ]
  },
  {
   "cell_type": "code",
   "execution_count": 42,
   "id": "ef40b34c",
   "metadata": {},
   "outputs": [],
   "source": [
    "# quality column has 0.8% has null-values and it doesnt have outlier so we replacing it with median\n",
    "df1['quality']=df1['quality'].fillna(df1['quality'].median())"
   ]
  },
  {
   "cell_type": "markdown",
   "id": "720bae83",
   "metadata": {},
   "source": [
    "### cup size column"
   ]
  },
  {
   "cell_type": "code",
   "execution_count": 43,
   "id": "c6338162",
   "metadata": {},
   "outputs": [],
   "source": [
    "# cup_size column has 7.5 % of missing values \n",
    "# its catergorial so we fill by mode\n",
    "df1['cup_size']=df1['cup_size'].fillna(df1['cup_size'].mode()[0])"
   ]
  },
  {
   "cell_type": "markdown",
   "id": "ff8d268b",
   "metadata": {},
   "source": [
    "#### Definition function for the filling missing values by grouping with different feature"
   ]
  },
  {
   "cell_type": "code",
   "execution_count": 44,
   "id": "6018b2fa",
   "metadata": {},
   "outputs": [],
   "source": [
    "def fill_nan(x,col_to_be_filled,grouped_by_col,dict_groupedkeys_mean_median_values):\n",
    "    for i in x[col_to_be_filled]:\n",
    "        if str(i)!=\"nan\":\n",
    "            continue\n",
    "        elif str(i)==\"nan\":\n",
    "            for j in x[grouped_by_col]:\n",
    "                for z in dict_groupedkeys_mean_median_values.keys():\n",
    "                    if j==z:\n",
    "                        x[col_to_be_filled]=x[col_to_be_filled].fillna(dict_groupedkeys_mean_median_values[j])"
   ]
  },
  {
   "cell_type": "markdown",
   "id": "093a219a",
   "metadata": {},
   "source": [
    "### hips column"
   ]
  },
  {
   "cell_type": "code",
   "execution_count": 45,
   "id": "b85f4198",
   "metadata": {},
   "outputs": [
    {
     "data": {
      "image/png": "[encoded data removed]",
      "text/plain": [
       "<Figure size 432x288 with 1 Axes>"
      ]
     },
     "metadata": {
      "needs_background": "light"
     },
     "output_type": "display_data"
    },
    {
     "data": {
      "image/png": "[encoded data removed]",
      "text/plain": [
       "<Figure size 432x288 with 1 Axes>"
      ]
     },
     "metadata": {
      "needs_background": "light"
     },
     "output_type": "display_data"
    }
   ],
   "source": [
    "sns.kdeplot(df1['hips'])\n",
    "plt.axvline(df1['hips'].mean(),color='b',label='mean')\n",
    "plt.axvline(df1['hips'].median(),color='g',label='median')\n",
    "plt.axvline(df1['hips'].mode()[0],color='r',label='mode')\n",
    "plt.legend()\n",
    "plt.show()\n",
    "sns.boxplot(df1['hips'])\n",
    "plt.show()"
   ]
  },
  {
   "cell_type": "code",
   "execution_count": null,
   "id": "9958760a",
   "metadata": {},
   "outputs": [],
   "source": [
    "# hips column has 32.2 % of missing values \n",
    "# we fill the missing value by using definition function created above using size column because hips and size is highly correlated.\n",
    "hips_median=df.groupby(\"size\")[\"hips\"].median()\n",
    "hips_median_dict=dict(hips_median)\n",
    "fill_nan(df1,\"hips\",\"size\",hips_median_dict)"
   ]
  },
  {
   "cell_type": "markdown",
   "id": "548264b7",
   "metadata": {},
   "source": [
    "### After filling the missing values of hip column"
   ]
  },
  {
   "cell_type": "code",
   "execution_count": null,
   "id": "e4651dd1",
   "metadata": {},
   "outputs": [],
   "source": [
    "sns.kdeplot(df1['hips'])"
   ]
  },
  {
   "cell_type": "markdown",
   "id": "ff8f87cd",
   "metadata": {},
   "source": [
    "### Bra size column"
   ]
  },
  {
   "cell_type": "markdown",
   "id": "e4be4855",
   "metadata": {},
   "source": [
    "### before filling null values"
   ]
  },
  {
   "cell_type": "code",
   "execution_count": null,
   "id": "643b4c89",
   "metadata": {},
   "outputs": [],
   "source": [
    "sns.kdeplot(df1['bra_size'])\n",
    "plt.axvline(df1['bra_size'].mean(),color='b',label='mean')\n",
    "plt.axvline(df1['bra_size'].median(),color='g',label='median')\n",
    "plt.axvline(df1['bra_size'].mode()[0],color='r',label='mode')\n",
    "plt.legend()\n",
    "plt.show()\n",
    "sns.boxplot(df1['bra_size'])\n",
    "plt.show()"
   ]
  },
  {
   "cell_type": "code",
   "execution_count": null,
   "id": "1f46587d",
   "metadata": {},
   "outputs": [],
   "source": [
    "# bra_size column has 7.2 % of missing values \n",
    "# we fill the missing value by using definition function created above using size column because bra size and size is highly correlated.\n",
    "bra_size_medians=df1.groupby(\"size\")[\"bra_size\"].median()\n",
    "bra_size_dict=dict(bra_size_medians)\n",
    "fill_nan(df1,\"bra_size\",\"size\",bra_size_dict)"
   ]
  },
  {
   "cell_type": "markdown",
   "id": "63372dc1",
   "metadata": {},
   "source": [
    "### After filling the missing values of bra size variable"
   ]
  },
  {
   "cell_type": "code",
   "execution_count": null,
   "id": "634f5ab9",
   "metadata": {},
   "outputs": [],
   "source": [
    "sns.kdeplot(df1['bra_size'])"
   ]
  },
  {
   "cell_type": "markdown",
   "id": "16618d30",
   "metadata": {},
   "source": [
    "## Height variable"
   ]
  },
  {
   "cell_type": "markdown",
   "id": "75dfbf94",
   "metadata": {},
   "source": [
    "### before filling missing values"
   ]
  },
  {
   "cell_type": "code",
   "execution_count": 30,
   "id": "ed639a9b",
   "metadata": {},
   "outputs": [
    {
     "data": {
      "image/png": "[encoded data removed]",
      "text/plain": [
       "<Figure size 432x288 with 1 Axes>"
      ]
     },
     "metadata": {
      "needs_background": "light"
     },
     "output_type": "display_data"
    },
    {
     "data": {
      "image/png": "[encoded data removed]",
      "text/plain": [
       "<Figure size 432x288 with 1 Axes>"
      ]
     },
     "metadata": {
      "needs_background": "light"
     },
     "output_type": "display_data"
    }
   ],
   "source": [
    "sns.kdeplot(df1['height'])\n",
    "plt.axvline(df1['height'].mean(),color='b',label='mean')\n",
    "plt.axvline(df1['height'].median(),color='g',label='median')\n",
    "plt.axvline(df1['height'].mode()[0],color='r',label='mode')\n",
    "plt.legend()\n",
    "plt.show()\n",
    "sns.boxplot(df1['height'])\n",
    "plt.show()"
   ]
  },
  {
   "cell_type": "code",
   "execution_count": 31,
   "id": "ca4177d6",
   "metadata": {},
   "outputs": [],
   "source": [
    "# # height column has 1.33 % of missing values \n",
    "# we fill by median\n",
    "df1['height']=df1['height'].fillna(df1['height'].median())"
   ]
  },
  {
   "cell_type": "markdown",
   "id": "7e800420",
   "metadata": {},
   "source": [
    "### lenght variable"
   ]
  },
  {
   "cell_type": "code",
   "execution_count": 32,
   "id": "b4a05285",
   "metadata": {},
   "outputs": [],
   "source": [
    "# # lenght column has 0.042 % of missing values \n",
    "# we fill by mode\n",
    "df1['length']=df1['length'].fillna(df1['length'].mode()[0])"
   ]
  },
  {
   "cell_type": "markdown",
   "id": "04fc2db1",
   "metadata": {},
   "source": [
    "### shoe size variable"
   ]
  },
  {
   "cell_type": "markdown",
   "id": "085ee2c3",
   "metadata": {},
   "source": [
    "### before filling the missing values"
   ]
  },
  {
   "cell_type": "code",
   "execution_count": 33,
   "id": "96221373",
   "metadata": {},
   "outputs": [
    {
     "data": {
      "image/png": "[encoded data removed]",
      "text/plain": [
       "<Figure size 432x288 with 1 Axes>"
      ]
     },
     "metadata": {
      "needs_background": "light"
     },
     "output_type": "display_data"
    },
    {
     "data": {
      "image/png": "[encoded data removed]",
      "text/plain": [
       "<Figure size 432x288 with 1 Axes>"
      ]
     },
     "metadata": {
      "needs_background": "light"
     },
     "output_type": "display_data"
    }
   ],
   "source": [
    "sns.kdeplot(df1['shoe_size'])\n",
    "plt.axvline(df1['shoe_size'].mean(),color='b',label='mean')\n",
    "plt.axvline(df1['shoe_size'].median(),color='g',label='median')\n",
    "plt.axvline(df1['shoe_size'].mode()[0],color='r',label='mode')\n",
    "plt.legend()\n",
    "plt.show()\n",
    "sns.boxplot(df1['shoe_size'])\n",
    "plt.show()"
   ]
  },
  {
   "cell_type": "code",
   "execution_count": 35,
   "id": "cce20d56",
   "metadata": {},
   "outputs": [],
   "source": [
    "#  column has 66.28 % of missing values \n",
    "# we fill by the missing value by using definition function created above using size column because shoe size and height is highly correlated.\n",
    "shoe_size_medians=df1.groupby(\"height\")[\"shoe_size\"].median()\n",
    "shoe_size_dict=dict(shoe_size_medians)\n",
    "fill_nan(df1,\"shoe_size\",\"height\",shoe_size_dict)"
   ]
  },
  {
   "cell_type": "markdown",
   "id": "6a212d01",
   "metadata": {},
   "source": [
    "### review_summary and review_text variable"
   ]
  },
  {
   "cell_type": "code",
   "execution_count": 36,
   "id": "cea3ac27",
   "metadata": {},
   "outputs": [],
   "source": [
    "# review_summary and review_text columns has 8.122 % each of missing values \n",
    "# we fill by no review as there is no review received from that customer.\n",
    "df1[['review_summary','review_text']]=df1[['review_summary','review_text']].fillna('no review')"
   ]
  },
  {
   "cell_type": "code",
   "execution_count": 37,
   "id": "7e308c33",
   "metadata": {},
   "outputs": [
    {
     "data": {
      "text/plain": [
       "array([nan, 'wide', 'average', 'narrow'], dtype=object)"
      ]
     },
     "execution_count": 37,
     "metadata": {},
     "output_type": "execute_result"
    }
   ],
   "source": [
    "df1['shoe_width'].unique()"
   ]
  },
  {
   "cell_type": "code",
   "execution_count": 38,
   "id": "ed4a9cc7",
   "metadata": {},
   "outputs": [
    {
     "data": {
      "text/plain": [
       "item_id               0\n",
       "size                  0\n",
       "quality               0\n",
       "cup_size              0\n",
       "hips                  0\n",
       "bra_size              0\n",
       "category              0\n",
       "height                0\n",
       "user_name             0\n",
       "length                0\n",
       "fit                   0\n",
       "user_id               0\n",
       "shoe_size             0\n",
       "shoe_width        64183\n",
       "review_summary        0\n",
       "review_text           0\n",
       "dtype: int64"
      ]
     },
     "execution_count": 38,
     "metadata": {},
     "output_type": "execute_result"
    }
   ],
   "source": [
    "df1.isna().sum()"
   ]
  },
  {
   "cell_type": "code",
   "execution_count": 40,
   "id": "21604467",
   "metadata": {},
   "outputs": [
    {
     "data": {
      "text/plain": [
       "shoe_width\n",
       "average    8.0\n",
       "narrow     8.0\n",
       "wide       8.5\n",
       "Name: shoe_size, dtype: float64"
      ]
     },
     "execution_count": 40,
     "metadata": {},
     "output_type": "execute_result"
    }
   ],
   "source": [
    "df1.groupby('shoe_width')['shoe_size'].median()"
   ]
  },
  {
   "cell_type": "markdown",
   "id": "c26f3846",
   "metadata": {},
   "source": [
    "## 5. Find the outliers which are below and above 2.5 * IQR - Q1 and 2.5 * IQR + Q3. "
   ]
  },
  {
   "cell_type": "code",
   "execution_count": 41,
   "id": "6ee61cf7",
   "metadata": {},
   "outputs": [
    {
     "name": "stdout",
     "output_type": "stream",
     "text": [
      "The outliers of size column is 38474\n",
      "The outliers of quality column is 1344\n",
      "The outliers of hips column is 3243\n",
      "The outliers of bra_size column is 0\n",
      "The outliers of height column is 31\n",
      "The outliers of shoe_size column is 9132\n"
     ]
    }
   ],
   "source": [
    "l=['size','quality','hips','bra_size','height','shoe_size']\n",
    "for i in l:\n",
    "        q1=df1[i].quantile(0.25)\n",
    "        q3=df1[i].quantile(0.75)\n",
    "        IQR=q3-q1\n",
    "        ll=2.5*IQR-q1\n",
    "        ul=2.5*IQR+q3\n",
    "        o=len(df1[(df1[i]<ll) | (df1[i]>ul)])\n",
    "        print(f\"The outliers of {i} column is {o}\")"
   ]
  },
  {
   "cell_type": "markdown",
   "id": "f0d742d0",
   "metadata": {},
   "source": [
    "## 6.  Check for the category dress review and visualize the top 10 reviews using any relevant plot. Identify the negative reviews if there are any."
   ]
  },
  {
   "cell_type": "code",
   "execution_count": 42,
   "id": "523a4cf5",
   "metadata": {},
   "outputs": [],
   "source": [
    "dress=df1[df1['category']=='dresses'][['category','review_summary']]"
   ]
  },
  {
   "cell_type": "code",
   "execution_count": 43,
   "id": "aec61d64",
   "metadata": {},
   "outputs": [
    {
     "data": {
      "text/plain": [
       "<AxesSubplot:>"
      ]
     },
     "execution_count": 43,
     "metadata": {},
     "output_type": "execute_result"
    },
    {
     "data": {
      "image/png": "[encoded data removed]",
      "text/plain": [
       "<Figure size 432x288 with 1 Axes>"
      ]
     },
     "metadata": {
      "needs_background": "light"
     },
     "output_type": "display_data"
    }
   ],
   "source": [
    "dress['review_summary'].value_counts().head(10).plot(kind='bar')"
   ]
  },
  {
   "cell_type": "raw",
   "id": "581a1515",
   "metadata": {},
   "source": [
    "there are no negative reviews in top 10 reviews."
   ]
  },
  {
   "cell_type": "markdown",
   "id": "22c05246",
   "metadata": {},
   "source": [
    "## 7. Find out the average shoe size for the different fits of the customer. Visualize using any relevant plot. Explain that, Is there any significant different shoe sizes for different fits?"
   ]
  },
  {
   "cell_type": "code",
   "execution_count": 44,
   "id": "0f0a3311",
   "metadata": {},
   "outputs": [
    {
     "data": {
      "text/plain": [
       "fit\n",
       "fit      8.363893\n",
       "large    8.399954\n",
       "small    8.434060\n",
       "Name: shoe_size, dtype: float64"
      ]
     },
     "execution_count": 44,
     "metadata": {},
     "output_type": "execute_result"
    }
   ],
   "source": [
    "df1.groupby('fit')['shoe_size'].mean()"
   ]
  },
  {
   "cell_type": "code",
   "execution_count": 45,
   "id": "b21d0c0d",
   "metadata": {},
   "outputs": [
    {
     "data": {
      "text/plain": [
       "<AxesSubplot:xlabel='fit'>"
      ]
     },
     "execution_count": 45,
     "metadata": {},
     "output_type": "execute_result"
    },
    {
     "data": {
      "image/png": "[encoded data removed]",
      "text/plain": [
       "<Figure size 432x288 with 1 Axes>"
      ]
     },
     "metadata": {
      "needs_background": "light"
     },
     "output_type": "display_data"
    }
   ],
   "source": [
    "df1.groupby('fit')['shoe_size'].mean().plot(kind='bar')"
   ]
  },
  {
   "cell_type": "markdown",
   "id": "f177284d",
   "metadata": {},
   "source": [
    "## 8. Identify the customer’s common shoe width and average size for those who  purchased the maximum quality. Is the mode of shoe width affect the user review? Visualize using the appropriate plot."
   ]
  },
  {
   "cell_type": "code",
   "execution_count": 46,
   "id": "2f757a8e",
   "metadata": {},
   "outputs": [
    {
     "name": "stdout",
     "output_type": "stream",
     "text": [
      "The customer’s common shoe width is average category and average size is 8.360728279962167 for those who purchased the maximum quality.\n"
     ]
    }
   ],
   "source": [
    "max_qual=df1[df1['quality']==5]\n",
    "common_shoe_width=max_qual['shoe_width'].mode()[0]\n",
    "average_size=max_qual['shoe_size'].mean()\n",
    "print(f\"The customer’s common shoe width is {common_shoe_width} category and average size is {average_size} for those who purchased the maximum quality.\")"
   ]
  },
  {
   "cell_type": "code",
   "execution_count": 61,
   "id": "6ebadad5",
   "metadata": {},
   "outputs": [],
   "source": [
    "common_shoe_width_review=df1[df1['shoe_width']==df1['shoe_width'].mode()[0]]"
   ]
  },
  {
   "cell_type": "code",
   "execution_count": 50,
   "id": "ca40f3cd",
   "metadata": {},
   "outputs": [
    {
     "data": {
      "text/plain": [
       "<AxesSubplot:xlabel='shoe_width', ylabel='shoe_size'>"
      ]
     },
     "execution_count": 50,
     "metadata": {},
     "output_type": "execute_result"
    },
    {
     "data": {
      "image/png": "[encoded data removed]",
      "text/plain": [
       "<Figure size 432x288 with 1 Axes>"
      ]
     },
     "metadata": {
      "needs_background": "light"
     },
     "output_type": "display_data"
    }
   ],
   "source": [
    "sns.barplot(max_qual['shoe_width'],max_qual['shoe_size'])"
   ]
  },
  {
   "cell_type": "code",
   "execution_count": null,
   "id": "96e34399",
   "metadata": {},
   "outputs": [],
   "source": []
  },
  {
   "cell_type": "markdown",
   "id": "95692abc",
   "metadata": {},
   "source": [
    "## 9. Extract the records belonging to the top 10 reviews, and then find the review summary for the different cup sizes. The basic analysis explains what you would try to infer. Try to use visualization."
   ]
  },
  {
   "cell_type": "code",
   "execution_count": null,
   "id": "0b73d6ce",
   "metadata": {},
   "outputs": [],
   "source": []
  },
  {
   "cell_type": "markdown",
   "id": "ab07c84b",
   "metadata": {},
   "source": [
    "## 10. Identify the most common review that we got from the customer whose hips size  is greater than 35. Find out what kind of inference you can make."
   ]
  },
  {
   "cell_type": "code",
   "execution_count": 309,
   "id": "4670793c",
   "metadata": {},
   "outputs": [
    {
     "data": {
      "text/plain": [
       "'no review'"
      ]
     },
     "execution_count": 309,
     "metadata": {},
     "output_type": "execute_result"
    }
   ],
   "source": [
    "a=df1[df1['hips']>35]                                \n",
    "a['review_summary'].mode()[0]"
   ]
  },
  {
   "cell_type": "raw",
   "id": "5e54f04c",
   "metadata": {},
   "source": [
    "The customers whose hip size is above 35 doesn't to  enter review. "
   ]
  },
  {
   "cell_type": "code",
   "execution_count": 310,
   "id": "72f6edbe",
   "metadata": {},
   "outputs": [
    {
     "data": {
      "text/plain": [
       "'Love it!'"
      ]
     },
     "execution_count": 310,
     "metadata": {},
     "output_type": "execute_result"
    }
   ],
   "source": [
    "a=df[df['hips']>35]                                \n",
    "a['review_summary'].mode()[0]"
   ]
  },
  {
   "cell_type": "raw",
   "id": "4c7184b5",
   "metadata": {},
   "source": [
    "The customers whose hip size is above 35 have loved the product."
   ]
  },
  {
   "cell_type": "markdown",
   "id": "a2e67ac9",
   "metadata": {},
   "source": [
    "## 11. What is the relationship between height and weight? Describe what kind of relationship it has."
   ]
  },
  {
   "cell_type": "raw",
   "id": "75b04507",
   "metadata": {},
   "source": [
    "The given dataset doesn't have the weight feature so we cannot find the relationship between height and weight. "
   ]
  },
  {
   "cell_type": "markdown",
   "id": "1b787710",
   "metadata": {},
   "source": [
    "## 12. Plot the pair plot for the numerical plot. Explain according to your problem statement how the pair plot would help you.\n",
    "\n",
    "Problem Statement:\n",
    "Let’s assume you are working as a data scientist in a newly started textile company. \n",
    "You have given a dataset that consists of most of the features related to the \n",
    "measurements, clothes types, Product ID, User ID, etc. Now you suppose to work the \n",
    "dataset to identify the patterns to understand the customer’s preferred brands and how \n",
    "the company needs to brand its products based on the patterns that you will be found \n",
    "them out. Explore all the EDA concepts you learned and use a statistical test to ensure \n",
    "that your identification is true or false.\n"
   ]
  },
  {
   "cell_type": "code",
   "execution_count": 304,
   "id": "f40b3dee",
   "metadata": {},
   "outputs": [
    {
     "data": {
      "text/plain": [
       "<seaborn.axisgrid.PairGrid at 0x1978e761970>"
      ]
     },
     "execution_count": 304,
     "metadata": {},
     "output_type": "execute_result"
    },
    {
     "data": {
      "image/png": "[encoded data removed]",
      "text/plain": [
       "<Figure size 1080x1080 with 42 Axes>"
      ]
     },
     "metadata": {
      "needs_background": "light"
     },
     "output_type": "display_data"
    }
   ],
   "source": [
    "num=df1.select_dtypes(include=['int64','float64']).columns\n",
    "sns.pairplot(df1[num])"
   ]
  },
  {
   "cell_type": "code",
   "execution_count": 303,
   "id": "ebff7027",
   "metadata": {},
   "outputs": [
    {
     "data": {
      "text/plain": [
       "item_id            object\n",
       "size                int64\n",
       "quality           float64\n",
       "cup_size           object\n",
       "hips              float64\n",
       "bra_size          float64\n",
       "category           object\n",
       "height            float64\n",
       "user_name          object\n",
       "length             object\n",
       "fit                object\n",
       "user_id            object\n",
       "shoe_size         float64\n",
       "shoe_width         object\n",
       "review_summary     object\n",
       "review_text        object\n",
       "dtype: object"
      ]
     },
     "execution_count": 303,
     "metadata": {},
     "output_type": "execute_result"
    }
   ],
   "source": [
    "df1.dtypes"
   ]
  },
  {
   "cell_type": "markdown",
   "id": "f30a0830",
   "metadata": {},
   "source": [
    "# Statistical Analysis:"
   ]
  },
  {
   "cell_type": "markdown",
   "id": "a58fa7ed",
   "metadata": {},
   "source": [
    "## 1. Test the claim that the category feature and review summary have any  relationship among them. The level of significance is 5%."
   ]
  },
  {
   "cell_type": "raw",
   "id": "fdd36c95",
   "metadata": {},
   "source": [
    "h0:  category and review summary are independent\n",
    "ha: category and review summary are not independent"
   ]
  },
  {
   "cell_type": "code",
   "execution_count": 74,
   "id": "0716410c",
   "metadata": {},
   "outputs": [
    {
     "data": {
      "text/html": [
       "<div>\n",
       "<style scoped>\n",
       "    .dataframe tbody tr th:only-of-type {\n",
       "        vertical-align: middle;\n",
       "    }\n",
       "\n",
       "    .dataframe tbody tr th {\n",
       "        vertical-align: top;\n",
       "    }\n",
       "\n",
       "    .dataframe thead th {\n",
       "        text-align: right;\n",
       "    }\n",
       "</style>\n",
       "<table border=\"1\" class=\"dataframe\">\n",
       "  <thead>\n",
       "    <tr style=\"text-align: right;\">\n",
       "      <th>review_summary</th>\n",
       "      <th>!</th>\n",
       "      <th>!!!</th>\n",
       "      <th>!!!!</th>\n",
       "      <th>#4 for me! I'm collecting</th>\n",
       "      <th>#FashionDeux  Absolutely</th>\n",
       "      <th>#FashionDeux  This is the</th>\n",
       "      <th>#FashionDeux I have been</th>\n",
       "      <th>#FashionDeux This skirt i</th>\n",
       "      <th>#Review ContestAlthough t</th>\n",
       "      <th>#ReviewContest</th>\n",
       "      <th>...</th>\n",
       "      <th>you have it in other colo</th>\n",
       "      <th>you know who this dress d</th>\n",
       "      <th>you may see similar cardi</th>\n",
       "      <th>you need every color</th>\n",
       "      <th>you should buy every colo</th>\n",
       "      <th>you shouldn't have to spe</th>\n",
       "      <th>yup.</th>\n",
       "      <th>yup. This coat is amazing</th>\n",
       "      <th>zipper stuck a little, bu</th>\n",
       "      <th>zipper very difficult to</th>\n",
       "    </tr>\n",
       "    <tr>\n",
       "      <th>category</th>\n",
       "      <th></th>\n",
       "      <th></th>\n",
       "      <th></th>\n",
       "      <th></th>\n",
       "      <th></th>\n",
       "      <th></th>\n",
       "      <th></th>\n",
       "      <th></th>\n",
       "      <th></th>\n",
       "      <th></th>\n",
       "      <th></th>\n",
       "      <th></th>\n",
       "      <th></th>\n",
       "      <th></th>\n",
       "      <th></th>\n",
       "      <th></th>\n",
       "      <th></th>\n",
       "      <th></th>\n",
       "      <th></th>\n",
       "      <th></th>\n",
       "      <th></th>\n",
       "    </tr>\n",
       "  </thead>\n",
       "  <tbody>\n",
       "    <tr>\n",
       "      <th>bottoms</th>\n",
       "      <td>1</td>\n",
       "      <td>0</td>\n",
       "      <td>1</td>\n",
       "      <td>0</td>\n",
       "      <td>1</td>\n",
       "      <td>0</td>\n",
       "      <td>0</td>\n",
       "      <td>1</td>\n",
       "      <td>0</td>\n",
       "      <td>0</td>\n",
       "      <td>...</td>\n",
       "      <td>0</td>\n",
       "      <td>0</td>\n",
       "      <td>0</td>\n",
       "      <td>0</td>\n",
       "      <td>0</td>\n",
       "      <td>0</td>\n",
       "      <td>0</td>\n",
       "      <td>0</td>\n",
       "      <td>0</td>\n",
       "      <td>0</td>\n",
       "    </tr>\n",
       "    <tr>\n",
       "      <th>dresses</th>\n",
       "      <td>0</td>\n",
       "      <td>0</td>\n",
       "      <td>0</td>\n",
       "      <td>0</td>\n",
       "      <td>0</td>\n",
       "      <td>0</td>\n",
       "      <td>1</td>\n",
       "      <td>0</td>\n",
       "      <td>0</td>\n",
       "      <td>0</td>\n",
       "      <td>...</td>\n",
       "      <td>0</td>\n",
       "      <td>1</td>\n",
       "      <td>0</td>\n",
       "      <td>0</td>\n",
       "      <td>0</td>\n",
       "      <td>1</td>\n",
       "      <td>0</td>\n",
       "      <td>0</td>\n",
       "      <td>0</td>\n",
       "      <td>1</td>\n",
       "    </tr>\n",
       "    <tr>\n",
       "      <th>new</th>\n",
       "      <td>0</td>\n",
       "      <td>0</td>\n",
       "      <td>0</td>\n",
       "      <td>0</td>\n",
       "      <td>0</td>\n",
       "      <td>1</td>\n",
       "      <td>0</td>\n",
       "      <td>0</td>\n",
       "      <td>1</td>\n",
       "      <td>1</td>\n",
       "      <td>...</td>\n",
       "      <td>0</td>\n",
       "      <td>0</td>\n",
       "      <td>0</td>\n",
       "      <td>0</td>\n",
       "      <td>1</td>\n",
       "      <td>0</td>\n",
       "      <td>0</td>\n",
       "      <td>0</td>\n",
       "      <td>1</td>\n",
       "      <td>0</td>\n",
       "    </tr>\n",
       "    <tr>\n",
       "      <th>outerwear</th>\n",
       "      <td>0</td>\n",
       "      <td>0</td>\n",
       "      <td>0</td>\n",
       "      <td>0</td>\n",
       "      <td>0</td>\n",
       "      <td>0</td>\n",
       "      <td>0</td>\n",
       "      <td>0</td>\n",
       "      <td>0</td>\n",
       "      <td>0</td>\n",
       "      <td>...</td>\n",
       "      <td>0</td>\n",
       "      <td>0</td>\n",
       "      <td>0</td>\n",
       "      <td>0</td>\n",
       "      <td>0</td>\n",
       "      <td>0</td>\n",
       "      <td>0</td>\n",
       "      <td>1</td>\n",
       "      <td>0</td>\n",
       "      <td>0</td>\n",
       "    </tr>\n",
       "    <tr>\n",
       "      <th>sale</th>\n",
       "      <td>0</td>\n",
       "      <td>0</td>\n",
       "      <td>0</td>\n",
       "      <td>0</td>\n",
       "      <td>0</td>\n",
       "      <td>0</td>\n",
       "      <td>0</td>\n",
       "      <td>0</td>\n",
       "      <td>0</td>\n",
       "      <td>0</td>\n",
       "      <td>...</td>\n",
       "      <td>0</td>\n",
       "      <td>0</td>\n",
       "      <td>0</td>\n",
       "      <td>0</td>\n",
       "      <td>0</td>\n",
       "      <td>0</td>\n",
       "      <td>0</td>\n",
       "      <td>0</td>\n",
       "      <td>0</td>\n",
       "      <td>0</td>\n",
       "    </tr>\n",
       "    <tr>\n",
       "      <th>tops</th>\n",
       "      <td>1</td>\n",
       "      <td>1</td>\n",
       "      <td>0</td>\n",
       "      <td>1</td>\n",
       "      <td>0</td>\n",
       "      <td>0</td>\n",
       "      <td>0</td>\n",
       "      <td>0</td>\n",
       "      <td>0</td>\n",
       "      <td>0</td>\n",
       "      <td>...</td>\n",
       "      <td>1</td>\n",
       "      <td>0</td>\n",
       "      <td>1</td>\n",
       "      <td>1</td>\n",
       "      <td>0</td>\n",
       "      <td>0</td>\n",
       "      <td>1</td>\n",
       "      <td>0</td>\n",
       "      <td>0</td>\n",
       "      <td>0</td>\n",
       "    </tr>\n",
       "    <tr>\n",
       "      <th>wedding</th>\n",
       "      <td>0</td>\n",
       "      <td>0</td>\n",
       "      <td>0</td>\n",
       "      <td>0</td>\n",
       "      <td>0</td>\n",
       "      <td>0</td>\n",
       "      <td>0</td>\n",
       "      <td>0</td>\n",
       "      <td>0</td>\n",
       "      <td>0</td>\n",
       "      <td>...</td>\n",
       "      <td>0</td>\n",
       "      <td>0</td>\n",
       "      <td>0</td>\n",
       "      <td>0</td>\n",
       "      <td>0</td>\n",
       "      <td>0</td>\n",
       "      <td>0</td>\n",
       "      <td>0</td>\n",
       "      <td>0</td>\n",
       "      <td>0</td>\n",
       "    </tr>\n",
       "  </tbody>\n",
       "</table>\n",
       "<p>7 rows × 61714 columns</p>\n",
       "</div>"
      ],
      "text/plain": [
       "review_summary  !  !!!  !!!!  #4 for me! I'm collecting  \\\n",
       "category                                                  \n",
       "bottoms         1    0     1                          0   \n",
       "dresses         0    0     0                          0   \n",
       "new             0    0     0                          0   \n",
       "outerwear       0    0     0                          0   \n",
       "sale            0    0     0                          0   \n",
       "tops            1    1     0                          1   \n",
       "wedding         0    0     0                          0   \n",
       "\n",
       "review_summary  #FashionDeux  Absolutely  #FashionDeux  This is the  \\\n",
       "category                                                              \n",
       "bottoms                                1                          0   \n",
       "dresses                                0                          0   \n",
       "new                                    0                          1   \n",
       "outerwear                              0                          0   \n",
       "sale                                   0                          0   \n",
       "tops                                   0                          0   \n",
       "wedding                                0                          0   \n",
       "\n",
       "review_summary  #FashionDeux I have been  #FashionDeux This skirt i  \\\n",
       "category                                                              \n",
       "bottoms                                0                          1   \n",
       "dresses                                1                          0   \n",
       "new                                    0                          0   \n",
       "outerwear                              0                          0   \n",
       "sale                                   0                          0   \n",
       "tops                                   0                          0   \n",
       "wedding                                0                          0   \n",
       "\n",
       "review_summary  #Review ContestAlthough t  #ReviewContest  ...  \\\n",
       "category                                                   ...   \n",
       "bottoms                                 0               0  ...   \n",
       "dresses                                 0               0  ...   \n",
       "new                                     1               1  ...   \n",
       "outerwear                               0               0  ...   \n",
       "sale                                    0               0  ...   \n",
       "tops                                    0               0  ...   \n",
       "wedding                                 0               0  ...   \n",
       "\n",
       "review_summary  you have it in other colo  you know who this dress d  \\\n",
       "category                                                               \n",
       "bottoms                                 0                          0   \n",
       "dresses                                 0                          1   \n",
       "new                                     0                          0   \n",
       "outerwear                               0                          0   \n",
       "sale                                    0                          0   \n",
       "tops                                    1                          0   \n",
       "wedding                                 0                          0   \n",
       "\n",
       "review_summary  you may see similar cardi  you need every color  \\\n",
       "category                                                          \n",
       "bottoms                                 0                     0   \n",
       "dresses                                 0                     0   \n",
       "new                                     0                     0   \n",
       "outerwear                               0                     0   \n",
       "sale                                    0                     0   \n",
       "tops                                    1                     1   \n",
       "wedding                                 0                     0   \n",
       "\n",
       "review_summary  you should buy every colo  you shouldn't have to spe  yup.  \\\n",
       "category                                                                     \n",
       "bottoms                                 0                          0     0   \n",
       "dresses                                 0                          1     0   \n",
       "new                                     1                          0     0   \n",
       "outerwear                               0                          0     0   \n",
       "sale                                    0                          0     0   \n",
       "tops                                    0                          0     1   \n",
       "wedding                                 0                          0     0   \n",
       "\n",
       "review_summary  yup. This coat is amazing  zipper stuck a little, bu  \\\n",
       "category                                                               \n",
       "bottoms                                 0                          0   \n",
       "dresses                                 0                          0   \n",
       "new                                     0                          1   \n",
       "outerwear                               1                          0   \n",
       "sale                                    0                          0   \n",
       "tops                                    0                          0   \n",
       "wedding                                 0                          0   \n",
       "\n",
       "review_summary  zipper very difficult to  \n",
       "category                                  \n",
       "bottoms                                0  \n",
       "dresses                                1  \n",
       "new                                    0  \n",
       "outerwear                              0  \n",
       "sale                                   0  \n",
       "tops                                   0  \n",
       "wedding                                0  \n",
       "\n",
       "[7 rows x 61714 columns]"
      ]
     },
     "execution_count": 74,
     "metadata": {},
     "output_type": "execute_result"
    }
   ],
   "source": [
    "obs_value=pd.crosstab(df1['category'],df1['review_summary'])\n",
    "obs_value"
   ]
  },
  {
   "cell_type": "code",
   "execution_count": 78,
   "id": "3ac03cff",
   "metadata": {},
   "outputs": [
    {
     "name": "stdout",
     "output_type": "stream",
     "text": [
      "alpha:  0.05\n",
      "chi_critical 371694.62417313165\n",
      "Test statistics: 428976.38584409567\n",
      "p_value:  0.0\n"
     ]
    }
   ],
   "source": [
    "# alpha\n",
    "alpha=0.05\n",
    "print('alpha: ',round(alpha,3))\n",
    "\n",
    "\n",
    "# chi_critical\n",
    "chi_critical=stats.chi2.isf(alpha,df=(61714-1)*(7-1))\n",
    "print('chi_critical',chi_critical)\n",
    "\n",
    "# test_statistics, p_value\n",
    "test_stat, p_value, dof, expected_value=stats.chi2_contingency(obs_value,correction=False)\n",
    "print('Test statistics:',test_stat)\n",
    "print('p_value: ',p_value)"
   ]
  },
  {
   "cell_type": "raw",
   "id": "dba38c96",
   "metadata": {},
   "source": [
    "since p_value < alpha falls in rejection zone and reject null hypothesis\n",
    "hence we conclude thatcategory and review summary are not independent\n",
    "\n",
    "since test statistics > chi_critical falls in rejection zone and reject null hypothesis.\n",
    "thus, conclude that category and review summary are not independent."
   ]
  },
  {
   "cell_type": "markdown",
   "id": "9f0ea52a",
   "metadata": {},
   "source": [
    "## 2. Test statistically whether the size and hips have any relationship using 0.05 alpha. Before the above test, Test the normality test."
   ]
  },
  {
   "cell_type": "code",
   "execution_count": 92,
   "id": "3071b103",
   "metadata": {},
   "outputs": [
    {
     "name": "stdout",
     "output_type": "stream",
     "text": [
      "The shapiro of size variable is\n",
      " ShapiroResult(statistic=0.8811834454536438, pvalue=0.0)\n",
      "The shapiro of Hips variable is\n",
      " ShapiroResult(statistic=0.8368343114852905, pvalue=0.0)\n",
      "alpha:  0.05\n"
     ]
    }
   ],
   "source": [
    "#Check fot normality using shapiro.\n",
    "# h0: data is normal\n",
    "# ha: data is not normal\n",
    "print('The shapiro of size variable is\\n',stats.shapiro(df1['size']))\n",
    "print('The shapiro of Hips variable is\\n',stats.shapiro(df1['hips']))\n",
    "alpha=0.05\n",
    "print('alpha: ',alpha)"
   ]
  },
  {
   "cell_type": "raw",
   "id": "759fbc8f",
   "metadata": {},
   "source": [
    "since the p_value < alpha the  the data is not normal."
   ]
  },
  {
   "cell_type": "raw",
   "id": "4bc9c415",
   "metadata": {},
   "source": [
    "hypothesis testing:\n",
    "h0: mu1-mu2=0   ha:mu1-mu2<>0"
   ]
  },
  {
   "cell_type": "code",
   "execution_count": 129,
   "id": "b7f80d09",
   "metadata": {},
   "outputs": [
    {
     "name": "stdout",
     "output_type": "stream",
     "text": [
      "alpha:  0.05\n",
      "z_alpha:  1.9599639845400545\n",
      "z:  -790.2774797641302\n",
      "p_value:  0.960122388323255\n"
     ]
    }
   ],
   "source": [
    "# decision criteria\n",
    "alpha=0.05\n",
    "z_alpha=stats.norm.isf(alpha/2)\n",
    "print('alpha: ',alpha)\n",
    "print('z_alpha: ',z_alpha)\n",
    "\n",
    "# sample statistics\n",
    "x1=np.mean(df1['size'])\n",
    "x2=np.mean(df1['hips'])\n",
    "sd1=np.std(df1['size'],ddof=1)\n",
    "sd2=np.std(df1['hips'],ddof=1)\n",
    "n1=len(df1['size'])\n",
    "n2=len(df1['hips'])\n",
    "\n",
    "#z calculation\n",
    "z=(x1-x2)/np.sqrt(((sd1**2)/n1)+((sd2**2)/n2))\n",
    "print('z: ',z)\n",
    "\n",
    "#p_value\n",
    "p_value=stats.norm.sf(alpha)\n",
    "print('p_value: ',(p_value*2))"
   ]
  },
  {
   "cell_type": "markdown",
   "id": "eab36787",
   "metadata": {},
   "source": [
    "## 3. Does the quality significantly differ for any one shoe width? Test the test with 96%confidence intervals.\n",
    "Check the normality of the data before the above test. Alpha = .05"
   ]
  },
  {
   "cell_type": "raw",
   "id": "755e2653",
   "metadata": {},
   "source": [
    "# hypothesis testing\n",
    "h0:the quality are equal for all for all different shoe width type.\n",
    "ha: the quality is equal for atleast one  different shoe width type."
   ]
  },
  {
   "cell_type": "code",
   "execution_count": 115,
   "id": "c760d430",
   "metadata": {},
   "outputs": [
    {
     "name": "stdout",
     "output_type": "stream",
     "text": [
      "p_value of wide category is 0.0\n",
      "p_value of average category is 0.0\n",
      "p_value of narrow category is 3.396777072946923e-37\n",
      "levene test:  LeveneResult(statistic=2.2639147140981035, pvalue=0.1039714160014336)\n",
      "alpha: 0.05\n"
     ]
    }
   ],
   "source": [
    "# alpha for nomality check\n",
    "alpha=0.05\n",
    "\n",
    "\n",
    "# data separation\n",
    "df_w=df1[df1['shoe_width']=='wide']['quality']\n",
    "df_a=df1[df1['shoe_width']=='average']['quality']\n",
    "df_n=df1[df1['shoe_width']=='narrow']['quality']\n",
    "\n",
    "# shapiro test\n",
    "stat_w,p_value_w=stats.shapiro(df_w)\n",
    "stat_a,p_value_a=stats.shapiro(df_a)\n",
    "stat_n,p_value_n=stats.shapiro(df_n)\n",
    "print(\"p_value of wide category is\",p_value_w)\n",
    "print(\"p_value of average category is\",p_value_a)\n",
    "print(\"p_value of narrow category is\",p_value_n)\n",
    "\n",
    "\n",
    "# levene test \n",
    "lev_test=stats.levene(df_a,df_n,df_w)\n",
    "print('levene test: ',lev_test)\n",
    "print('alpha:',alpha)"
   ]
  },
  {
   "cell_type": "raw",
   "id": "d5df4cb3",
   "metadata": {},
   "source": []
  },
  {
   "cell_type": "code",
   "execution_count": 118,
   "id": "351f188e",
   "metadata": {},
   "outputs": [
    {
     "name": "stdout",
     "output_type": "stream",
     "text": [
      "f_alpha:  3.219000982698367\n",
      "f_statistics:  4.942314890619981\n",
      "f_p_value 0.007147430293019869\n",
      "alpha: 0.040000000000000036\n"
     ]
    }
   ],
   "source": [
    "#alpha\n",
    "ci=0.96\n",
    "alpha=1-ci\n",
    "t=df1['shoe_width'].nunique()\n",
    "n=len(df1)\n",
    "\n",
    "# f_alpha\n",
    "f_alpha=stats.f.isf(alpha,dfn=t-1,dfd=n-t\n",
    "                   )\n",
    "print('f_alpha: ',f_alpha)\n",
    "\n",
    "#f-one way anova test\n",
    "f_stats,f_p_value=stats.f_oneway(df_a,df_n,df_w)\n",
    "print('f_statistics: ',f_stats)\n",
    "print('f_p_value',f_p_value)\n",
    "print('alpha:',alpha)"
   ]
  },
  {
   "cell_type": "code",
   "execution_count": null,
   "id": "66dc63da",
   "metadata": {},
   "outputs": [],
   "source": []
  },
  {
   "cell_type": "markdown",
   "id": "1c9b1278",
   "metadata": {},
   "source": [
    "## 4. Check if the shoe width feature affects the review summary with a 99% confidence interval."
   ]
  },
  {
   "cell_type": "raw",
   "id": "8fa7305b",
   "metadata": {},
   "source": [
    "h0:  shoe width and review summary are independent\n",
    "ha: shoe width and review summary are not independent"
   ]
  },
  {
   "cell_type": "code",
   "execution_count": 80,
   "id": "05ecd4b8",
   "metadata": {},
   "outputs": [
    {
     "data": {
      "text/html": [
       "<div>\n",
       "<style scoped>\n",
       "    .dataframe tbody tr th:only-of-type {\n",
       "        vertical-align: middle;\n",
       "    }\n",
       "\n",
       "    .dataframe tbody tr th {\n",
       "        vertical-align: top;\n",
       "    }\n",
       "\n",
       "    .dataframe thead th {\n",
       "        text-align: right;\n",
       "    }\n",
       "</style>\n",
       "<table border=\"1\" class=\"dataframe\">\n",
       "  <thead>\n",
       "    <tr style=\"text-align: right;\">\n",
       "      <th>review_summary</th>\n",
       "      <th>#FashionDeux I have been</th>\n",
       "      <th>#FashionDeux This skirt i</th>\n",
       "      <th>#Review ContestAlthough t</th>\n",
       "      <th>#ReviewContest    I don't</th>\n",
       "      <th>#ReviewContest    I wish</th>\n",
       "      <th>#ReviewContest    Love th</th>\n",
       "      <th>#ReviewContest    Super c</th>\n",
       "      <th>#ReviewContest   Can't st</th>\n",
       "      <th>#ReviewContest   I love t</th>\n",
       "      <th>#ReviewContest   I wasn't</th>\n",
       "      <th>...</th>\n",
       "      <th>what a gorgeous coat  it</th>\n",
       "      <th>wish I had sized down. fe</th>\n",
       "      <th>wish it was a tad longer</th>\n",
       "      <th>with all the reviews and</th>\n",
       "      <th>wore larger than last sea</th>\n",
       "      <th>worth the investment!  fi</th>\n",
       "      <th>you could probably size d</th>\n",
       "      <th>you know who this dress d</th>\n",
       "      <th>yup.</th>\n",
       "      <th>yup. This coat is amazing</th>\n",
       "    </tr>\n",
       "    <tr>\n",
       "      <th>shoe_width</th>\n",
       "      <th></th>\n",
       "      <th></th>\n",
       "      <th></th>\n",
       "      <th></th>\n",
       "      <th></th>\n",
       "      <th></th>\n",
       "      <th></th>\n",
       "      <th></th>\n",
       "      <th></th>\n",
       "      <th></th>\n",
       "      <th></th>\n",
       "      <th></th>\n",
       "      <th></th>\n",
       "      <th></th>\n",
       "      <th></th>\n",
       "      <th></th>\n",
       "      <th></th>\n",
       "      <th></th>\n",
       "      <th></th>\n",
       "      <th></th>\n",
       "      <th></th>\n",
       "    </tr>\n",
       "  </thead>\n",
       "  <tbody>\n",
       "    <tr>\n",
       "      <th>average</th>\n",
       "      <td>1</td>\n",
       "      <td>1</td>\n",
       "      <td>1</td>\n",
       "      <td>1</td>\n",
       "      <td>1</td>\n",
       "      <td>4</td>\n",
       "      <td>1</td>\n",
       "      <td>1</td>\n",
       "      <td>1</td>\n",
       "      <td>1</td>\n",
       "      <td>...</td>\n",
       "      <td>1</td>\n",
       "      <td>1</td>\n",
       "      <td>1</td>\n",
       "      <td>1</td>\n",
       "      <td>1</td>\n",
       "      <td>0</td>\n",
       "      <td>0</td>\n",
       "      <td>1</td>\n",
       "      <td>1</td>\n",
       "      <td>1</td>\n",
       "    </tr>\n",
       "    <tr>\n",
       "      <th>narrow</th>\n",
       "      <td>0</td>\n",
       "      <td>0</td>\n",
       "      <td>0</td>\n",
       "      <td>0</td>\n",
       "      <td>0</td>\n",
       "      <td>0</td>\n",
       "      <td>0</td>\n",
       "      <td>0</td>\n",
       "      <td>0</td>\n",
       "      <td>0</td>\n",
       "      <td>...</td>\n",
       "      <td>0</td>\n",
       "      <td>0</td>\n",
       "      <td>0</td>\n",
       "      <td>0</td>\n",
       "      <td>0</td>\n",
       "      <td>0</td>\n",
       "      <td>1</td>\n",
       "      <td>0</td>\n",
       "      <td>0</td>\n",
       "      <td>0</td>\n",
       "    </tr>\n",
       "    <tr>\n",
       "      <th>wide</th>\n",
       "      <td>0</td>\n",
       "      <td>0</td>\n",
       "      <td>0</td>\n",
       "      <td>0</td>\n",
       "      <td>0</td>\n",
       "      <td>0</td>\n",
       "      <td>0</td>\n",
       "      <td>0</td>\n",
       "      <td>0</td>\n",
       "      <td>0</td>\n",
       "      <td>...</td>\n",
       "      <td>0</td>\n",
       "      <td>0</td>\n",
       "      <td>0</td>\n",
       "      <td>0</td>\n",
       "      <td>0</td>\n",
       "      <td>1</td>\n",
       "      <td>0</td>\n",
       "      <td>0</td>\n",
       "      <td>0</td>\n",
       "      <td>0</td>\n",
       "    </tr>\n",
       "  </tbody>\n",
       "</table>\n",
       "<p>3 rows × 15487 columns</p>\n",
       "</div>"
      ],
      "text/plain": [
       "review_summary  #FashionDeux I have been  #FashionDeux This skirt i  \\\n",
       "shoe_width                                                            \n",
       "average                                1                          1   \n",
       "narrow                                 0                          0   \n",
       "wide                                   0                          0   \n",
       "\n",
       "review_summary  #Review ContestAlthough t  #ReviewContest    I don't  \\\n",
       "shoe_width                                                             \n",
       "average                                 1                          1   \n",
       "narrow                                  0                          0   \n",
       "wide                                    0                          0   \n",
       "\n",
       "review_summary  #ReviewContest    I wish  #ReviewContest    Love th  \\\n",
       "shoe_width                                                            \n",
       "average                                1                          4   \n",
       "narrow                                 0                          0   \n",
       "wide                                   0                          0   \n",
       "\n",
       "review_summary  #ReviewContest    Super c  #ReviewContest   Can't st  \\\n",
       "shoe_width                                                             \n",
       "average                                 1                          1   \n",
       "narrow                                  0                          0   \n",
       "wide                                    0                          0   \n",
       "\n",
       "review_summary  #ReviewContest   I love t  #ReviewContest   I wasn't  ...  \\\n",
       "shoe_width                                                            ...   \n",
       "average                                 1                          1  ...   \n",
       "narrow                                  0                          0  ...   \n",
       "wide                                    0                          0  ...   \n",
       "\n",
       "review_summary  what a gorgeous coat  it  wish I had sized down. fe  \\\n",
       "shoe_width                                                            \n",
       "average                                1                          1   \n",
       "narrow                                 0                          0   \n",
       "wide                                   0                          0   \n",
       "\n",
       "review_summary  wish it was a tad longer  with all the reviews and  \\\n",
       "shoe_width                                                           \n",
       "average                                1                         1   \n",
       "narrow                                 0                         0   \n",
       "wide                                   0                         0   \n",
       "\n",
       "review_summary  wore larger than last sea  worth the investment!  fi  \\\n",
       "shoe_width                                                             \n",
       "average                                 1                          0   \n",
       "narrow                                  0                          0   \n",
       "wide                                    0                          1   \n",
       "\n",
       "review_summary  you could probably size d  you know who this dress d  yup.  \\\n",
       "shoe_width                                                                   \n",
       "average                                 0                          1     1   \n",
       "narrow                                  1                          0     0   \n",
       "wide                                    0                          0     0   \n",
       "\n",
       "review_summary  yup. This coat is amazing  \n",
       "shoe_width                                 \n",
       "average                                 1  \n",
       "narrow                                  0  \n",
       "wide                                    0  \n",
       "\n",
       "[3 rows x 15487 columns]"
      ]
     },
     "execution_count": 80,
     "metadata": {},
     "output_type": "execute_result"
    }
   ],
   "source": [
    "# observed value\n",
    "obs_value=pd.crosstab(df1['shoe_width'],df1['review_summary'])\n",
    "obs_value"
   ]
  },
  {
   "cell_type": "code",
   "execution_count": 119,
   "id": "ef9c225a",
   "metadata": {},
   "outputs": [
    {
     "name": "stdout",
     "output_type": "stream",
     "text": [
      "alpha:  0.01\n",
      "chi_critical 31553.933886861574\n",
      "Test statistics: 265428.2368633073\n",
      "p_value:  4.082761135352812e-147\n"
     ]
    }
   ],
   "source": [
    "# alpha\n",
    "ci=0.99\n",
    "alpha=1-ci\n",
    "print('alpha: ',round(alpha,3))\n",
    "\n",
    "\n",
    "# chi_critical\n",
    "chi_critical=stats.chi2.isf(alpha,df=(15487-1)*(3-1))\n",
    "print('chi_critical',chi_critical)\n",
    "\n",
    "# test_statistics, p_value\n",
    "test_stat, p_value, dof, expected_value=stats.chi2_contingency(obs_value,correction=False)\n",
    "print('Test statistics:',test_stat)\n",
    "print('p_value: ',p_value)"
   ]
  },
  {
   "cell_type": "raw",
   "id": "55b2ce7d",
   "metadata": {},
   "source": [
    "since p_value < alpha falls in rejection zone and reject null hypothesis\n",
    "hence we conclude that shoe width and review summary are not independent\n",
    "\n",
    "since test statistics > chi_critical falls in rejection zone and reject null hypothesis.\n",
    "thus, conclude that shoe width and review summary are not independent."
   ]
  },
  {
   "cell_type": "markdown",
   "id": "f0f8c226",
   "metadata": {},
   "source": [
    "## 5. Check if the length feature affects the review summary with a 95% confidence interval."
   ]
  },
  {
   "cell_type": "raw",
   "id": "aaf42360",
   "metadata": {},
   "source": [
    "h0:  length and review summary are independent\n",
    "ha: length and review summary are not independent"
   ]
  },
  {
   "cell_type": "code",
   "execution_count": 84,
   "id": "a42492d0",
   "metadata": {},
   "outputs": [
    {
     "data": {
      "text/html": [
       "<div>\n",
       "<style scoped>\n",
       "    .dataframe tbody tr th:only-of-type {\n",
       "        vertical-align: middle;\n",
       "    }\n",
       "\n",
       "    .dataframe tbody tr th {\n",
       "        vertical-align: top;\n",
       "    }\n",
       "\n",
       "    .dataframe thead th {\n",
       "        text-align: right;\n",
       "    }\n",
       "</style>\n",
       "<table border=\"1\" class=\"dataframe\">\n",
       "  <thead>\n",
       "    <tr style=\"text-align: right;\">\n",
       "      <th>review_summary</th>\n",
       "      <th>!</th>\n",
       "      <th>!!!</th>\n",
       "      <th>!!!!</th>\n",
       "      <th>#4 for me! I'm collecting</th>\n",
       "      <th>#FashionDeux  Absolutely</th>\n",
       "      <th>#FashionDeux  This is the</th>\n",
       "      <th>#FashionDeux I have been</th>\n",
       "      <th>#FashionDeux This skirt i</th>\n",
       "      <th>#Review ContestAlthough t</th>\n",
       "      <th>#ReviewContest</th>\n",
       "      <th>...</th>\n",
       "      <th>you have it in other colo</th>\n",
       "      <th>you know who this dress d</th>\n",
       "      <th>you may see similar cardi</th>\n",
       "      <th>you need every color</th>\n",
       "      <th>you should buy every colo</th>\n",
       "      <th>you shouldn't have to spe</th>\n",
       "      <th>yup.</th>\n",
       "      <th>yup. This coat is amazing</th>\n",
       "      <th>zipper stuck a little, bu</th>\n",
       "      <th>zipper very difficult to</th>\n",
       "    </tr>\n",
       "    <tr>\n",
       "      <th>length</th>\n",
       "      <th></th>\n",
       "      <th></th>\n",
       "      <th></th>\n",
       "      <th></th>\n",
       "      <th></th>\n",
       "      <th></th>\n",
       "      <th></th>\n",
       "      <th></th>\n",
       "      <th></th>\n",
       "      <th></th>\n",
       "      <th></th>\n",
       "      <th></th>\n",
       "      <th></th>\n",
       "      <th></th>\n",
       "      <th></th>\n",
       "      <th></th>\n",
       "      <th></th>\n",
       "      <th></th>\n",
       "      <th></th>\n",
       "      <th></th>\n",
       "      <th></th>\n",
       "    </tr>\n",
       "  </thead>\n",
       "  <tbody>\n",
       "    <tr>\n",
       "      <th>just right</th>\n",
       "      <td>1</td>\n",
       "      <td>1</td>\n",
       "      <td>1</td>\n",
       "      <td>1</td>\n",
       "      <td>1</td>\n",
       "      <td>0</td>\n",
       "      <td>1</td>\n",
       "      <td>1</td>\n",
       "      <td>0</td>\n",
       "      <td>1</td>\n",
       "      <td>...</td>\n",
       "      <td>1</td>\n",
       "      <td>1</td>\n",
       "      <td>1</td>\n",
       "      <td>1</td>\n",
       "      <td>1</td>\n",
       "      <td>1</td>\n",
       "      <td>1</td>\n",
       "      <td>1</td>\n",
       "      <td>1</td>\n",
       "      <td>1</td>\n",
       "    </tr>\n",
       "    <tr>\n",
       "      <th>slightly long</th>\n",
       "      <td>1</td>\n",
       "      <td>0</td>\n",
       "      <td>0</td>\n",
       "      <td>0</td>\n",
       "      <td>0</td>\n",
       "      <td>1</td>\n",
       "      <td>0</td>\n",
       "      <td>0</td>\n",
       "      <td>0</td>\n",
       "      <td>0</td>\n",
       "      <td>...</td>\n",
       "      <td>0</td>\n",
       "      <td>0</td>\n",
       "      <td>0</td>\n",
       "      <td>0</td>\n",
       "      <td>0</td>\n",
       "      <td>0</td>\n",
       "      <td>0</td>\n",
       "      <td>0</td>\n",
       "      <td>0</td>\n",
       "      <td>0</td>\n",
       "    </tr>\n",
       "    <tr>\n",
       "      <th>slightly short</th>\n",
       "      <td>0</td>\n",
       "      <td>0</td>\n",
       "      <td>0</td>\n",
       "      <td>0</td>\n",
       "      <td>0</td>\n",
       "      <td>0</td>\n",
       "      <td>0</td>\n",
       "      <td>0</td>\n",
       "      <td>0</td>\n",
       "      <td>0</td>\n",
       "      <td>...</td>\n",
       "      <td>0</td>\n",
       "      <td>0</td>\n",
       "      <td>0</td>\n",
       "      <td>0</td>\n",
       "      <td>0</td>\n",
       "      <td>0</td>\n",
       "      <td>0</td>\n",
       "      <td>0</td>\n",
       "      <td>0</td>\n",
       "      <td>0</td>\n",
       "    </tr>\n",
       "    <tr>\n",
       "      <th>very long</th>\n",
       "      <td>0</td>\n",
       "      <td>0</td>\n",
       "      <td>0</td>\n",
       "      <td>0</td>\n",
       "      <td>0</td>\n",
       "      <td>0</td>\n",
       "      <td>0</td>\n",
       "      <td>0</td>\n",
       "      <td>1</td>\n",
       "      <td>0</td>\n",
       "      <td>...</td>\n",
       "      <td>0</td>\n",
       "      <td>0</td>\n",
       "      <td>0</td>\n",
       "      <td>0</td>\n",
       "      <td>0</td>\n",
       "      <td>0</td>\n",
       "      <td>0</td>\n",
       "      <td>0</td>\n",
       "      <td>0</td>\n",
       "      <td>0</td>\n",
       "    </tr>\n",
       "    <tr>\n",
       "      <th>very short</th>\n",
       "      <td>0</td>\n",
       "      <td>0</td>\n",
       "      <td>0</td>\n",
       "      <td>0</td>\n",
       "      <td>0</td>\n",
       "      <td>0</td>\n",
       "      <td>0</td>\n",
       "      <td>0</td>\n",
       "      <td>0</td>\n",
       "      <td>0</td>\n",
       "      <td>...</td>\n",
       "      <td>0</td>\n",
       "      <td>0</td>\n",
       "      <td>0</td>\n",
       "      <td>0</td>\n",
       "      <td>0</td>\n",
       "      <td>0</td>\n",
       "      <td>0</td>\n",
       "      <td>0</td>\n",
       "      <td>0</td>\n",
       "      <td>0</td>\n",
       "    </tr>\n",
       "  </tbody>\n",
       "</table>\n",
       "<p>5 rows × 61714 columns</p>\n",
       "</div>"
      ],
      "text/plain": [
       "review_summary  !  !!!  !!!!  #4 for me! I'm collecting  \\\n",
       "length                                                    \n",
       "just right      1    1     1                          1   \n",
       "slightly long   1    0     0                          0   \n",
       "slightly short  0    0     0                          0   \n",
       "very long       0    0     0                          0   \n",
       "very short      0    0     0                          0   \n",
       "\n",
       "review_summary  #FashionDeux  Absolutely  #FashionDeux  This is the  \\\n",
       "length                                                                \n",
       "just right                             1                          0   \n",
       "slightly long                          0                          1   \n",
       "slightly short                         0                          0   \n",
       "very long                              0                          0   \n",
       "very short                             0                          0   \n",
       "\n",
       "review_summary  #FashionDeux I have been  #FashionDeux This skirt i  \\\n",
       "length                                                                \n",
       "just right                             1                          1   \n",
       "slightly long                          0                          0   \n",
       "slightly short                         0                          0   \n",
       "very long                              0                          0   \n",
       "very short                             0                          0   \n",
       "\n",
       "review_summary  #Review ContestAlthough t  #ReviewContest  ...  \\\n",
       "length                                                     ...   \n",
       "just right                              0               1  ...   \n",
       "slightly long                           0               0  ...   \n",
       "slightly short                          0               0  ...   \n",
       "very long                               1               0  ...   \n",
       "very short                              0               0  ...   \n",
       "\n",
       "review_summary  you have it in other colo  you know who this dress d  \\\n",
       "length                                                                 \n",
       "just right                              1                          1   \n",
       "slightly long                           0                          0   \n",
       "slightly short                          0                          0   \n",
       "very long                               0                          0   \n",
       "very short                              0                          0   \n",
       "\n",
       "review_summary  you may see similar cardi  you need every color  \\\n",
       "length                                                            \n",
       "just right                              1                     1   \n",
       "slightly long                           0                     0   \n",
       "slightly short                          0                     0   \n",
       "very long                               0                     0   \n",
       "very short                              0                     0   \n",
       "\n",
       "review_summary  you should buy every colo  you shouldn't have to spe  yup.  \\\n",
       "length                                                                       \n",
       "just right                              1                          1     1   \n",
       "slightly long                           0                          0     0   \n",
       "slightly short                          0                          0     0   \n",
       "very long                               0                          0     0   \n",
       "very short                              0                          0     0   \n",
       "\n",
       "review_summary  yup. This coat is amazing  zipper stuck a little, bu  \\\n",
       "length                                                                 \n",
       "just right                              1                          1   \n",
       "slightly long                           0                          0   \n",
       "slightly short                          0                          0   \n",
       "very long                               0                          0   \n",
       "very short                              0                          0   \n",
       "\n",
       "review_summary  zipper very difficult to  \n",
       "length                                    \n",
       "just right                             1  \n",
       "slightly long                          0  \n",
       "slightly short                         0  \n",
       "very long                              0  \n",
       "very short                             0  \n",
       "\n",
       "[5 rows x 61714 columns]"
      ]
     },
     "execution_count": 84,
     "metadata": {},
     "output_type": "execute_result"
    }
   ],
   "source": [
    "# observed value\n",
    "obs_value=pd.crosstab(df1['length'],df1['review_summary'])\n",
    "obs_value"
   ]
  },
  {
   "cell_type": "code",
   "execution_count": 87,
   "id": "d9192df4",
   "metadata": {},
   "outputs": [
    {
     "name": "stdout",
     "output_type": "stream",
     "text": [
      "alpha:  0.05\n",
      "chi_critical 248008.87706995953\n",
      "Test statistics: 265428.2368633073\n",
      "p_value:  4.082761135352812e-147\n"
     ]
    }
   ],
   "source": [
    "# alpha\n",
    "ci=0.95\n",
    "alpha=1-ci\n",
    "print('alpha: ',round(alpha,3))\n",
    "\n",
    "\n",
    "# chi_critical\n",
    "chi_critical=stats.chi2.isf(alpha,df=(61714-1)*(5-1))\n",
    "print('chi_critical',chi_critical)\n",
    "\n",
    "# test_statistics, p_value\n",
    "test_stat, p_value, dof, expected_value=stats.chi2_contingency(obs_value,correction=False)\n",
    "print('Test statistics:',test_stat)\n",
    "print('p_value: ',p_value)"
   ]
  },
  {
   "cell_type": "raw",
   "id": "0dca666e",
   "metadata": {},
   "source": [
    "since p_value < alpha falls in rejection zone and reject null hypothesis\n",
    "hence we conclude that length and review summary are not independent\n",
    "\n",
    "since test statistics > chi_critical falls in rejection zone and reject null hypothesis.\n",
    "thus, conclude thatlength and review summary are not independent."
   ]
  },
  {
   "cell_type": "markdown",
   "id": "98323ebe",
   "metadata": {},
   "source": [
    "## 6. Does the average quality significantly differ for the different fits? Kindly test the relevant hypothesis test by having 0.05 alpha.\n",
    "Check the normality of the data before the above test. Alpha = .05"
   ]
  },
  {
   "cell_type": "raw",
   "id": "98ae5f01",
   "metadata": {},
   "source": [
    "# hypothesis testing\n",
    "h0:the average quality are equal for all for all different fits.\n",
    "ha: the average quality is equal for atleast one  different fits."
   ]
  },
  {
   "cell_type": "code",
   "execution_count": 125,
   "id": "f8bdae01",
   "metadata": {},
   "outputs": [
    {
     "name": "stdout",
     "output_type": "stream",
     "text": [
      "p_value of small category is 0.0\n",
      "p_value of fit category is 0.0\n",
      "p_value of large category is 0.0\n",
      "levene test:  LeveneResult(statistic=342.34369998891185, pvalue=8.57964985101422e-149)\n",
      "alpha: 0.05\n"
     ]
    }
   ],
   "source": [
    "#alpha\n",
    "alpha=0.05\n",
    "t=df1['fit'].nunique()\n",
    "n=len(df1)\n",
    "\n",
    "# data separation\n",
    "df_s=df1[df1['fit']=='small']['quality']\n",
    "df_f=df1[df1['fit']=='fit']['quality']\n",
    "df_l=df1[df1['fit']=='large']['quality']\n",
    "\n",
    "# shapiro test\n",
    "stat_s,p_value_s=stats.shapiro(df_s)\n",
    "stat_f,p_value_f=stats.shapiro(df_f)\n",
    "stat_l,p_value_l=stats.shapiro(df_l)\n",
    "print(\"p_value of small category is\",p_value_s)\n",
    "print(\"p_value of fit category is\",p_value_f)\n",
    "print(\"p_value of large category is\",p_value_l)\n",
    "\n",
    "# levene test \n",
    "lev_test=stats.levene(df_s,df_f,df_l)\n",
    "print('levene test: ',lev_test)\n",
    "print('alpha:',alpha)"
   ]
  },
  {
   "cell_type": "raw",
   "id": "c73cb33e",
   "metadata": {},
   "source": [
    "# p_"
   ]
  },
  {
   "cell_type": "code",
   "execution_count": 126,
   "id": "010e9566",
   "metadata": {},
   "outputs": [
    {
     "name": "stdout",
     "output_type": "stream",
     "text": [
      "f_alpha:  2.995840679937145\n",
      "f_statistics:  2146.2393752903026\n",
      "f_p_value 0.0\n",
      "alpha: 0.05\n"
     ]
    }
   ],
   "source": [
    "# f_alpha\n",
    "f_alpha=stats.f.isf(alpha,dfn=t-1,dfd=n-t)\n",
    "print('f_alpha: ',f_alpha)\n",
    "\n",
    "#f-one way anova test\n",
    "f_stats,f_p_value=stats.f_oneway(df_s,df_f,df_l)\n",
    "print('f_statistics: ',f_stats)\n",
    "print('f_p_value',f_p_value)\n",
    "print('alpha:',alpha)"
   ]
  },
  {
   "cell_type": "raw",
   "id": "376cf1e9",
   "metadata": {},
   "source": [
    "#p_value Method\n",
    "since p_value < alpha falls in rejection zone and reject null hypothesis\n",
    "hence,the average quality significantly differ for the different fits.\n",
    "    \n",
    "# Critical value method\n",
    "since f_statistics >  f_alphal falls in rejection zone and reject null hypothesis.\n",
    "hence,the average quality significantly differ for the different fits."
   ]
  },
  {
   "cell_type": "code",
   "execution_count": null,
   "id": "c1314e5e",
   "metadata": {},
   "outputs": [],
   "source": []
  }
 ],
 "metadata": {
  "kernelspec": {
   "display_name": "Python 3 (ipykernel)",
   "language": "python",
   "name": "python3"
  },
  "language_info": {
   "codemirror_mode": {
    "name": "ipython",
    "version": 3
   },
   "file_extension": ".py",
   "mimetype": "text/x-python",
   "name": "python",
   "nbconvert_exporter": "python",
   "pygments_lexer": "ipython3",
   "version": "3.9.12"
  }
 },
 "nbformat": 4,
 "nbformat_minor": 5
}
