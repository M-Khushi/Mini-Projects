{
 "cells": [
  {
   "cell_type": "markdown",
   "id": "959b548a",
   "metadata": {},
   "source": [
    "# Statistics and Exploratory Data Analysis Project -SET "
   ]
  },
  {
   "cell_type": "code",
   "execution_count": 1,
   "id": "6fdfbdef",
   "metadata": {},
   "outputs": [],
   "source": [
    "import numpy as np\n",
    "import pandas as pd\n",
    "import seaborn as sns\n",
    "import matplotlib.pyplot as plt\n",
    "import random\n",
    "from scipy import stats\n",
    "from scipy.stats import randint\n",
    "from scipy.stats import skewnorm\n",
    "from math import factorial\n",
    "import statsmodels.api as sm\n",
    "from scipy.stats import chi2_contingency\n",
    "from scipy.stats import chi2\n",
    "from scipy.stats import chisquare\n",
    "import warnings\n",
    "warnings.filterwarnings('ignore') "
   ]
  },
  {
   "cell_type": "code",
   "execution_count": 2,
   "id": "f3dd18a9",
   "metadata": {},
   "outputs": [
    {
     "data": {
      "text/html": [
       "<div>\n",
       "<style scoped>\n",
       "    .dataframe tbody tr th:only-of-type {\n",
       "        vertical-align: middle;\n",
       "    }\n",
       "\n",
       "    .dataframe tbody tr th {\n",
       "        vertical-align: top;\n",
       "    }\n",
       "\n",
       "    .dataframe thead th {\n",
       "        text-align: right;\n",
       "    }\n",
       "</style>\n",
       "<table border=\"1\" class=\"dataframe\">\n",
       "  <thead>\n",
       "    <tr style=\"text-align: right;\">\n",
       "      <th></th>\n",
       "      <th>age</th>\n",
       "    </tr>\n",
       "  </thead>\n",
       "  <tbody>\n",
       "    <tr>\n",
       "      <th>0</th>\n",
       "      <td>42</td>\n",
       "    </tr>\n",
       "    <tr>\n",
       "      <th>1</th>\n",
       "      <td>44</td>\n",
       "    </tr>\n",
       "    <tr>\n",
       "      <th>2</th>\n",
       "      <td>62</td>\n",
       "    </tr>\n",
       "    <tr>\n",
       "      <th>3</th>\n",
       "      <td>35</td>\n",
       "    </tr>\n",
       "    <tr>\n",
       "      <th>4</th>\n",
       "      <td>20</td>\n",
       "    </tr>\n",
       "    <tr>\n",
       "      <th>5</th>\n",
       "      <td>30</td>\n",
       "    </tr>\n",
       "    <tr>\n",
       "      <th>6</th>\n",
       "      <td>56</td>\n",
       "    </tr>\n",
       "    <tr>\n",
       "      <th>7</th>\n",
       "      <td>20</td>\n",
       "    </tr>\n",
       "    <tr>\n",
       "      <th>8</th>\n",
       "      <td>23</td>\n",
       "    </tr>\n",
       "    <tr>\n",
       "      <th>9</th>\n",
       "      <td>41</td>\n",
       "    </tr>\n",
       "    <tr>\n",
       "      <th>10</th>\n",
       "      <td>55</td>\n",
       "    </tr>\n",
       "    <tr>\n",
       "      <th>11</th>\n",
       "      <td>22</td>\n",
       "    </tr>\n",
       "    <tr>\n",
       "      <th>12</th>\n",
       "      <td>31</td>\n",
       "    </tr>\n",
       "    <tr>\n",
       "      <th>13</th>\n",
       "      <td>27</td>\n",
       "    </tr>\n",
       "    <tr>\n",
       "      <th>14</th>\n",
       "      <td>66</td>\n",
       "    </tr>\n",
       "    <tr>\n",
       "      <th>15</th>\n",
       "      <td>21</td>\n",
       "    </tr>\n",
       "    <tr>\n",
       "      <th>16</th>\n",
       "      <td>18</td>\n",
       "    </tr>\n",
       "    <tr>\n",
       "      <th>17</th>\n",
       "      <td>24</td>\n",
       "    </tr>\n",
       "    <tr>\n",
       "      <th>18</th>\n",
       "      <td>42</td>\n",
       "    </tr>\n",
       "    <tr>\n",
       "      <th>19</th>\n",
       "      <td>25</td>\n",
       "    </tr>\n",
       "    <tr>\n",
       "      <th>20</th>\n",
       "      <td>32</td>\n",
       "    </tr>\n",
       "    <tr>\n",
       "      <th>21</th>\n",
       "      <td>50</td>\n",
       "    </tr>\n",
       "    <tr>\n",
       "      <th>22</th>\n",
       "      <td>31</td>\n",
       "    </tr>\n",
       "    <tr>\n",
       "      <th>23</th>\n",
       "      <td>26</td>\n",
       "    </tr>\n",
       "    <tr>\n",
       "      <th>24</th>\n",
       "      <td>36</td>\n",
       "    </tr>\n",
       "    <tr>\n",
       "      <th>25</th>\n",
       "      <td>39</td>\n",
       "    </tr>\n",
       "    <tr>\n",
       "      <th>26</th>\n",
       "      <td>40</td>\n",
       "    </tr>\n",
       "    <tr>\n",
       "      <th>27</th>\n",
       "      <td>18</td>\n",
       "    </tr>\n",
       "    <tr>\n",
       "      <th>28</th>\n",
       "      <td>36</td>\n",
       "    </tr>\n",
       "    <tr>\n",
       "      <th>29</th>\n",
       "      <td>22</td>\n",
       "    </tr>\n",
       "  </tbody>\n",
       "</table>\n",
       "</div>"
      ],
      "text/plain": [
       "    age\n",
       "0    42\n",
       "1    44\n",
       "2    62\n",
       "3    35\n",
       "4    20\n",
       "5    30\n",
       "6    56\n",
       "7    20\n",
       "8    23\n",
       "9    41\n",
       "10   55\n",
       "11   22\n",
       "12   31\n",
       "13   27\n",
       "14   66\n",
       "15   21\n",
       "16   18\n",
       "17   24\n",
       "18   42\n",
       "19   25\n",
       "20   32\n",
       "21   50\n",
       "22   31\n",
       "23   26\n",
       "24   36\n",
       "25   39\n",
       "26   40\n",
       "27   18\n",
       "28   36\n",
       "29   22"
      ]
     },
     "execution_count": 2,
     "metadata": {},
     "output_type": "execute_result"
    }
   ],
   "source": [
    "df=pd.DataFrame({'age':[42,44,62,35,20,30,56,20,23,41,55,22,31,27,66,21,18,24,42,25,32,50,31,26,36,39,40,18,36,22]})\n",
    "df"
   ]
  },
  {
   "cell_type": "markdown",
   "id": "c9797757",
   "metadata": {},
   "source": [
    "# PART-A ( Concept Based)--25 points"
   ]
  },
  {
   "cell_type": "markdown",
   "id": "732ee4d0",
   "metadata": {},
   "source": [
    "## Q1. Compute the mean, median and the mode of the data"
   ]
  },
  {
   "cell_type": "code",
   "execution_count": 3,
   "id": "55de3863",
   "metadata": {},
   "outputs": [
    {
     "name": "stdout",
     "output_type": "stream",
     "text": [
      "The mean od the age is  34.46666666666667\n",
      "The median od the age is  31.5\n",
      "The mode od the age is \n",
      " 0    18\n",
      "1    20\n",
      "2    22\n",
      "3    31\n",
      "4    36\n",
      "5    42\n",
      "Name: age, dtype: int64\n"
     ]
    }
   ],
   "source": [
    "# mean\n",
    "mean=df['age'].mean()\n",
    "print('The mean od the age is ',mean)\n",
    "\n",
    "# median\n",
    "median=df['age'].median()\n",
    "print('The median od the age is ',median)\n",
    "\n",
    "\n",
    "# mode\n",
    "mode=df['age'].mode()\n",
    "print('The mode od the age is \\n',mode)"
   ]
  },
  {
   "cell_type": "markdown",
   "id": "517ae306",
   "metadata": {},
   "source": [
    "## Q2. Compute the range , variance and standard deviation of customer ages|"
   ]
  },
  {
   "cell_type": "code",
   "execution_count": 27,
   "id": "fd3c3edd",
   "metadata": {},
   "outputs": [
    {
     "name": "stdout",
     "output_type": "stream",
     "text": [
      "The range of the age is  48\n",
      "The variance of the age is  177.36091954022984\n",
      "The standard deviation of the age is  13.317691974971858\n"
     ]
    }
   ],
   "source": [
    "# Range\n",
    "ran=df['age'].max()-df['age'].min()\n",
    "print('The range of the age is ',ran)\n",
    "\n",
    "\n",
    "# Varince\n",
    "var=df['age'].var()\n",
    "print('The variance of the age is ',var)\n",
    "\n",
    "\n",
    "# standard deviation\n",
    "sd=df['age'].std()\n",
    "print('The standard deviation of the age is ',sd)"
   ]
  },
  {
   "cell_type": "markdown",
   "id": "d63cee7b",
   "metadata": {},
   "source": [
    "## Q3. Find the mean deviation for the data .\n"
   ]
  },
  {
   "cell_type": "code",
   "execution_count": 28,
   "id": "16dcbc26",
   "metadata": {},
   "outputs": [
    {
     "name": "stdout",
     "output_type": "stream",
     "text": [
      "mean:  34.46666666666667\n",
      "total customers : 30\n"
     ]
    }
   ],
   "source": [
    "mean=np.mean(df['age'])\n",
    "print('mean: ',mean)\n",
    "n=len(df)\n",
    "print('total customers :',n)"
   ]
  },
  {
   "cell_type": "code",
   "execution_count": 29,
   "id": "b63b6f42",
   "metadata": {},
   "outputs": [
    {
     "name": "stdout",
     "output_type": "stream",
     "text": [
      "mean deviation:  10.764444444444441\n"
     ]
    }
   ],
   "source": [
    "mean_deviation=sum(np.abs(df['age']-mean)/n)\n",
    "print('mean deviation: ',mean_deviation)"
   ]
  },
  {
   "cell_type": "markdown",
   "id": "ffafe72a",
   "metadata": {},
   "source": [
    "## Q4. Calculate the Pearson coefficient of skewness and comment on the skewness of the data"
   ]
  },
  {
   "cell_type": "code",
   "execution_count": 30,
   "id": "40e8def1",
   "metadata": {},
   "outputs": [
    {
     "name": "stdout",
     "output_type": "stream",
     "text": [
      " The calculated skewness is 0.668283965173989\n"
     ]
    }
   ],
   "source": [
    "x_bar=np.mean(df['age'])\n",
    "s=np.std(df['age'],ddof=1)\n",
    "md=df['age'].median()\n",
    "skewness=3*(x_bar-md)/s\n",
    "print(f\" The calculated skewness is {skewness}\")"
   ]
  },
  {
   "cell_type": "raw",
   "id": "404615c7",
   "metadata": {},
   "source": [
    "since the Pearson coefficient of skewness of age is 0.66 and it is little right skewed\n",
    "hence when the distribution is positively skewed , the coefficient is positive."
   ]
  },
  {
   "cell_type": "markdown",
   "id": "a45f0eb9",
   "metadata": {},
   "source": [
    "## Q5. Count the number of data values that fall within two standard deviations of the mean. Compare this with the answer from Chebyshev’s Theorem"
   ]
  },
  {
   "cell_type": "code",
   "execution_count": 31,
   "id": "b0848057",
   "metadata": {},
   "outputs": [],
   "source": [
    "# According to Chebyshev's Theorem, atleast 75% of the data lies between 2 standard deviations"
   ]
  },
  {
   "cell_type": "code",
   "execution_count": 32,
   "id": "af954558",
   "metadata": {},
   "outputs": [
    {
     "name": "stdout",
     "output_type": "stream",
     "text": [
      "left_standard_deviation  8.278968112659381\n",
      "right_standard_deviation  60.65436522067395\n"
     ]
    }
   ],
   "source": [
    "left_standard_deviation=np.mean(df['age'])-(2*np.std(df['age']))\n",
    "right_standard_deviation=np.mean(df['age'])+(2*np.std(df['age']))\n",
    "print('left_standard_deviation ',left_standard_deviation)\n",
    "print('right_standard_deviation ',right_standard_deviation)"
   ]
  },
  {
   "cell_type": "code",
   "execution_count": 33,
   "id": "9e856c73",
   "metadata": {},
   "outputs": [
    {
     "name": "stdout",
     "output_type": "stream",
     "text": [
      "28 data values that fall within two standard deviations of the mean\n",
      "93.333 percentage of data values that fall within two standard deviations of the mean\n"
     ]
    }
   ],
   "source": [
    "count=df[(df['age'] <= right_standard_deviation) & (df['age']>=left_standard_deviation)]\n",
    "print(len(count),'data values that fall within two standard deviations of the mean')\n",
    "\n",
    "percentage=(len(count)/len(df))*100\n",
    "print(round(percentage,3), 'percentage of data values that fall within two standard deviations of the mean')"
   ]
  },
  {
   "cell_type": "markdown",
   "id": "64cc82d3",
   "metadata": {},
   "source": [
    "## Q6. Find the three quartiles and the interquartile range (IQR)."
   ]
  },
  {
   "cell_type": "code",
   "execution_count": 34,
   "id": "76b1b088",
   "metadata": {},
   "outputs": [
    {
     "name": "stdout",
     "output_type": "stream",
     "text": [
      "The first quantile is:  23.25\n",
      "The second quantile is:  31.5\n",
      "The third quantile is:  41.75\n",
      "The Interquartile range is:  18.5\n"
     ]
    }
   ],
   "source": [
    "q1=df['age'].quantile(0.25)\n",
    "q2=df['age'].quantile(0.50)\n",
    "q3=df['age'].quantile(0.75)\n",
    "IQR=q3-q1\n",
    "print('The first quantile is: ',q1)\n",
    "print('The second quantile is: ',q2)\n",
    "print('The third quantile is: ',q3)\n",
    "print('The Interquartile range is: ',IQR)"
   ]
  },
  {
   "cell_type": "markdown",
   "id": "094c9a8f",
   "metadata": {},
   "source": [
    "## Q7. Are there any outliers in the data set ?"
   ]
  },
  {
   "cell_type": "code",
   "execution_count": 35,
   "id": "a344c623",
   "metadata": {},
   "outputs": [],
   "source": [
    "ll=q1-1.5*IQR\n",
    "ul=q3+1.5*IQR"
   ]
  },
  {
   "cell_type": "code",
   "execution_count": 36,
   "id": "f816d528",
   "metadata": {},
   "outputs": [
    {
     "data": {
      "text/html": [
       "<div>\n",
       "<style scoped>\n",
       "    .dataframe tbody tr th:only-of-type {\n",
       "        vertical-align: middle;\n",
       "    }\n",
       "\n",
       "    .dataframe tbody tr th {\n",
       "        vertical-align: top;\n",
       "    }\n",
       "\n",
       "    .dataframe thead th {\n",
       "        text-align: right;\n",
       "    }\n",
       "</style>\n",
       "<table border=\"1\" class=\"dataframe\">\n",
       "  <thead>\n",
       "    <tr style=\"text-align: right;\">\n",
       "      <th></th>\n",
       "      <th>age</th>\n",
       "    </tr>\n",
       "  </thead>\n",
       "  <tbody>\n",
       "  </tbody>\n",
       "</table>\n",
       "</div>"
      ],
      "text/plain": [
       "Empty DataFrame\n",
       "Columns: [age]\n",
       "Index: []"
      ]
     },
     "execution_count": 36,
     "metadata": {},
     "output_type": "execute_result"
    }
   ],
   "source": [
    "df[(df['age']<ll) | (df['age']>ul)]"
   ]
  },
  {
   "cell_type": "raw",
   "id": "dc674b81",
   "metadata": {},
   "source": [
    "there are no outliers in the data"
   ]
  },
  {
   "cell_type": "markdown",
   "id": "ed5c419b",
   "metadata": {},
   "source": [
    "## Q8. Draw a boxplot of the dataset to confirm ."
   ]
  },
  {
   "cell_type": "code",
   "execution_count": 37,
   "id": "2a027a3d",
   "metadata": {},
   "outputs": [
    {
     "data": {
      "text/plain": [
       "<AxesSubplot:xlabel='age'>"
      ]
     },
     "execution_count": 37,
     "metadata": {},
     "output_type": "execute_result"
    },
    {
     "data": {
      "image/png": "[encoded data removed]",
      "text/plain": [
       "<Figure size 432x288 with 1 Axes>"
      ]
     },
     "metadata": {
      "needs_background": "light"
     },
     "output_type": "display_data"
    }
   ],
   "source": [
    "sns.boxplot(data=df,x='age')"
   ]
  },
  {
   "cell_type": "markdown",
   "id": "5e37c3e4",
   "metadata": {},
   "source": [
    "## Q9. Find the percentile rank of the datapoint 50."
   ]
  },
  {
   "cell_type": "code",
   "execution_count": 38,
   "id": "ad6afbdb",
   "metadata": {},
   "outputs": [
    {
     "data": {
      "text/html": [
       "<div>\n",
       "<style scoped>\n",
       "    .dataframe tbody tr th:only-of-type {\n",
       "        vertical-align: middle;\n",
       "    }\n",
       "\n",
       "    .dataframe tbody tr th {\n",
       "        vertical-align: top;\n",
       "    }\n",
       "\n",
       "    .dataframe thead th {\n",
       "        text-align: right;\n",
       "    }\n",
       "</style>\n",
       "<table border=\"1\" class=\"dataframe\">\n",
       "  <thead>\n",
       "    <tr style=\"text-align: right;\">\n",
       "      <th></th>\n",
       "      <th>age</th>\n",
       "      <th>rank</th>\n",
       "    </tr>\n",
       "  </thead>\n",
       "  <tbody>\n",
       "    <tr>\n",
       "      <th>21</th>\n",
       "      <td>50</td>\n",
       "      <td>86.666667</td>\n",
       "    </tr>\n",
       "  </tbody>\n",
       "</table>\n",
       "</div>"
      ],
      "text/plain": [
       "    age       rank\n",
       "21   50  86.666667"
      ]
     },
     "execution_count": 38,
     "metadata": {},
     "output_type": "execute_result"
    }
   ],
   "source": [
    "df['rank']=df['age'].rank(pct=True)*100\n",
    "df[df['age']==50]"
   ]
  },
  {
   "cell_type": "raw",
   "id": "36393621",
   "metadata": {},
   "source": [
    "The percentile rank of the datapoint 50 is 86.66"
   ]
  },
  {
   "cell_type": "markdown",
   "id": "30058aa7",
   "metadata": {},
   "source": [
    "## Q10. What is the probability that a person ordering an EV scooter is above 50 years old?\n"
   ]
  },
  {
   "cell_type": "code",
   "execution_count": 39,
   "id": "c00f680f",
   "metadata": {},
   "outputs": [
    {
     "name": "stdout",
     "output_type": "stream",
     "text": [
      "The probability that a person becoming a CEO below 50 years of age is  0.13333333333333333\n"
     ]
    }
   ],
   "source": [
    "l=len(df[df['age']> 50])\n",
    "n=30\n",
    "prob=l/n\n",
    "print(\"The probability that a person becoming a CEO below 50 years of age is \",prob)"
   ]
  },
  {
   "cell_type": "markdown",
   "id": "caead957",
   "metadata": {},
   "source": [
    "## Q11. Create a frequency distribution for the data and visualize it appropriately"
   ]
  },
  {
   "cell_type": "code",
   "execution_count": 40,
   "id": "f55a334d",
   "metadata": {},
   "outputs": [
    {
     "data": {
      "text/plain": [
       "<AxesSubplot:xlabel='age', ylabel='Count'>"
      ]
     },
     "execution_count": 40,
     "metadata": {},
     "output_type": "execute_result"
    },
    {
     "data": {
      "image/png": "[encoded data removed]",
      "text/plain": [
       "<Figure size 432x288 with 1 Axes>"
      ]
     },
     "metadata": {
      "needs_background": "light"
     },
     "output_type": "display_data"
    }
   ],
   "source": [
    "sns.histplot(df['age'])"
   ]
  },
  {
   "cell_type": "raw",
   "id": "6264feb6",
   "metadata": {},
   "source": [
    "the larger group of people belongs to the age group approximately 18- 25."
   ]
  },
  {
   "cell_type": "markdown",
   "id": "ba9015ca",
   "metadata": {},
   "source": [
    "## Q12. Create a probability distribution of the data and visualize it appropriately."
   ]
  },
  {
   "cell_type": "code",
   "execution_count": 41,
   "id": "29f1bf90",
   "metadata": {},
   "outputs": [
    {
     "data": {
      "text/plain": [
       "<AxesSubplot:xlabel='age', ylabel='Density'>"
      ]
     },
     "execution_count": 41,
     "metadata": {},
     "output_type": "execute_result"
    },
    {
     "data": {
      "image/png": "[encoded data removed]",
      "text/plain": [
       "<Figure size 432x288 with 1 Axes>"
      ]
     },
     "metadata": {
      "needs_background": "light"
     },
     "output_type": "display_data"
    }
   ],
   "source": [
    "sns.kdeplot(df['age'],cumulative=True)"
   ]
  },
  {
   "cell_type": "markdown",
   "id": "90cf92b6",
   "metadata": {},
   "source": [
    "## Q13. What is the shape of the distribution of this dataset? Create an appropriate graph to determine that. Take 100 random samples with replacement from this dataset of size 5 each. Create a sampling distribution of the mean age of customers. Compare with other sampling distributions of sample size 10, 15, 20, 25, 30. State your observations. Does it corroborate the Central Limit Theorem?"
   ]
  },
  {
   "cell_type": "code",
   "execution_count": 42,
   "id": "e2c626ff",
   "metadata": {},
   "outputs": [
    {
     "data": {
      "text/plain": [
       "(30, 2)"
      ]
     },
     "execution_count": 42,
     "metadata": {},
     "output_type": "execute_result"
    }
   ],
   "source": [
    "# shape of the distribution of the dataset\n",
    "df.shape"
   ]
  },
  {
   "cell_type": "code",
   "execution_count": 43,
   "id": "db92ab5e",
   "metadata": {},
   "outputs": [],
   "source": [
    "def sampling_distribution(x,no_of_sample,sample_size):\n",
    "    sample_mean_list=[]\n",
    "    for i in range(no_of_sample):\n",
    "        sample=np.random.choice(x,size=sample_size,replace=True)\n",
    "        sample_mean=np.mean(sample)\n",
    "        sample_mean_list.append(sample_mean)\n",
    "    return sample_mean_list"
   ]
  },
  {
   "cell_type": "code",
   "execution_count": 44,
   "id": "42182f38",
   "metadata": {},
   "outputs": [
    {
     "data": {
      "image/png": "[encoded data removed]",
      "text/plain": [
       "<Figure size 1296x648 with 6 Axes>"
      ]
     },
     "metadata": {
      "needs_background": "light"
     },
     "output_type": "display_data"
    }
   ],
   "source": [
    "plt.figure(figsize=(18,9))\n",
    "plt.subplot(2,3,1)\n",
    "sns.kdeplot(x=sampling_distribution(df['age'],100,5))\n",
    "plt.title(\"Sample Size = 5\")\n",
    "plt.subplot(2,3,2)\n",
    "sns.kdeplot(x=sampling_distribution(df['age'],100,10))\n",
    "plt.title(\"Sample Size = 10\")\n",
    "plt.subplot(2,3,3)\n",
    "sns.kdeplot(x=sampling_distribution(df['age'],100,15))\n",
    "plt.title(\"Sample Size = 15\")\n",
    "plt.subplot(2,3,4)\n",
    "sns.kdeplot(x=sampling_distribution(df['age'],100,20))\n",
    "plt.title(\"Sample Size = 20\")\n",
    "plt.subplot(2,3,5)\n",
    "sns.kdeplot(x=sampling_distribution(df['age'],100,25))\n",
    "plt.title(\"Sample Size = 25\")\n",
    "plt.subplot(2,3,6)\n",
    "sns.kdeplot(x=sampling_distribution(df['age'],100,30))\n",
    "plt.title(\"Sample Size = 30\")\n",
    "plt.show()"
   ]
  },
  {
   "cell_type": "markdown",
   "id": "921bd469",
   "metadata": {},
   "source": [
    "## Q14. Treat this dataset as a binomial distribution where p is the probability that a person   an EV is above 50 years age. What is the probability that out of a random sample of 10 buyers exactly 6 are above 50 years of age?"
   ]
  },
  {
   "cell_type": "code",
   "execution_count": 5,
   "id": "c0f9b198",
   "metadata": {},
   "outputs": [
    {
     "name": "stdout",
     "output_type": "stream",
     "text": [
      "The probability that out of a random sample of 10 buyers exactly 6 are above 50 years of age is 0.00067\n"
     ]
    }
   ],
   "source": [
    "x=len(df[df['age']>50])\n",
    "n=10\n",
    "p=x/len(df)\n",
    "prob=stats.binom.pmf(6,n,p)\n",
    "\n",
    "print('The probability that out of a random sample of 10 buyers exactly 6 are above 50 years of age is',round(prob,5))"
   ]
  },
  {
   "cell_type": "markdown",
   "id": "fc60fb64",
   "metadata": {},
   "source": [
    "## Q15. A study claims that 10% of all customers for an EV scooter are above 50 years of age. Using the Normal approximation of a Binomial distribution, find the probability that in a random sample of 300 prospective customers exactly 25 will be above 50 years of age.\n",
    "\n",
    "\n",
    "[ Note that the normal distribution can be used to approximate a binomial\n",
    "distribution if np>=5 and nq>=5 with the following correction for continuity\n",
    "P(X=z) = P(z-0.5 < X < z+0.5 ) ]\n",
    "\n"
   ]
  },
  {
   "cell_type": "code",
   "execution_count": 6,
   "id": "3240a80a",
   "metadata": {},
   "outputs": [
    {
     "name": "stdout",
     "output_type": "stream",
     "text": [
      "The probability that out of a random sample of 300 buyers exactly 25 are above 50 years of age is 0.0021064699054422664\n"
     ]
    }
   ],
   "source": [
    "x=25\n",
    "n=300\n",
    "print(f\"The probability that out of a random sample of 300 buyers exactly 25 are above 50 years of age is {stats.binom.pmf(x,n,p)}\")"
   ]
  },
  {
   "cell_type": "markdown",
   "id": "4c9cd8f9",
   "metadata": {},
   "source": [
    "## Q16. Compute a 95% Confidence Interval for the true mean age of the population of EV scooter buyers for the dataset using appropriate distribution. (State reasons as to why did you use a z or t distribution)"
   ]
  },
  {
   "cell_type": "code",
   "execution_count": 7,
   "id": "2c064aae",
   "metadata": {},
   "outputs": [
    {
     "name": "stdout",
     "output_type": "stream",
     "text": [
      "the confidence interval for  population of ev scooter buyers is\n",
      "  (39.23225396455639, 29.701079368776945)\n"
     ]
    }
   ],
   "source": [
    "# mean, standard deviation\n",
    "x=np.mean(df['age'])\n",
    "sd=np.std(df['age'],ddof=1)\n",
    "n=30\n",
    "\n",
    "# alpha\n",
    "c=0.95\n",
    "alpha=1-c\n",
    "\n",
    "# z_alpha\n",
    "z_alpha=stats.norm.isf(alpha/2)\n",
    "\n",
    "# confidence interval\n",
    "me=(z_alpha*sd)/(np.sqrt(n))\n",
    "ci=x+me,x-me\n",
    "\n",
    "print('the confidence interval for  population of ev scooter buyers is\\n ',ci)"
   ]
  },
  {
   "cell_type": "raw",
   "id": "c058b5e7",
   "metadata": {},
   "source": [
    "Since the size of the data is 30 we consider it as large sample and we use z distribution."
   ]
  },
  {
   "cell_type": "markdown",
   "id": "ccacdeee",
   "metadata": {},
   "source": [
    "## Q17. A data scientist wants to estimate with 95% confidence the proportion of people who own an EV in the population. A recent study showed that 20% of people interviewed had an EV. The data scientist wants to be accurate within 2% of the true proportion. Find the minimum sample size necessary.\n"
   ]
  },
  {
   "cell_type": "code",
   "execution_count": 6,
   "id": "e0786e9a",
   "metadata": {},
   "outputs": [
    {
     "name": "stdout",
     "output_type": "stream",
     "text": [
      "the minimum sample size is   1537\n"
     ]
    }
   ],
   "source": [
    "# alpha\n",
    "ci=0.95\n",
    "alpha=1-ci\n",
    "\n",
    "# z_alpha\n",
    "z_alpha=stats.norm.isf(alpha/2)\n",
    "\n",
    "sd=np.std(df['age'],ddof=1)\n",
    "me=0.02\n",
    "p=0.20\n",
    "q=1-p\n",
    "n=30\n",
    "\n",
    "# sample size\n",
    "\n",
    "\n",
    "n=(z_alpha*(np.sqrt((p*q)))/me)**2\n",
    "\n",
    "print('the minimum sample size is  ',round(n))"
   ]
  },
  {
   "cell_type": "markdown",
   "id": "badba576",
   "metadata": {},
   "source": [
    "## Q18. The same data scientist wants to estimate the proportion of executives who own an EV. She wants to be 90% confident and accurate within 5% of true proportion. Find the minimum sample size necessary"
   ]
  },
  {
   "cell_type": "code",
   "execution_count": 107,
   "id": "f9c7db3a",
   "metadata": {},
   "outputs": [
    {
     "name": "stdout",
     "output_type": "stream",
     "text": [
      "the minimum sample size is   173\n"
     ]
    }
   ],
   "source": [
    "ci=0.90\n",
    "alpha=1-ci\n",
    "\n",
    "# z_alpha\n",
    "z_alpha=stats.norm.isf(alpha/2)\n",
    "\n",
    "me=0.05\n",
    "p=0.2\n",
    "q=1-p\n",
    "\n",
    "# sample size\n",
    "n=(z_alpha*(np.sqrt((p*q)))/me)**2\n",
    "\n",
    "print('the minimum sample size is  ',round(n))"
   ]
  },
  {
   "cell_type": "markdown",
   "id": "d71c4936",
   "metadata": {},
   "source": [
    "## Q19. A researcher claims that currently 20% of the population are owning EVs. Test his claim with an alpha =0.05 if out of a random sample of 30 two-wheeler owners only 5 own an EV"
   ]
  },
  {
   "cell_type": "raw",
   "id": "a57b4547",
   "metadata": {},
   "source": [
    " H0 : p=20%    Ha : p<>20%"
   ]
  },
  {
   "cell_type": "code",
   "execution_count": 119,
   "id": "47970028",
   "metadata": {},
   "outputs": [
    {
     "name": "stdout",
     "output_type": "stream",
     "text": [
      "z_alpha:  -1.96\n",
      "Z statistic = -0.456\n"
     ]
    }
   ],
   "source": [
    "# alpha\n",
    "alpha=0.05\n",
    "\n",
    "# z_alpha\n",
    "z_alpha=stats.norm.ppf(alpha/2)\n",
    "print('z_alpha: ',round(z_alpha,3))\n",
    "\n",
    "# Data\n",
    "n=30\n",
    "p=5/30\n",
    "q=1-p\n",
    "p_bar=20/100\n",
    "\n",
    "\n",
    "# # Z statistic score\n",
    "z=(p-p_bar)/np.sqrt((p_bar*(1-p_bar))/n)\n",
    "print(f\"Z statistic = {round(z,3)}\")"
   ]
  },
  {
   "cell_type": "raw",
   "id": "ea7a408c",
   "metadata": {},
   "source": [
    "since z > z_alpha falls non rejection zone and we fail to reject null hypothesis.\n",
    "thus,currently 20% of the population are owning EVs. "
   ]
  },
  {
   "cell_type": "markdown",
   "id": "41ceed55",
   "metadata": {},
   "source": [
    "## Q20. Assume you are working for a Consumer Protection Agency that looks at complaints raised by customers for the transportation industry. Say you have been receiving complaints about the mileage of the latest EV launched by the Zen Automotives. Zen allows you to test randomly 40 of its new EVs to test mileage. Zen claims that the new EVs get a mileage of 96 kmpl on the highway. Your results show a mean of 91.3 kmpl and a standard deviation of 14.4.\n"
   ]
  },
  {
   "cell_type": "code",
   "execution_count": 127,
   "id": "1785ed00",
   "metadata": {},
   "outputs": [],
   "source": [
    "mu=96\n",
    "x=91.3\n",
    "sd=14.4\n",
    "n=40"
   ]
  },
  {
   "cell_type": "markdown",
   "id": "04b6dd98",
   "metadata": {},
   "source": [
    "### a. Show why you support Zen’s claim using the P-value obtained."
   ]
  },
  {
   "cell_type": "raw",
   "id": "d3975963",
   "metadata": {},
   "source": [
    "h0: mu =96  ha<>96"
   ]
  },
  {
   "cell_type": "code",
   "execution_count": 128,
   "id": "0db52ac7",
   "metadata": {},
   "outputs": [
    {
     "name": "stdout",
     "output_type": "stream",
     "text": [
      "alpha:  0.05\n",
      "p_value:  1.9610073629744729\n"
     ]
    }
   ],
   "source": [
    "# alpha\n",
    "alpha=0.05\n",
    "print('alpha: ',alpha)\n",
    "\n",
    "\n",
    "# z calculation\n",
    "z=(x-mu)/(sd/(np.sqrt(n)))\n",
    "\n",
    "# p_value\n",
    "p_value=stats.norm.sf(z)\n",
    "p_value_into2=p_value*2\n",
    "print('p_value: ',p_value_into2)\n"
   ]
  },
  {
   "cell_type": "raw",
   "id": "4edd360d",
   "metadata": {},
   "source": [
    "As p_value > alpha falls in non rejection zone and we fail to reject null hypothesis.\n",
    "hence zen claims is correct because the new EVs get a mileage of 96 kmpl on the highway."
   ]
  },
  {
   "cell_type": "markdown",
   "id": "6f70277a",
   "metadata": {},
   "source": [
    "### b. After more complaints you decide to test the variability of the mileage on the highway. On questioning Zen’s quality control engineer , you find that they are claiming a standard deviation of 7.2. Test the claim about the standard deviation. [Hint :use the Chi-square test for variance/standard deviation]"
   ]
  },
  {
   "cell_type": "code",
   "execution_count": 136,
   "id": "f965d0f9",
   "metadata": {},
   "outputs": [
    {
     "name": "stdout",
     "output_type": "stream",
     "text": [
      "chi_critical:  54.57222775894174\n",
      "chisquare:  156.0\n"
     ]
    }
   ],
   "source": [
    "# H0 : sigma=7.2\n",
    "# Ha : sigma<>7.2\n",
    "\n",
    "\n",
    "#alpha\n",
    "alpha=0.05\n",
    "\n",
    "# Data\n",
    "n=40\n",
    "sigma=7.2\n",
    "s=14.4\n",
    "\n",
    "# chi_critical\n",
    "chi_critical=stats.chi2.isf(alpha,df=n-1)\n",
    "print('chi_critical: ',chi_critical)\n",
    "\n",
    "# chisquare\n",
    "chisquare=((n-1)*(s**2))/(sigma**2)\n",
    "print('chisquare: ',chisquare)"
   ]
  },
  {
   "cell_type": "raw",
   "id": "c1dc2463",
   "metadata": {},
   "source": [
    "Since the chisquare > chi_critical, falls in rejection zone and we  reject null hypothesis\n",
    "The claim that standard deviation = 7.2 is not true"
   ]
  },
  {
   "cell_type": "markdown",
   "id": "7660cb20",
   "metadata": {},
   "source": [
    "### c. Write a summary of results and the action that Zen must take to remedy the complaints."
   ]
  },
  {
   "cell_type": "raw",
   "id": "de01ba80",
   "metadata": {},
   "source": [
    "Claimed Mileage = 96 kmpl\n",
    "Claimed standard deviation = 7.2\n",
    "\n",
    "Sample Mileage = 91.3 kmpl\n",
    "Sample Standard Deviation = 14.4\n",
    "\n",
    "Zen must re-check their claims before selling the EVs.\n",
    "Zen automotives should look into the quality control, before rolling out the EVs."
   ]
  },
  {
   "cell_type": "markdown",
   "id": "066a858a",
   "metadata": {},
   "source": [
    "### d. What is your position on performing the test for variability along with the test for means?"
   ]
  },
  {
   "cell_type": "code",
   "execution_count": null,
   "id": "68c4f452",
   "metadata": {},
   "outputs": [],
   "source": [
    "The test for means helped us in finding out whether the claimed mileage is same as real mileage. \n",
    "It only gives one side of picture. \n",
    "\n",
    "The test of variances tell us that data is more spread, \n",
    "(i.e) there are more number of EVs than expected which do not live up to the claims made by the company."
   ]
  },
  {
   "cell_type": "markdown",
   "id": "91ecf433",
   "metadata": {},
   "source": [
    "## Q21. Write a report comparing and contrasting Descriptive vs Inferential Statistics in about 200-500 words and how each helps to get more insight into the data at hand."
   ]
  },
  {
   "cell_type": "markdown",
   "id": "1ec063a7",
   "metadata": {},
   "source": [
    "*Descriptive statistics* \n",
    "\n",
    "1. Descriptive statistics is very important to present our raw data ineffective/meaningful way using numerical calculations or graphs or tables.\n",
    "2. It helps in organizing, analyzing, and to present data in a meaningful manner.\n",
    "3. It is used to describe a situation.\n",
    "4. We can use descriptive statistics to describe both an entire population or an individual sample.\n",
    "5. It can be achieved with the help of charts, graphs, tables, etc.\n",
    "6. Descriptive statistics are used to describe the characteristics or features of a dataset.\n",
    "\n",
    "            *Types of Descriptive Statistics*\n",
    "\n",
    "1. *Measure of Central Tendency* - The central tendency is the method of making use of the mean and the median to find the data location on the graph.\n",
    "2. *Measure of Variability* - Variability is most commonly measured with the following descriptive statistics: Range: the difference between the highest and lowest values. Interquartile range: the range of the middle half of a distribution. Standard deviation: average distance from the mean.\n",
    "\n",
    "*Inferential statistics* \n",
    "\n",
    "\n",
    "1. It can be defined as a random sample of data taken from a population to describe and make inferences about the population.\n",
    "2. It allows us to compare data, and make hypotheses and predictions.\n",
    "3. It is used to explain the chance of occurrence of an event.\n",
    "4. Inferential statistics focus on making generalizations about a larger population based on a representative sample of that population.\n",
    "5. It can be achieved by probability.\n",
    "6. Allow you to test a hypothesis or assess whether your data is generalizable to the broader population.\n",
    "\n",
    "          *Some ways in which inferential Statistics can be measured is through*\n",
    "          \n",
    "* Hypothesis test that determines if the population that is being measured has a high value as compared to the other data points in the analysis. It can also help to conclude if the population varies which is based on the results that you have earned from various experiments.\n",
    "* The confidence interval discovers the error margin in the research and finds out if it affects the testing. You will have to estimate the population range and if it falls under the median or means calculation.\n",
    "\n",
    "                   * difference between them * \n",
    "                   \n",
    "* The descriptive analysis gives information about the raw data that describes the data in a particular manner. The inferential analysis makes the inference about a population which is done using the data that is drawn from a population.\n",
    "* Descriptive Statistics helps to organize, analyze, and present the data in a meaningful way. Inferential statistics allows comparing data and making predictions and hypotheses with it.\n",
    "* Descriptive Statistics is used in order to describe a situation whereas inferential Statistics is used to explain the chances of the occurrence of an event\n",
    "* Descriptive Statistics explains the data that is already known and is limited to a population or a sample of a small size. Inferential Statistics tries to reach out to a conclusion about the population.\n",
    "* Descriptive Statistics can be done using graphs, charts, and tables. Inferential Statistics is achieved through probability.\n",
    "* Descriptive Statistics has a tabular or diagrammatic representation of the final result whereas inferential Statistics represents the result in the probability form.\n",
    "* Descriptive Statistics describes the situation where inferential Statistics explains the likelihood if the event will occur.\n",
    "* Descriptive Statistics measures only the group that is assigned for the experiment which means that when you do the descriptive analysis you decide to not consider in the variables. In the case of inferential Statistics, you account for the sampling errors which may make you conduct additional tests that need to be on a large population depending on the amount of data that is required. In other words, you are likely to get a definite calculation when you use descriptive statistics.\n",
    "* Since you are testing the variables using inferential Statistics it is easy to arrive at conclusions when you use descriptive statistics."
   ]
  },
  {
   "cell_type": "markdown",
   "id": "86c03639",
   "metadata": {},
   "source": [
    "# PART-B ( Dataset based)--25 points"
   ]
  },
  {
   "cell_type": "markdown",
   "id": "26cb163b",
   "metadata": {},
   "source": [
    "### Steps and tasks: [ Total Score: 25 points]"
   ]
  },
  {
   "cell_type": "markdown",
   "id": "169d876b",
   "metadata": {},
   "source": [
    "## 1. Read the data set, clean the data and prepare a final dataset to be used for  analysis.[ 5 points]\n"
   ]
  },
  {
   "cell_type": "code",
   "execution_count": 343,
   "id": "1491d2d3",
   "metadata": {},
   "outputs": [
    {
     "data": {
      "text/html": [
       "<div>\n",
       "<style scoped>\n",
       "    .dataframe tbody tr th:only-of-type {\n",
       "        vertical-align: middle;\n",
       "    }\n",
       "\n",
       "    .dataframe tbody tr th {\n",
       "        vertical-align: top;\n",
       "    }\n",
       "\n",
       "    .dataframe thead th {\n",
       "        text-align: right;\n",
       "    }\n",
       "</style>\n",
       "<table border=\"1\" class=\"dataframe\">\n",
       "  <thead>\n",
       "    <tr style=\"text-align: right;\">\n",
       "      <th></th>\n",
       "      <th>Team</th>\n",
       "      <th>Tournament</th>\n",
       "      <th>Score</th>\n",
       "      <th>PlayedGames</th>\n",
       "      <th>WonGames</th>\n",
       "      <th>DrawnGames</th>\n",
       "      <th>LostGames</th>\n",
       "      <th>BasketScored</th>\n",
       "      <th>BasketGiven</th>\n",
       "      <th>TournamentChampion</th>\n",
       "      <th>Runner-up</th>\n",
       "      <th>TeamLaunch</th>\n",
       "      <th>HighestPositionHeld</th>\n",
       "    </tr>\n",
       "  </thead>\n",
       "  <tbody>\n",
       "    <tr>\n",
       "      <th>0</th>\n",
       "      <td>Team 1</td>\n",
       "      <td>86</td>\n",
       "      <td>4385</td>\n",
       "      <td>2762</td>\n",
       "      <td>1647</td>\n",
       "      <td>552</td>\n",
       "      <td>563</td>\n",
       "      <td>5947</td>\n",
       "      <td>3140</td>\n",
       "      <td>33</td>\n",
       "      <td>23</td>\n",
       "      <td>1929</td>\n",
       "      <td>1</td>\n",
       "    </tr>\n",
       "    <tr>\n",
       "      <th>1</th>\n",
       "      <td>Team 2</td>\n",
       "      <td>86</td>\n",
       "      <td>4262</td>\n",
       "      <td>2762</td>\n",
       "      <td>1581</td>\n",
       "      <td>573</td>\n",
       "      <td>608</td>\n",
       "      <td>5900</td>\n",
       "      <td>3114</td>\n",
       "      <td>25</td>\n",
       "      <td>25</td>\n",
       "      <td>1929</td>\n",
       "      <td>1</td>\n",
       "    </tr>\n",
       "    <tr>\n",
       "      <th>2</th>\n",
       "      <td>Team 3</td>\n",
       "      <td>80</td>\n",
       "      <td>3442</td>\n",
       "      <td>2614</td>\n",
       "      <td>1241</td>\n",
       "      <td>598</td>\n",
       "      <td>775</td>\n",
       "      <td>4534</td>\n",
       "      <td>3309</td>\n",
       "      <td>10</td>\n",
       "      <td>8</td>\n",
       "      <td>1929</td>\n",
       "      <td>1</td>\n",
       "    </tr>\n",
       "    <tr>\n",
       "      <th>3</th>\n",
       "      <td>Team 4</td>\n",
       "      <td>82</td>\n",
       "      <td>3386</td>\n",
       "      <td>2664</td>\n",
       "      <td>1187</td>\n",
       "      <td>616</td>\n",
       "      <td>861</td>\n",
       "      <td>4398</td>\n",
       "      <td>3469</td>\n",
       "      <td>6</td>\n",
       "      <td>6</td>\n",
       "      <td>1931to32</td>\n",
       "      <td>1</td>\n",
       "    </tr>\n",
       "    <tr>\n",
       "      <th>4</th>\n",
       "      <td>Team 5</td>\n",
       "      <td>86</td>\n",
       "      <td>3368</td>\n",
       "      <td>2762</td>\n",
       "      <td>1209</td>\n",
       "      <td>633</td>\n",
       "      <td>920</td>\n",
       "      <td>4631</td>\n",
       "      <td>3700</td>\n",
       "      <td>8</td>\n",
       "      <td>7</td>\n",
       "      <td>1929</td>\n",
       "      <td>1</td>\n",
       "    </tr>\n",
       "  </tbody>\n",
       "</table>\n",
       "</div>"
      ],
      "text/plain": [
       "     Team  Tournament Score PlayedGames WonGames DrawnGames LostGames  \\\n",
       "0  Team 1          86  4385        2762     1647        552       563   \n",
       "1  Team 2          86  4262        2762     1581        573       608   \n",
       "2  Team 3          80  3442        2614     1241        598       775   \n",
       "3  Team 4          82  3386        2664     1187        616       861   \n",
       "4  Team 5          86  3368        2762     1209        633       920   \n",
       "\n",
       "  BasketScored BasketGiven TournamentChampion Runner-up TeamLaunch  \\\n",
       "0         5947        3140                 33        23       1929   \n",
       "1         5900        3114                 25        25       1929   \n",
       "2         4534        3309                 10         8       1929   \n",
       "3         4398        3469                  6         6   1931to32   \n",
       "4         4631        3700                  8         7       1929   \n",
       "\n",
       "   HighestPositionHeld  \n",
       "0                    1  \n",
       "1                    1  \n",
       "2                    1  \n",
       "3                    1  \n",
       "4                    1  "
      ]
     },
     "execution_count": 343,
     "metadata": {},
     "output_type": "execute_result"
    }
   ],
   "source": [
    "df=pd.read_csv('Basketball.csv')\n",
    "df.head()"
   ]
  },
  {
   "cell_type": "code",
   "execution_count": 344,
   "id": "419be601",
   "metadata": {},
   "outputs": [
    {
     "name": "stdout",
     "output_type": "stream",
     "text": [
      "<class 'pandas.core.frame.DataFrame'>\n",
      "RangeIndex: 61 entries, 0 to 60\n",
      "Data columns (total 13 columns):\n",
      " #   Column               Non-Null Count  Dtype \n",
      "---  ------               --------------  ----- \n",
      " 0   Team                 61 non-null     object\n",
      " 1   Tournament           61 non-null     int64 \n",
      " 2   Score                61 non-null     object\n",
      " 3   PlayedGames          61 non-null     object\n",
      " 4   WonGames             61 non-null     object\n",
      " 5   DrawnGames           61 non-null     object\n",
      " 6   LostGames            61 non-null     object\n",
      " 7   BasketScored         61 non-null     object\n",
      " 8   BasketGiven          61 non-null     object\n",
      " 9   TournamentChampion   61 non-null     object\n",
      " 10  Runner-up            61 non-null     object\n",
      " 11  TeamLaunch           61 non-null     object\n",
      " 12  HighestPositionHeld  61 non-null     int64 \n",
      "dtypes: int64(2), object(11)\n",
      "memory usage: 6.3+ KB\n"
     ]
    }
   ],
   "source": [
    "df.info()"
   ]
  },
  {
   "cell_type": "code",
   "execution_count": 345,
   "id": "19853b37",
   "metadata": {},
   "outputs": [
    {
     "data": {
      "text/plain": [
       "Team                   0\n",
       "Tournament             0\n",
       "Score                  0\n",
       "PlayedGames            0\n",
       "WonGames               0\n",
       "DrawnGames             0\n",
       "LostGames              0\n",
       "BasketScored           0\n",
       "BasketGiven            0\n",
       "TournamentChampion     0\n",
       "Runner-up              0\n",
       "TeamLaunch             0\n",
       "HighestPositionHeld    0\n",
       "dtype: int64"
      ]
     },
     "execution_count": 345,
     "metadata": {},
     "output_type": "execute_result"
    }
   ],
   "source": [
    "df.isnull().sum()"
   ]
  },
  {
   "cell_type": "markdown",
   "id": "d0cb131e",
   "metadata": {},
   "source": [
    "##### removing the '-'"
   ]
  },
  {
   "cell_type": "code",
   "execution_count": 346,
   "id": "c47a5708",
   "metadata": {},
   "outputs": [
    {
     "data": {
      "text/html": [
       "<div>\n",
       "<style scoped>\n",
       "    .dataframe tbody tr th:only-of-type {\n",
       "        vertical-align: middle;\n",
       "    }\n",
       "\n",
       "    .dataframe tbody tr th {\n",
       "        vertical-align: top;\n",
       "    }\n",
       "\n",
       "    .dataframe thead th {\n",
       "        text-align: right;\n",
       "    }\n",
       "</style>\n",
       "<table border=\"1\" class=\"dataframe\">\n",
       "  <thead>\n",
       "    <tr style=\"text-align: right;\">\n",
       "      <th></th>\n",
       "      <th>Team</th>\n",
       "      <th>Tournament</th>\n",
       "      <th>Score</th>\n",
       "      <th>PlayedGames</th>\n",
       "      <th>WonGames</th>\n",
       "      <th>DrawnGames</th>\n",
       "      <th>LostGames</th>\n",
       "      <th>BasketScored</th>\n",
       "      <th>BasketGiven</th>\n",
       "      <th>TournamentChampion</th>\n",
       "      <th>Runner-up</th>\n",
       "      <th>TeamLaunch</th>\n",
       "      <th>HighestPositionHeld</th>\n",
       "    </tr>\n",
       "  </thead>\n",
       "  <tbody>\n",
       "    <tr>\n",
       "      <th>60</th>\n",
       "      <td>Team 61</td>\n",
       "      <td>1</td>\n",
       "      <td>-</td>\n",
       "      <td>-</td>\n",
       "      <td>-</td>\n",
       "      <td>-</td>\n",
       "      <td>-</td>\n",
       "      <td>-</td>\n",
       "      <td>-</td>\n",
       "      <td>-</td>\n",
       "      <td>-</td>\n",
       "      <td>2017~18</td>\n",
       "      <td>9</td>\n",
       "    </tr>\n",
       "  </tbody>\n",
       "</table>\n",
       "</div>"
      ],
      "text/plain": [
       "       Team  Tournament Score PlayedGames WonGames DrawnGames LostGames  \\\n",
       "60  Team 61           1     -           -        -          -         -   \n",
       "\n",
       "   BasketScored BasketGiven TournamentChampion Runner-up TeamLaunch  \\\n",
       "60            -           -                  -         -    2017~18   \n",
       "\n",
       "    HighestPositionHeld  \n",
       "60                    9  "
      ]
     },
     "execution_count": 346,
     "metadata": {},
     "output_type": "execute_result"
    }
   ],
   "source": [
    "df[df['Score']=='-']"
   ]
  },
  {
   "cell_type": "code",
   "execution_count": 347,
   "id": "e4b395bd",
   "metadata": {},
   "outputs": [],
   "source": [
    "df1=df.drop(index=60)"
   ]
  },
  {
   "cell_type": "code",
   "execution_count": 348,
   "id": "ceabb711",
   "metadata": {},
   "outputs": [],
   "source": [
    "# changing the datatype of the columns\n",
    "df1['Score']=df1['Score'].astype(int)\n",
    "df1['PlayedGames']=df1['PlayedGames'].astype(int)\n",
    "df1['WonGames']=df1['WonGames'].astype(int)\n",
    "df1['DrawnGames']=df1['DrawnGames'].astype(int)\n",
    "df1['LostGames']=df1['LostGames'].astype(int)\n",
    "df1['BasketScored']=df1['BasketScored'].astype(int)\n",
    "df1['BasketGiven']=df1['BasketGiven'].astype(int)"
   ]
  },
  {
   "cell_type": "code",
   "execution_count": 349,
   "id": "67d9e366",
   "metadata": {},
   "outputs": [],
   "source": [
    "# TournamentChampion, Runner-up changing the datatype and cleaning the the column\n",
    "df1[['TournamentChampion', 'Runner-up']]=df1[['TournamentChampion', 'Runner-up']].apply(lambda x : x.replace('-',0).astype(int))"
   ]
  },
  {
   "cell_type": "code",
   "execution_count": 350,
   "id": "6b8c7a43",
   "metadata": {},
   "outputs": [],
   "source": [
    "# teamlaunch \n",
    "df1['TeamLaunch']=df1['TeamLaunch'].str[:4]"
   ]
  },
  {
   "cell_type": "code",
   "execution_count": 351,
   "id": "5a57d40e",
   "metadata": {},
   "outputs": [],
   "source": [
    "# team column\n",
    "df1['Team']=list(map(lambda x : x.lstrip('Team'),df1['Team']))\n",
    "df1['Team']=df1['Team']"
   ]
  },
  {
   "cell_type": "code",
   "execution_count": 352,
   "id": "44a8067d",
   "metadata": {},
   "outputs": [
    {
     "name": "stdout",
     "output_type": "stream",
     "text": [
      "<class 'pandas.core.frame.DataFrame'>\n",
      "RangeIndex: 60 entries, 0 to 59\n",
      "Data columns (total 13 columns):\n",
      " #   Column               Non-Null Count  Dtype \n",
      "---  ------               --------------  ----- \n",
      " 0   Team                 60 non-null     object\n",
      " 1   Tournament           60 non-null     int64 \n",
      " 2   Score                60 non-null     int32 \n",
      " 3   PlayedGames          60 non-null     int32 \n",
      " 4   WonGames             60 non-null     int32 \n",
      " 5   DrawnGames           60 non-null     int32 \n",
      " 6   LostGames            60 non-null     int32 \n",
      " 7   BasketScored         60 non-null     int32 \n",
      " 8   BasketGiven          60 non-null     int32 \n",
      " 9   TournamentChampion   60 non-null     int32 \n",
      " 10  Runner-up            60 non-null     int32 \n",
      " 11  TeamLaunch           60 non-null     object\n",
      " 12  HighestPositionHeld  60 non-null     int64 \n",
      "dtypes: int32(9), int64(2), object(2)\n",
      "memory usage: 4.1+ KB\n"
     ]
    }
   ],
   "source": [
    "df1.info()"
   ]
  },
  {
   "cell_type": "markdown",
   "id": "745cf47c",
   "metadata": {},
   "source": [
    "## 2. Perform detailed statistical analysis and EDA using univariate, bi-variate and multivariate EDA techniques to get data driven insights on recommending which teams they can approach which will be a deal win for them.. Also as a data and statistics expert you have to develop a detailed performance report using this data.[ 15 points]"
   ]
  },
  {
   "cell_type": "code",
   "execution_count": 353,
   "id": "453e9424",
   "metadata": {},
   "outputs": [
    {
     "data": {
      "image/png": "[encoded data removed]",
      "text/plain": [
       "<Figure size 432x288 with 1 Axes>"
      ]
     },
     "metadata": {
      "needs_background": "light"
     },
     "output_type": "display_data"
    }
   ],
   "source": [
    "# tournament\n",
    "sns.histplot(data=df1,x='Tournament',kde=True)\n",
    "plt.show()"
   ]
  },
  {
   "cell_type": "code",
   "execution_count": 354,
   "id": "08c9faa2",
   "metadata": {},
   "outputs": [],
   "source": [
    "# team that are qualified which have played 50 or above tournamnets\n",
    "df1_qualified=df1[df1['Tournament']>=50]"
   ]
  },
  {
   "cell_type": "code",
   "execution_count": 355,
   "id": "cabc1913",
   "metadata": {},
   "outputs": [],
   "source": [
    "# winning percentage\n",
    "df1_qualified['Game_Winning_pct']=((df1_qualified['WonGames'])/(df1_qualified['PlayedGames']))*100"
   ]
  },
  {
   "cell_type": "code",
   "execution_count": 356,
   "id": "9f1a7120",
   "metadata": {},
   "outputs": [
    {
     "data": {
      "text/html": [
       "<div>\n",
       "<style scoped>\n",
       "    .dataframe tbody tr th:only-of-type {\n",
       "        vertical-align: middle;\n",
       "    }\n",
       "\n",
       "    .dataframe tbody tr th {\n",
       "        vertical-align: top;\n",
       "    }\n",
       "\n",
       "    .dataframe thead th {\n",
       "        text-align: right;\n",
       "    }\n",
       "</style>\n",
       "<table border=\"1\" class=\"dataframe\">\n",
       "  <thead>\n",
       "    <tr style=\"text-align: right;\">\n",
       "      <th></th>\n",
       "      <th>Team</th>\n",
       "      <th>Tournament</th>\n",
       "      <th>Score</th>\n",
       "      <th>PlayedGames</th>\n",
       "      <th>WonGames</th>\n",
       "      <th>DrawnGames</th>\n",
       "      <th>LostGames</th>\n",
       "      <th>BasketScored</th>\n",
       "      <th>BasketGiven</th>\n",
       "      <th>TournamentChampion</th>\n",
       "      <th>Runner-up</th>\n",
       "      <th>TeamLaunch</th>\n",
       "      <th>HighestPositionHeld</th>\n",
       "      <th>Game_Winning_pct</th>\n",
       "      <th>Basket_ratio</th>\n",
       "    </tr>\n",
       "  </thead>\n",
       "  <tbody>\n",
       "    <tr>\n",
       "      <th>0</th>\n",
       "      <td>1</td>\n",
       "      <td>86</td>\n",
       "      <td>4385</td>\n",
       "      <td>2762</td>\n",
       "      <td>1647</td>\n",
       "      <td>552</td>\n",
       "      <td>563</td>\n",
       "      <td>5947</td>\n",
       "      <td>3140</td>\n",
       "      <td>33</td>\n",
       "      <td>23</td>\n",
       "      <td>1929</td>\n",
       "      <td>1</td>\n",
       "      <td>59.630702</td>\n",
       "      <td>52.799731</td>\n",
       "    </tr>\n",
       "    <tr>\n",
       "      <th>1</th>\n",
       "      <td>2</td>\n",
       "      <td>86</td>\n",
       "      <td>4262</td>\n",
       "      <td>2762</td>\n",
       "      <td>1581</td>\n",
       "      <td>573</td>\n",
       "      <td>608</td>\n",
       "      <td>5900</td>\n",
       "      <td>3114</td>\n",
       "      <td>25</td>\n",
       "      <td>25</td>\n",
       "      <td>1929</td>\n",
       "      <td>1</td>\n",
       "      <td>57.241130</td>\n",
       "      <td>52.779661</td>\n",
       "    </tr>\n",
       "    <tr>\n",
       "      <th>2</th>\n",
       "      <td>3</td>\n",
       "      <td>80</td>\n",
       "      <td>3442</td>\n",
       "      <td>2614</td>\n",
       "      <td>1241</td>\n",
       "      <td>598</td>\n",
       "      <td>775</td>\n",
       "      <td>4534</td>\n",
       "      <td>3309</td>\n",
       "      <td>10</td>\n",
       "      <td>8</td>\n",
       "      <td>1929</td>\n",
       "      <td>1</td>\n",
       "      <td>47.475134</td>\n",
       "      <td>72.981914</td>\n",
       "    </tr>\n",
       "    <tr>\n",
       "      <th>3</th>\n",
       "      <td>4</td>\n",
       "      <td>82</td>\n",
       "      <td>3386</td>\n",
       "      <td>2664</td>\n",
       "      <td>1187</td>\n",
       "      <td>616</td>\n",
       "      <td>861</td>\n",
       "      <td>4398</td>\n",
       "      <td>3469</td>\n",
       "      <td>6</td>\n",
       "      <td>6</td>\n",
       "      <td>1931</td>\n",
       "      <td>1</td>\n",
       "      <td>44.557057</td>\n",
       "      <td>78.876762</td>\n",
       "    </tr>\n",
       "    <tr>\n",
       "      <th>4</th>\n",
       "      <td>5</td>\n",
       "      <td>86</td>\n",
       "      <td>3368</td>\n",
       "      <td>2762</td>\n",
       "      <td>1209</td>\n",
       "      <td>633</td>\n",
       "      <td>920</td>\n",
       "      <td>4631</td>\n",
       "      <td>3700</td>\n",
       "      <td>8</td>\n",
       "      <td>7</td>\n",
       "      <td>1929</td>\n",
       "      <td>1</td>\n",
       "      <td>43.772629</td>\n",
       "      <td>79.896351</td>\n",
       "    </tr>\n",
       "    <tr>\n",
       "      <th>5</th>\n",
       "      <td>6</td>\n",
       "      <td>73</td>\n",
       "      <td>2819</td>\n",
       "      <td>2408</td>\n",
       "      <td>990</td>\n",
       "      <td>531</td>\n",
       "      <td>887</td>\n",
       "      <td>3680</td>\n",
       "      <td>3373</td>\n",
       "      <td>1</td>\n",
       "      <td>4</td>\n",
       "      <td>1934</td>\n",
       "      <td>1</td>\n",
       "      <td>41.112957</td>\n",
       "      <td>91.657609</td>\n",
       "    </tr>\n",
       "    <tr>\n",
       "      <th>6</th>\n",
       "      <td>7</td>\n",
       "      <td>82</td>\n",
       "      <td>2792</td>\n",
       "      <td>2626</td>\n",
       "      <td>948</td>\n",
       "      <td>608</td>\n",
       "      <td>1070</td>\n",
       "      <td>3609</td>\n",
       "      <td>3889</td>\n",
       "      <td>0</td>\n",
       "      <td>0</td>\n",
       "      <td>1929</td>\n",
       "      <td>3</td>\n",
       "      <td>36.100533</td>\n",
       "      <td>107.758382</td>\n",
       "    </tr>\n",
       "    <tr>\n",
       "      <th>7</th>\n",
       "      <td>8</td>\n",
       "      <td>70</td>\n",
       "      <td>2573</td>\n",
       "      <td>2302</td>\n",
       "      <td>864</td>\n",
       "      <td>577</td>\n",
       "      <td>861</td>\n",
       "      <td>3228</td>\n",
       "      <td>3230</td>\n",
       "      <td>2</td>\n",
       "      <td>3</td>\n",
       "      <td>1929</td>\n",
       "      <td>1</td>\n",
       "      <td>37.532580</td>\n",
       "      <td>100.061958</td>\n",
       "    </tr>\n",
       "    <tr>\n",
       "      <th>8</th>\n",
       "      <td>9</td>\n",
       "      <td>58</td>\n",
       "      <td>2109</td>\n",
       "      <td>1986</td>\n",
       "      <td>698</td>\n",
       "      <td>522</td>\n",
       "      <td>766</td>\n",
       "      <td>2683</td>\n",
       "      <td>2847</td>\n",
       "      <td>0</td>\n",
       "      <td>1</td>\n",
       "      <td>1939</td>\n",
       "      <td>2</td>\n",
       "      <td>35.146022</td>\n",
       "      <td>106.112561</td>\n",
       "    </tr>\n",
       "    <tr>\n",
       "      <th>9</th>\n",
       "      <td>10</td>\n",
       "      <td>51</td>\n",
       "      <td>1884</td>\n",
       "      <td>1728</td>\n",
       "      <td>606</td>\n",
       "      <td>440</td>\n",
       "      <td>682</td>\n",
       "      <td>2159</td>\n",
       "      <td>2492</td>\n",
       "      <td>1</td>\n",
       "      <td>0</td>\n",
       "      <td>1932</td>\n",
       "      <td>1</td>\n",
       "      <td>35.069444</td>\n",
       "      <td>115.423807</td>\n",
       "    </tr>\n",
       "    <tr>\n",
       "      <th>11</th>\n",
       "      <td>12</td>\n",
       "      <td>51</td>\n",
       "      <td>1789</td>\n",
       "      <td>1698</td>\n",
       "      <td>586</td>\n",
       "      <td>389</td>\n",
       "      <td>723</td>\n",
       "      <td>2278</td>\n",
       "      <td>2624</td>\n",
       "      <td>0</td>\n",
       "      <td>0</td>\n",
       "      <td>1939</td>\n",
       "      <td>4</td>\n",
       "      <td>34.511190</td>\n",
       "      <td>115.188762</td>\n",
       "    </tr>\n",
       "  </tbody>\n",
       "</table>\n",
       "</div>"
      ],
      "text/plain": [
       "   Team  Tournament  Score  PlayedGames  WonGames  DrawnGames  LostGames  \\\n",
       "0     1          86   4385         2762      1647         552        563   \n",
       "1     2          86   4262         2762      1581         573        608   \n",
       "2     3          80   3442         2614      1241         598        775   \n",
       "3     4          82   3386         2664      1187         616        861   \n",
       "4     5          86   3368         2762      1209         633        920   \n",
       "5     6          73   2819         2408       990         531        887   \n",
       "6     7          82   2792         2626       948         608       1070   \n",
       "7     8          70   2573         2302       864         577        861   \n",
       "8     9          58   2109         1986       698         522        766   \n",
       "9    10          51   1884         1728       606         440        682   \n",
       "11   12          51   1789         1698       586         389        723   \n",
       "\n",
       "    BasketScored  BasketGiven  TournamentChampion  Runner-up TeamLaunch  \\\n",
       "0           5947         3140                  33         23       1929   \n",
       "1           5900         3114                  25         25       1929   \n",
       "2           4534         3309                  10          8       1929   \n",
       "3           4398         3469                   6          6       1931   \n",
       "4           4631         3700                   8          7       1929   \n",
       "5           3680         3373                   1          4       1934   \n",
       "6           3609         3889                   0          0       1929   \n",
       "7           3228         3230                   2          3       1929   \n",
       "8           2683         2847                   0          1       1939   \n",
       "9           2159         2492                   1          0       1932   \n",
       "11          2278         2624                   0          0       1939   \n",
       "\n",
       "    HighestPositionHeld  Game_Winning_pct  Basket_ratio  \n",
       "0                     1         59.630702     52.799731  \n",
       "1                     1         57.241130     52.779661  \n",
       "2                     1         47.475134     72.981914  \n",
       "3                     1         44.557057     78.876762  \n",
       "4                     1         43.772629     79.896351  \n",
       "5                     1         41.112957     91.657609  \n",
       "6                     3         36.100533    107.758382  \n",
       "7                     1         37.532580    100.061958  \n",
       "8                     2         35.146022    106.112561  \n",
       "9                     1         35.069444    115.423807  \n",
       "11                    4         34.511190    115.188762  "
      ]
     },
     "execution_count": 356,
     "metadata": {},
     "output_type": "execute_result"
    }
   ],
   "source": [
    "# basket percentage(whose percentage is high is not the best)\n",
    "df1_qualified['Basket_ratio']=((df1_qualified['BasketGiven'])/(df1_qualified['BasketScored']))*100\n",
    "df1_qualified"
   ]
  },
  {
   "cell_type": "code",
   "execution_count": 359,
   "id": "429763ca",
   "metadata": {},
   "outputs": [
    {
     "data": {
      "text/html": [
       "<div>\n",
       "<style scoped>\n",
       "    .dataframe tbody tr th:only-of-type {\n",
       "        vertical-align: middle;\n",
       "    }\n",
       "\n",
       "    .dataframe tbody tr th {\n",
       "        vertical-align: top;\n",
       "    }\n",
       "\n",
       "    .dataframe thead th {\n",
       "        text-align: right;\n",
       "    }\n",
       "</style>\n",
       "<table border=\"1\" class=\"dataframe\">\n",
       "  <thead>\n",
       "    <tr style=\"text-align: right;\">\n",
       "      <th></th>\n",
       "      <th>Team</th>\n",
       "      <th>Tournament</th>\n",
       "      <th>Score</th>\n",
       "      <th>PlayedGames</th>\n",
       "      <th>WonGames</th>\n",
       "      <th>DrawnGames</th>\n",
       "      <th>LostGames</th>\n",
       "      <th>BasketScored</th>\n",
       "      <th>BasketGiven</th>\n",
       "      <th>TournamentChampion</th>\n",
       "      <th>Runner-up</th>\n",
       "      <th>TeamLaunch</th>\n",
       "      <th>HighestPositionHeld</th>\n",
       "      <th>Game_Winning_pct</th>\n",
       "      <th>Basket_ratio</th>\n",
       "    </tr>\n",
       "  </thead>\n",
       "  <tbody>\n",
       "    <tr>\n",
       "      <th>0</th>\n",
       "      <td>1</td>\n",
       "      <td>86</td>\n",
       "      <td>4385</td>\n",
       "      <td>2762</td>\n",
       "      <td>1647</td>\n",
       "      <td>552</td>\n",
       "      <td>563</td>\n",
       "      <td>5947</td>\n",
       "      <td>3140</td>\n",
       "      <td>33</td>\n",
       "      <td>23</td>\n",
       "      <td>1929</td>\n",
       "      <td>1</td>\n",
       "      <td>59.630702</td>\n",
       "      <td>52.799731</td>\n",
       "    </tr>\n",
       "    <tr>\n",
       "      <th>1</th>\n",
       "      <td>2</td>\n",
       "      <td>86</td>\n",
       "      <td>4262</td>\n",
       "      <td>2762</td>\n",
       "      <td>1581</td>\n",
       "      <td>573</td>\n",
       "      <td>608</td>\n",
       "      <td>5900</td>\n",
       "      <td>3114</td>\n",
       "      <td>25</td>\n",
       "      <td>25</td>\n",
       "      <td>1929</td>\n",
       "      <td>1</td>\n",
       "      <td>57.241130</td>\n",
       "      <td>52.779661</td>\n",
       "    </tr>\n",
       "    <tr>\n",
       "      <th>2</th>\n",
       "      <td>3</td>\n",
       "      <td>80</td>\n",
       "      <td>3442</td>\n",
       "      <td>2614</td>\n",
       "      <td>1241</td>\n",
       "      <td>598</td>\n",
       "      <td>775</td>\n",
       "      <td>4534</td>\n",
       "      <td>3309</td>\n",
       "      <td>10</td>\n",
       "      <td>8</td>\n",
       "      <td>1929</td>\n",
       "      <td>1</td>\n",
       "      <td>47.475134</td>\n",
       "      <td>72.981914</td>\n",
       "    </tr>\n",
       "    <tr>\n",
       "      <th>3</th>\n",
       "      <td>4</td>\n",
       "      <td>82</td>\n",
       "      <td>3386</td>\n",
       "      <td>2664</td>\n",
       "      <td>1187</td>\n",
       "      <td>616</td>\n",
       "      <td>861</td>\n",
       "      <td>4398</td>\n",
       "      <td>3469</td>\n",
       "      <td>6</td>\n",
       "      <td>6</td>\n",
       "      <td>1931</td>\n",
       "      <td>1</td>\n",
       "      <td>44.557057</td>\n",
       "      <td>78.876762</td>\n",
       "    </tr>\n",
       "    <tr>\n",
       "      <th>4</th>\n",
       "      <td>5</td>\n",
       "      <td>86</td>\n",
       "      <td>3368</td>\n",
       "      <td>2762</td>\n",
       "      <td>1209</td>\n",
       "      <td>633</td>\n",
       "      <td>920</td>\n",
       "      <td>4631</td>\n",
       "      <td>3700</td>\n",
       "      <td>8</td>\n",
       "      <td>7</td>\n",
       "      <td>1929</td>\n",
       "      <td>1</td>\n",
       "      <td>43.772629</td>\n",
       "      <td>79.896351</td>\n",
       "    </tr>\n",
       "    <tr>\n",
       "      <th>5</th>\n",
       "      <td>6</td>\n",
       "      <td>73</td>\n",
       "      <td>2819</td>\n",
       "      <td>2408</td>\n",
       "      <td>990</td>\n",
       "      <td>531</td>\n",
       "      <td>887</td>\n",
       "      <td>3680</td>\n",
       "      <td>3373</td>\n",
       "      <td>1</td>\n",
       "      <td>4</td>\n",
       "      <td>1934</td>\n",
       "      <td>1</td>\n",
       "      <td>41.112957</td>\n",
       "      <td>91.657609</td>\n",
       "    </tr>\n",
       "    <tr>\n",
       "      <th>7</th>\n",
       "      <td>8</td>\n",
       "      <td>70</td>\n",
       "      <td>2573</td>\n",
       "      <td>2302</td>\n",
       "      <td>864</td>\n",
       "      <td>577</td>\n",
       "      <td>861</td>\n",
       "      <td>3228</td>\n",
       "      <td>3230</td>\n",
       "      <td>2</td>\n",
       "      <td>3</td>\n",
       "      <td>1929</td>\n",
       "      <td>1</td>\n",
       "      <td>37.532580</td>\n",
       "      <td>100.061958</td>\n",
       "    </tr>\n",
       "    <tr>\n",
       "      <th>9</th>\n",
       "      <td>10</td>\n",
       "      <td>51</td>\n",
       "      <td>1884</td>\n",
       "      <td>1728</td>\n",
       "      <td>606</td>\n",
       "      <td>440</td>\n",
       "      <td>682</td>\n",
       "      <td>2159</td>\n",
       "      <td>2492</td>\n",
       "      <td>1</td>\n",
       "      <td>0</td>\n",
       "      <td>1932</td>\n",
       "      <td>1</td>\n",
       "      <td>35.069444</td>\n",
       "      <td>115.423807</td>\n",
       "    </tr>\n",
       "  </tbody>\n",
       "</table>\n",
       "</div>"
      ],
      "text/plain": [
       "  Team  Tournament  Score  PlayedGames  WonGames  DrawnGames  LostGames  \\\n",
       "0    1          86   4385         2762      1647         552        563   \n",
       "1    2          86   4262         2762      1581         573        608   \n",
       "2    3          80   3442         2614      1241         598        775   \n",
       "3    4          82   3386         2664      1187         616        861   \n",
       "4    5          86   3368         2762      1209         633        920   \n",
       "5    6          73   2819         2408       990         531        887   \n",
       "7    8          70   2573         2302       864         577        861   \n",
       "9   10          51   1884         1728       606         440        682   \n",
       "\n",
       "   BasketScored  BasketGiven  TournamentChampion  Runner-up TeamLaunch  \\\n",
       "0          5947         3140                  33         23       1929   \n",
       "1          5900         3114                  25         25       1929   \n",
       "2          4534         3309                  10          8       1929   \n",
       "3          4398         3469                   6          6       1931   \n",
       "4          4631         3700                   8          7       1929   \n",
       "5          3680         3373                   1          4       1934   \n",
       "7          3228         3230                   2          3       1929   \n",
       "9          2159         2492                   1          0       1932   \n",
       "\n",
       "   HighestPositionHeld  Game_Winning_pct  Basket_ratio  \n",
       "0                    1         59.630702     52.799731  \n",
       "1                    1         57.241130     52.779661  \n",
       "2                    1         47.475134     72.981914  \n",
       "3                    1         44.557057     78.876762  \n",
       "4                    1         43.772629     79.896351  \n",
       "5                    1         41.112957     91.657609  \n",
       "7                    1         37.532580    100.061958  \n",
       "9                    1         35.069444    115.423807  "
      ]
     },
     "execution_count": 359,
     "metadata": {},
     "output_type": "execute_result"
    }
   ],
   "source": [
    "# team that are semi finalist which have HighestPositionHeld 1\n",
    "df1_qualified=df1_qualified[df1_qualified['HighestPositionHeld']==1]\n",
    "df1_qualified"
   ]
  },
  {
   "cell_type": "code",
   "execution_count": 360,
   "id": "47e5f564",
   "metadata": {},
   "outputs": [
    {
     "data": {
      "text/html": [
       "<div>\n",
       "<style scoped>\n",
       "    .dataframe tbody tr th:only-of-type {\n",
       "        vertical-align: middle;\n",
       "    }\n",
       "\n",
       "    .dataframe tbody tr th {\n",
       "        vertical-align: top;\n",
       "    }\n",
       "\n",
       "    .dataframe thead th {\n",
       "        text-align: right;\n",
       "    }\n",
       "</style>\n",
       "<table border=\"1\" class=\"dataframe\">\n",
       "  <thead>\n",
       "    <tr style=\"text-align: right;\">\n",
       "      <th></th>\n",
       "      <th>Team</th>\n",
       "      <th>Tournament</th>\n",
       "      <th>Score</th>\n",
       "      <th>PlayedGames</th>\n",
       "      <th>WonGames</th>\n",
       "      <th>DrawnGames</th>\n",
       "      <th>LostGames</th>\n",
       "      <th>BasketScored</th>\n",
       "      <th>BasketGiven</th>\n",
       "      <th>TournamentChampion</th>\n",
       "      <th>Runner-up</th>\n",
       "      <th>TeamLaunch</th>\n",
       "      <th>HighestPositionHeld</th>\n",
       "      <th>Game_Winning_pct</th>\n",
       "      <th>Basket_ratio</th>\n",
       "      <th>Tournament_winning_pct</th>\n",
       "    </tr>\n",
       "  </thead>\n",
       "  <tbody>\n",
       "    <tr>\n",
       "      <th>0</th>\n",
       "      <td>1</td>\n",
       "      <td>86</td>\n",
       "      <td>4385</td>\n",
       "      <td>2762</td>\n",
       "      <td>1647</td>\n",
       "      <td>552</td>\n",
       "      <td>563</td>\n",
       "      <td>5947</td>\n",
       "      <td>3140</td>\n",
       "      <td>33</td>\n",
       "      <td>23</td>\n",
       "      <td>1929</td>\n",
       "      <td>1</td>\n",
       "      <td>59.630702</td>\n",
       "      <td>52.799731</td>\n",
       "      <td>38.372093</td>\n",
       "    </tr>\n",
       "    <tr>\n",
       "      <th>1</th>\n",
       "      <td>2</td>\n",
       "      <td>86</td>\n",
       "      <td>4262</td>\n",
       "      <td>2762</td>\n",
       "      <td>1581</td>\n",
       "      <td>573</td>\n",
       "      <td>608</td>\n",
       "      <td>5900</td>\n",
       "      <td>3114</td>\n",
       "      <td>25</td>\n",
       "      <td>25</td>\n",
       "      <td>1929</td>\n",
       "      <td>1</td>\n",
       "      <td>57.241130</td>\n",
       "      <td>52.779661</td>\n",
       "      <td>29.069767</td>\n",
       "    </tr>\n",
       "    <tr>\n",
       "      <th>2</th>\n",
       "      <td>3</td>\n",
       "      <td>80</td>\n",
       "      <td>3442</td>\n",
       "      <td>2614</td>\n",
       "      <td>1241</td>\n",
       "      <td>598</td>\n",
       "      <td>775</td>\n",
       "      <td>4534</td>\n",
       "      <td>3309</td>\n",
       "      <td>10</td>\n",
       "      <td>8</td>\n",
       "      <td>1929</td>\n",
       "      <td>1</td>\n",
       "      <td>47.475134</td>\n",
       "      <td>72.981914</td>\n",
       "      <td>12.500000</td>\n",
       "    </tr>\n",
       "    <tr>\n",
       "      <th>3</th>\n",
       "      <td>4</td>\n",
       "      <td>82</td>\n",
       "      <td>3386</td>\n",
       "      <td>2664</td>\n",
       "      <td>1187</td>\n",
       "      <td>616</td>\n",
       "      <td>861</td>\n",
       "      <td>4398</td>\n",
       "      <td>3469</td>\n",
       "      <td>6</td>\n",
       "      <td>6</td>\n",
       "      <td>1931</td>\n",
       "      <td>1</td>\n",
       "      <td>44.557057</td>\n",
       "      <td>78.876762</td>\n",
       "      <td>7.317073</td>\n",
       "    </tr>\n",
       "    <tr>\n",
       "      <th>4</th>\n",
       "      <td>5</td>\n",
       "      <td>86</td>\n",
       "      <td>3368</td>\n",
       "      <td>2762</td>\n",
       "      <td>1209</td>\n",
       "      <td>633</td>\n",
       "      <td>920</td>\n",
       "      <td>4631</td>\n",
       "      <td>3700</td>\n",
       "      <td>8</td>\n",
       "      <td>7</td>\n",
       "      <td>1929</td>\n",
       "      <td>1</td>\n",
       "      <td>43.772629</td>\n",
       "      <td>79.896351</td>\n",
       "      <td>9.302326</td>\n",
       "    </tr>\n",
       "    <tr>\n",
       "      <th>5</th>\n",
       "      <td>6</td>\n",
       "      <td>73</td>\n",
       "      <td>2819</td>\n",
       "      <td>2408</td>\n",
       "      <td>990</td>\n",
       "      <td>531</td>\n",
       "      <td>887</td>\n",
       "      <td>3680</td>\n",
       "      <td>3373</td>\n",
       "      <td>1</td>\n",
       "      <td>4</td>\n",
       "      <td>1934</td>\n",
       "      <td>1</td>\n",
       "      <td>41.112957</td>\n",
       "      <td>91.657609</td>\n",
       "      <td>1.369863</td>\n",
       "    </tr>\n",
       "    <tr>\n",
       "      <th>7</th>\n",
       "      <td>8</td>\n",
       "      <td>70</td>\n",
       "      <td>2573</td>\n",
       "      <td>2302</td>\n",
       "      <td>864</td>\n",
       "      <td>577</td>\n",
       "      <td>861</td>\n",
       "      <td>3228</td>\n",
       "      <td>3230</td>\n",
       "      <td>2</td>\n",
       "      <td>3</td>\n",
       "      <td>1929</td>\n",
       "      <td>1</td>\n",
       "      <td>37.532580</td>\n",
       "      <td>100.061958</td>\n",
       "      <td>2.857143</td>\n",
       "    </tr>\n",
       "    <tr>\n",
       "      <th>9</th>\n",
       "      <td>10</td>\n",
       "      <td>51</td>\n",
       "      <td>1884</td>\n",
       "      <td>1728</td>\n",
       "      <td>606</td>\n",
       "      <td>440</td>\n",
       "      <td>682</td>\n",
       "      <td>2159</td>\n",
       "      <td>2492</td>\n",
       "      <td>1</td>\n",
       "      <td>0</td>\n",
       "      <td>1932</td>\n",
       "      <td>1</td>\n",
       "      <td>35.069444</td>\n",
       "      <td>115.423807</td>\n",
       "      <td>1.960784</td>\n",
       "    </tr>\n",
       "  </tbody>\n",
       "</table>\n",
       "</div>"
      ],
      "text/plain": [
       "  Team  Tournament  Score  PlayedGames  WonGames  DrawnGames  LostGames  \\\n",
       "0    1          86   4385         2762      1647         552        563   \n",
       "1    2          86   4262         2762      1581         573        608   \n",
       "2    3          80   3442         2614      1241         598        775   \n",
       "3    4          82   3386         2664      1187         616        861   \n",
       "4    5          86   3368         2762      1209         633        920   \n",
       "5    6          73   2819         2408       990         531        887   \n",
       "7    8          70   2573         2302       864         577        861   \n",
       "9   10          51   1884         1728       606         440        682   \n",
       "\n",
       "   BasketScored  BasketGiven  TournamentChampion  Runner-up TeamLaunch  \\\n",
       "0          5947         3140                  33         23       1929   \n",
       "1          5900         3114                  25         25       1929   \n",
       "2          4534         3309                  10          8       1929   \n",
       "3          4398         3469                   6          6       1931   \n",
       "4          4631         3700                   8          7       1929   \n",
       "5          3680         3373                   1          4       1934   \n",
       "7          3228         3230                   2          3       1929   \n",
       "9          2159         2492                   1          0       1932   \n",
       "\n",
       "   HighestPositionHeld  Game_Winning_pct  Basket_ratio  Tournament_winning_pct  \n",
       "0                    1         59.630702     52.799731               38.372093  \n",
       "1                    1         57.241130     52.779661               29.069767  \n",
       "2                    1         47.475134     72.981914               12.500000  \n",
       "3                    1         44.557057     78.876762                7.317073  \n",
       "4                    1         43.772629     79.896351                9.302326  \n",
       "5                    1         41.112957     91.657609                1.369863  \n",
       "7                    1         37.532580    100.061958                2.857143  \n",
       "9                    1         35.069444    115.423807                1.960784  "
      ]
     },
     "execution_count": 360,
     "metadata": {},
     "output_type": "execute_result"
    }
   ],
   "source": [
    "# tournament winning pct\n",
    "df1_qualified['Tournament_winning_pct']=(df1_qualified['TournamentChampion']/df1_qualified['Tournament'])*100"
   ]
  },
  {
   "cell_type": "code",
   "execution_count": 361,
   "id": "4bf4f877",
   "metadata": {},
   "outputs": [
    {
     "data": {
      "text/plain": [
       "<AxesSubplot:>"
      ]
     },
     "execution_count": 361,
     "metadata": {},
     "output_type": "execute_result"
    },
    {
     "data": {
      "image/png": "[encoded data removed]",
      "text/plain": [
       "<Figure size 720x576 with 2 Axes>"
      ]
     },
     "metadata": {
      "needs_background": "light"
     },
     "output_type": "display_data"
    }
   ],
   "source": [
    "# finding correlation between two variables\n",
    "plt.figure(figsize=(10,8))\n",
    "sns.heatmap(df1_qualified.corr(),annot=True)"
   ]
  },
  {
   "cell_type": "code",
   "execution_count": 363,
   "id": "2c53298c",
   "metadata": {},
   "outputs": [
    {
     "data": {
      "text/plain": [
       "<AxesSubplot:xlabel='Score', ylabel='Team'>"
      ]
     },
     "execution_count": 363,
     "metadata": {},
     "output_type": "execute_result"
    },
    {
     "data": {
      "image/png": "[encoded data removed]",
      "text/plain": [
       "<Figure size 1296x1080 with 4 Axes>"
      ]
     },
     "metadata": {
      "needs_background": "light"
     },
     "output_type": "display_data"
    }
   ],
   "source": [
    "# visualizing the finalist from this\n",
    "plt.figure(figsize=(18,15))\n",
    "plt.subplot(2,2,1)\n",
    "sns.barplot(data=df1_qualified,y='Team',x='Game_Winning_pct')\n",
    "plt.subplot(2,2,2)\n",
    "sns.barplot(data=df1_qualified,y='Team',x='Basket_ratio')\n",
    "plt.subplot(2,2,3)\n",
    "sns.barplot(data=df1_qualified,y='Team',x='Tournament_winning_pct')\n",
    "plt.subplot(2,2,4)\n",
    "sns.barplot(data=df1_qualified,y='Team',x='Score')"
   ]
  },
  {
   "cell_type": "markdown",
   "id": "d3fd000f",
   "metadata": {},
   "source": [
    "## which team has played highest number of \tTournament?"
   ]
  },
  {
   "cell_type": "code",
   "execution_count": 364,
   "id": "8f1d5563",
   "metadata": {},
   "outputs": [
    {
     "data": {
      "text/plain": [
       "Team\n",
       " 1    86\n",
       "Name: Tournament, dtype: int64"
      ]
     },
     "execution_count": 364,
     "metadata": {},
     "output_type": "execute_result"
    }
   ],
   "source": [
    "df1.groupby('Team')['Tournament'].max()[0:1]\n",
    "# as you can see team 1 has played the highest number of tournaments."
   ]
  },
  {
   "cell_type": "raw",
   "id": "9cc6da99",
   "metadata": {},
   "source": [
    "From the above analysis, we find that Team1 and Team2 are the teams that have to be taken into consideration for making the investments. Only these 2 teams are consistent enough. Team1 is our safest bet as they are more consitent, which will increase our ROI compared to other teams."
   ]
  },
  {
   "cell_type": "markdown",
   "id": "11128bc5",
   "metadata": {},
   "source": [
    "## 3. Please include any improvements or suggestions to the association management on quality, quantity, variety, velocity,veracity etc. on the data points collected by the association to perform a better data analysis in future.Submit a 200-500 words report to the management[5-points]"
   ]
  },
  {
   "cell_type": "code",
   "execution_count": null,
   "id": "f602c1ff",
   "metadata": {},
   "outputs": [],
   "source": []
  }
 ],
 "metadata": {
  "kernelspec": {
   "display_name": "Python 3 (ipykernel)",
   "language": "python",
   "name": "python3"
  },
  "language_info": {
   "codemirror_mode": {
    "name": "ipython",
    "version": 3
   },
   "file_extension": ".py",
   "mimetype": "text/x-python",
   "name": "python",
   "nbconvert_exporter": "python",
   "pygments_lexer": "ipython3",
   "version": "3.9.12"
  }
 },
 "nbformat": 4,
 "nbformat_minor": 5
}
